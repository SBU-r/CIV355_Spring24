{
 "cells": [
  {
   "cell_type": "markdown",
   "metadata": {
    "toc": true
   },
   "source": [
    "<h1>Module 1: Data Understanding and Summary<span class=\"tocSkip\"></span></h1>\n",
    "<div class=\"toc\"><ul class=\"toc-item\"><li><span><a href=\"#1.-Get-to-Know-the-Dataset\" data-toc-modified-id=\"1.-Get-to-Know-the-Dataset-1\">1. Get to Know the Dataset</a></span><ul class=\"toc-item\"><li><span><a href=\"#1.1-Dataframe\" data-toc-modified-id=\"1.1-Dataframe-1.1\">1.1 Dataframe</a></span></li><li><span><a href=\"#1.2-Data-Modification\" data-toc-modified-id=\"1.2-Data-Modification-1.2\">1.2 Data Modification</a></span></li><li><span><a href=\"#1.3-Sorting\" data-toc-modified-id=\"1.3-Sorting-1.3\">1.3 Sorting</a></span></li><li><span><a href=\"#1.4-Filtering\" data-toc-modified-id=\"1.4-Filtering-1.4\">1.4 Filtering</a></span></li></ul></li><li><span><a href=\"#2-Data-Distribution\" data-toc-modified-id=\"2-Data-Distribution-2\">2 Data Distribution</a></span><ul class=\"toc-item\"><li><span><a href=\"#2.1-Categorical-Data\" data-toc-modified-id=\"2.1-Categorical-Data-2.1\">2.1 Categorical Data</a></span></li><li><span><a href=\"#2.2-Numerical-Data\" data-toc-modified-id=\"2.2-Numerical-Data-2.2\">2.2 Numerical Data</a></span></li></ul></li><li><span><a href=\"#3.-Numerical-Data-Description\" data-toc-modified-id=\"3.-Numerical-Data-Description-3\">3. Numerical Data Description</a></span><ul class=\"toc-item\"><li><span><a href=\"#3.1-Measurements-of-Locations\" data-toc-modified-id=\"3.1-Measurements-of-Locations-3.1\">3.1 Measurements of Locations</a></span></li><li><span><a href=\"#3.2-Measurements-of-Variability\" data-toc-modified-id=\"3.2-Measurements-of-Variability-3.2\">3.2 Measurements of Variability</a></span></li><li><span><a href=\"#3.2-Measurements-of-Distribution\" data-toc-modified-id=\"3.2-Measurements-of-Distribution-3.3\">3.2 Measurements of Distribution</a></span></li><li><span><a href=\"#3.4-Measurements-of-Correlation\" data-toc-modified-id=\"3.4-Measurements-of-Correlation-3.4\">3.4 Measurements of Correlation</a></span></li></ul></li><li><span><a href=\"#4.-Grouping-&amp;-Aggregrating-Data\" data-toc-modified-id=\"4.-Grouping-&amp;-Aggregrating-Data-4\">4. Grouping &amp; Aggregrating Data</a></span></li><li><span><a href=\"#Table-Conditional-Coloring\" data-toc-modified-id=\"Table-Conditional-Coloring-5\">Table Conditional Coloring</a></span><ul class=\"toc-item\"><li><span><a href=\"#Color-Scale\" data-toc-modified-id=\"Color-Scale-5.1\">Color Scale</a></span></li><li><span><a href=\"#Color-Bar\" data-toc-modified-id=\"Color-Bar-5.2\">Color Bar</a></span></li></ul></li></ul></div>"
   ]
  },
  {
   "cell_type": "code",
   "execution_count": 1,
   "metadata": {
    "colab": {
     "base_uri": "https://localhost:8080/"
    },
    "executionInfo": {
     "elapsed": 19929,
     "status": "ok",
     "timestamp": 1695075422375,
     "user": {
      "displayName": "Ruwen Qin",
      "userId": "01885423067234457717"
     },
     "user_tz": 240
    },
    "id": "IwI_PxadRcW9",
    "outputId": "a5bb2462-c720-4085-ab77-85f080c5a3ab"
   },
   "outputs": [],
   "source": [
    "# If you use Colab Notebook, you can uncomment the following to mount your Google Drive to Colab\n",
    "# After that, your colab notebook can read/write files and data in your Google Drive\n",
    "\n",
    "#from google.colab import drive\n",
    "#drive.mount('/content/drive')"
   ]
  },
  {
   "cell_type": "code",
   "execution_count": 2,
   "metadata": {
    "colab": {
     "base_uri": "https://localhost:8080/"
    },
    "executionInfo": {
     "elapsed": 10,
     "status": "ok",
     "timestamp": 1695075422376,
     "user": {
      "displayName": "Ruwen Qin",
      "userId": "01885423067234457717"
     },
     "user_tz": 240
    },
    "id": "PsIesNpkQnjr",
    "outputId": "6fe628b2-1231-4dc3-c4ae-9e8ec6d058f5"
   },
   "outputs": [],
   "source": [
    "# If you use Colab Notebook, please change the current directory to be the folder that you save \n",
    "# your Notebook and data folder for example, I save my Colab files and data in the following location\n",
    "\n",
    "#%cd /content/drive/MyDrive/Colab\\ Notebooks"
   ]
  },
  {
   "cell_type": "code",
   "execution_count": 3,
   "metadata": {},
   "outputs": [],
   "source": [
    "# import required libraries and modules, and define default setting for the notebook\n",
    "\n",
    "import numpy as np # a foundamental package for scientific computing https://numpy.org/\n",
    "#np.random.seed(12345)\n",
    "#np.set_printoptions(precision=4, suppress=True)\n",
    "\n",
    "import pandas as pd # a library of data analysis, https://pandas.pydata.org/\n",
    "from pandas import Series, DataFrame # import modules into the local namespace if they are frequently used\n",
    "#PREVIOUS_MAX_ROWS = pd.options.display.max_rows\n",
    "#pd.options.display.max_rows = 20\n",
    "#pd.options.display.max_columns = 20\n",
    "#pd.options.display.max_colwidth = 80\n",
    "\n",
    "import matplotlib.pyplot as plt # a module for plotting, https://matplotlib.org/\n",
    "plt.rc(\"figure\", figsize=(10, 6))\n",
    "\n",
    "import seaborn as sns # a module for data visualization, https://seaborn.pydata.org/index.html\n",
    "\n",
    "\n",
    "# to display multiple outputs in one cell\n",
    "from IPython.core.interactiveshell import InteractiveShell\n",
    "InteractiveShell.ast_node_interactivity = \"all\""
   ]
  },
  {
   "cell_type": "markdown",
   "metadata": {
    "id": "IDd0QFuzot-f"
   },
   "source": [
    "# 1. Get to Know the Dataset"
   ]
  },
  {
   "cell_type": "markdown",
   "metadata": {
    "id": "Mnm4tucf89me"
   },
   "source": [
    "## 1.1 Dataframe"
   ]
  },
  {
   "cell_type": "code",
   "execution_count": 4,
   "metadata": {
    "colab": {
     "base_uri": "https://localhost:8080/"
    },
    "executionInfo": {
     "elapsed": 460,
     "status": "ok",
     "timestamp": 1695075426973,
     "user": {
      "displayName": "Ruwen Qin",
      "userId": "01885423067234457717"
     },
     "user_tz": 240
    },
    "id": "lv6jyI7pYdyH",
    "outputId": "7b8cb71f-f9a9-4904-83d2-e90c00083e47"
   },
   "outputs": [
    {
     "data": {
      "text/html": [
       "<div>\n",
       "<style scoped>\n",
       "    .dataframe tbody tr th:only-of-type {\n",
       "        vertical-align: middle;\n",
       "    }\n",
       "\n",
       "    .dataframe tbody tr th {\n",
       "        vertical-align: top;\n",
       "    }\n",
       "\n",
       "    .dataframe thead th {\n",
       "        text-align: right;\n",
       "    }\n",
       "</style>\n",
       "<table border=\"1\" class=\"dataframe\">\n",
       "  <thead>\n",
       "    <tr style=\"text-align: right;\">\n",
       "      <th></th>\n",
       "      <th>Unnamed: 0</th>\n",
       "      <th>Date</th>\n",
       "      <th>Day</th>\n",
       "      <th>High_Temp_F</th>\n",
       "      <th>Low_Temp_F</th>\n",
       "      <th>Precipitation</th>\n",
       "      <th>Weather</th>\n",
       "      <th>Brooklyn_Bridge</th>\n",
       "      <th>Manhattan_Bridge</th>\n",
       "      <th>Williamsburg_Bridge</th>\n",
       "      <th>Queensboro_Bridge</th>\n",
       "      <th>Total</th>\n",
       "    </tr>\n",
       "  </thead>\n",
       "  <tbody>\n",
       "    <tr>\n",
       "      <th>0</th>\n",
       "      <td>1</td>\n",
       "      <td>1-Apr</td>\n",
       "      <td>Saturday</td>\n",
       "      <td>46.0</td>\n",
       "      <td>37.0</td>\n",
       "      <td>0.00</td>\n",
       "      <td>N</td>\n",
       "      <td>606</td>\n",
       "      <td>1446</td>\n",
       "      <td>1915</td>\n",
       "      <td>1430</td>\n",
       "      <td>5397</td>\n",
       "    </tr>\n",
       "    <tr>\n",
       "      <th>1</th>\n",
       "      <td>2</td>\n",
       "      <td>2-Apr</td>\n",
       "      <td>Sunday</td>\n",
       "      <td>62.1</td>\n",
       "      <td>41.0</td>\n",
       "      <td>0.00</td>\n",
       "      <td>N</td>\n",
       "      <td>2021</td>\n",
       "      <td>3943</td>\n",
       "      <td>4207</td>\n",
       "      <td>2862</td>\n",
       "      <td>13033</td>\n",
       "    </tr>\n",
       "    <tr>\n",
       "      <th>2</th>\n",
       "      <td>3</td>\n",
       "      <td>3-Apr</td>\n",
       "      <td>Monday</td>\n",
       "      <td>63.0</td>\n",
       "      <td>50.0</td>\n",
       "      <td>0.03</td>\n",
       "      <td>R</td>\n",
       "      <td>2470</td>\n",
       "      <td>4988</td>\n",
       "      <td>5178</td>\n",
       "      <td>3689</td>\n",
       "      <td>16325</td>\n",
       "    </tr>\n",
       "    <tr>\n",
       "      <th>3</th>\n",
       "      <td>4</td>\n",
       "      <td>4-Apr</td>\n",
       "      <td>Tuesday</td>\n",
       "      <td>51.1</td>\n",
       "      <td>46.0</td>\n",
       "      <td>1.18</td>\n",
       "      <td>R</td>\n",
       "      <td>723</td>\n",
       "      <td>1913</td>\n",
       "      <td>2279</td>\n",
       "      <td>1666</td>\n",
       "      <td>6581</td>\n",
       "    </tr>\n",
       "    <tr>\n",
       "      <th>4</th>\n",
       "      <td>5</td>\n",
       "      <td>5-Apr</td>\n",
       "      <td>Wednesday</td>\n",
       "      <td>63.0</td>\n",
       "      <td>46.0</td>\n",
       "      <td>0.00</td>\n",
       "      <td>N</td>\n",
       "      <td>2807</td>\n",
       "      <td>5276</td>\n",
       "      <td>5711</td>\n",
       "      <td>4197</td>\n",
       "      <td>17991</td>\n",
       "    </tr>\n",
       "  </tbody>\n",
       "</table>\n",
       "</div>"
      ],
      "text/plain": [
       "   Unnamed: 0   Date        Day  High_Temp_F  Low_Temp_F  Precipitation  \\\n",
       "0           1  1-Apr   Saturday         46.0        37.0           0.00   \n",
       "1           2  2-Apr     Sunday         62.1        41.0           0.00   \n",
       "2           3  3-Apr     Monday         63.0        50.0           0.03   \n",
       "3           4  4-Apr    Tuesday         51.1        46.0           1.18   \n",
       "4           5  5-Apr  Wednesday         63.0        46.0           0.00   \n",
       "\n",
       "  Weather  Brooklyn_Bridge  Manhattan_Bridge  Williamsburg_Bridge  \\\n",
       "0       N              606              1446                 1915   \n",
       "1       N             2021              3943                 4207   \n",
       "2       R             2470              4988                 5178   \n",
       "3       R              723              1913                 2279   \n",
       "4       N             2807              5276                 5711   \n",
       "\n",
       "   Queensboro_Bridge  Total  \n",
       "0               1430   5397  \n",
       "1               2862  13033  \n",
       "2               3689  16325  \n",
       "3               1666   6581  \n",
       "4               4197  17991  "
      ]
     },
     "execution_count": 4,
     "metadata": {},
     "output_type": "execute_result"
    },
    {
     "data": {
      "text/html": [
       "<div>\n",
       "<style scoped>\n",
       "    .dataframe tbody tr th:only-of-type {\n",
       "        vertical-align: middle;\n",
       "    }\n",
       "\n",
       "    .dataframe tbody tr th {\n",
       "        vertical-align: top;\n",
       "    }\n",
       "\n",
       "    .dataframe thead th {\n",
       "        text-align: right;\n",
       "    }\n",
       "</style>\n",
       "<table border=\"1\" class=\"dataframe\">\n",
       "  <thead>\n",
       "    <tr style=\"text-align: right;\">\n",
       "      <th></th>\n",
       "      <th>Date</th>\n",
       "      <th>Day</th>\n",
       "      <th>High_Temp_F</th>\n",
       "      <th>Low_Temp_F</th>\n",
       "      <th>Precipitation</th>\n",
       "      <th>Weather</th>\n",
       "      <th>Brooklyn_Bridge</th>\n",
       "      <th>Manhattan_Bridge</th>\n",
       "      <th>Williamsburg_Bridge</th>\n",
       "      <th>Queensboro_Bridge</th>\n",
       "      <th>Total</th>\n",
       "    </tr>\n",
       "  </thead>\n",
       "  <tbody>\n",
       "    <tr>\n",
       "      <th>0</th>\n",
       "      <td>1-Apr</td>\n",
       "      <td>Saturday</td>\n",
       "      <td>46.0</td>\n",
       "      <td>37.0</td>\n",
       "      <td>0.00</td>\n",
       "      <td>N</td>\n",
       "      <td>606</td>\n",
       "      <td>1446</td>\n",
       "      <td>1915</td>\n",
       "      <td>1430</td>\n",
       "      <td>5397</td>\n",
       "    </tr>\n",
       "    <tr>\n",
       "      <th>1</th>\n",
       "      <td>2-Apr</td>\n",
       "      <td>Sunday</td>\n",
       "      <td>62.1</td>\n",
       "      <td>41.0</td>\n",
       "      <td>0.00</td>\n",
       "      <td>N</td>\n",
       "      <td>2021</td>\n",
       "      <td>3943</td>\n",
       "      <td>4207</td>\n",
       "      <td>2862</td>\n",
       "      <td>13033</td>\n",
       "    </tr>\n",
       "    <tr>\n",
       "      <th>2</th>\n",
       "      <td>3-Apr</td>\n",
       "      <td>Monday</td>\n",
       "      <td>63.0</td>\n",
       "      <td>50.0</td>\n",
       "      <td>0.03</td>\n",
       "      <td>R</td>\n",
       "      <td>2470</td>\n",
       "      <td>4988</td>\n",
       "      <td>5178</td>\n",
       "      <td>3689</td>\n",
       "      <td>16325</td>\n",
       "    </tr>\n",
       "    <tr>\n",
       "      <th>3</th>\n",
       "      <td>4-Apr</td>\n",
       "      <td>Tuesday</td>\n",
       "      <td>51.1</td>\n",
       "      <td>46.0</td>\n",
       "      <td>1.18</td>\n",
       "      <td>R</td>\n",
       "      <td>723</td>\n",
       "      <td>1913</td>\n",
       "      <td>2279</td>\n",
       "      <td>1666</td>\n",
       "      <td>6581</td>\n",
       "    </tr>\n",
       "    <tr>\n",
       "      <th>4</th>\n",
       "      <td>5-Apr</td>\n",
       "      <td>Wednesday</td>\n",
       "      <td>63.0</td>\n",
       "      <td>46.0</td>\n",
       "      <td>0.00</td>\n",
       "      <td>N</td>\n",
       "      <td>2807</td>\n",
       "      <td>5276</td>\n",
       "      <td>5711</td>\n",
       "      <td>4197</td>\n",
       "      <td>17991</td>\n",
       "    </tr>\n",
       "  </tbody>\n",
       "</table>\n",
       "</div>"
      ],
      "text/plain": [
       "    Date        Day  High_Temp_F  Low_Temp_F  Precipitation Weather  \\\n",
       "0  1-Apr   Saturday         46.0        37.0           0.00       N   \n",
       "1  2-Apr     Sunday         62.1        41.0           0.00       N   \n",
       "2  3-Apr     Monday         63.0        50.0           0.03       R   \n",
       "3  4-Apr    Tuesday         51.1        46.0           1.18       R   \n",
       "4  5-Apr  Wednesday         63.0        46.0           0.00       N   \n",
       "\n",
       "   Brooklyn_Bridge  Manhattan_Bridge  Williamsburg_Bridge  Queensboro_Bridge  \\\n",
       "0              606              1446                 1915               1430   \n",
       "1             2021              3943                 4207               2862   \n",
       "2             2470              4988                 5178               3689   \n",
       "3              723              1913                 2279               1666   \n",
       "4             2807              5276                 5711               4197   \n",
       "\n",
       "   Total  \n",
       "0   5397  \n",
       "1  13033  \n",
       "2  16325  \n",
       "3   6581  \n",
       "4  17991  "
      ]
     },
     "execution_count": 4,
     "metadata": {},
     "output_type": "execute_result"
    }
   ],
   "source": [
    "# read the data file\n",
    "\n",
    "NY_bicycle=pd.read_csv(\"Data/NY_Bicycle.csv\") # read the data file in csv format using pd.read_csv()\n",
    "NY_bicycle.head()\n",
    "del NY_bicycle[\"Unnamed: 0\"] # delete the column \"Unnamed: 0\" because it duplicates the index of dataframe\n",
    "NY_bicycle.head() # take a look at the data again after deleting the unnamed column"
   ]
  },
  {
   "cell_type": "code",
   "execution_count": 5,
   "metadata": {
    "colab": {
     "base_uri": "https://localhost:8080/"
    },
    "executionInfo": {
     "elapsed": 10,
     "status": "ok",
     "timestamp": 1695075426974,
     "user": {
      "displayName": "Ruwen Qin",
      "userId": "01885423067234457717"
     },
     "user_tz": 240
    },
    "id": "tW1o3Ggil9Ts",
    "outputId": "ec1b4f77-0a90-4197-d821-f5a109a4ea63"
   },
   "outputs": [
    {
     "name": "stdout",
     "output_type": "stream",
     "text": [
      "<class 'pandas.core.frame.DataFrame'>\n",
      "RangeIndex: 214 entries, 0 to 213\n",
      "Data columns (total 11 columns):\n",
      " #   Column               Non-Null Count  Dtype  \n",
      "---  ------               --------------  -----  \n",
      " 0   Date                 214 non-null    object \n",
      " 1   Day                  214 non-null    object \n",
      " 2   High_Temp_F          214 non-null    float64\n",
      " 3   Low_Temp_F           214 non-null    float64\n",
      " 4   Precipitation        200 non-null    float64\n",
      " 5   Weather              214 non-null    object \n",
      " 6   Brooklyn_Bridge      214 non-null    int64  \n",
      " 7   Manhattan_Bridge     214 non-null    int64  \n",
      " 8   Williamsburg_Bridge  214 non-null    int64  \n",
      " 9   Queensboro_Bridge    214 non-null    int64  \n",
      " 10  Total                214 non-null    int64  \n",
      "dtypes: float64(3), int64(5), object(3)\n",
      "memory usage: 18.5+ KB\n"
     ]
    }
   ],
   "source": [
    "NY_bicycle.info() #info() summarizes columns and their data types"
   ]
  },
  {
   "cell_type": "code",
   "execution_count": 6,
   "metadata": {
    "colab": {
     "base_uri": "https://localhost:8080/"
    },
    "executionInfo": {
     "elapsed": 248,
     "status": "ok",
     "timestamp": 1695075427216,
     "user": {
      "displayName": "Ruwen Qin",
      "userId": "01885423067234457717"
     },
     "user_tz": 240
    },
    "id": "cKBdvZ_vmHtz",
    "outputId": "41e6c580-8120-41b0-c9e6-2b6c364be34b"
   },
   "outputs": [
    {
     "data": {
      "text/plain": [
       "Index(['Date', 'Day', 'High_Temp_F', 'Low_Temp_F', 'Precipitation', 'Weather',\n",
       "       'Brooklyn_Bridge', 'Manhattan_Bridge', 'Williamsburg_Bridge',\n",
       "       'Queensboro_Bridge', 'Total'],\n",
       "      dtype='object')"
      ]
     },
     "execution_count": 6,
     "metadata": {},
     "output_type": "execute_result"
    }
   ],
   "source": [
    "NY_bicycle.columns # dataframe.columns shows column lables"
   ]
  },
  {
   "cell_type": "code",
   "execution_count": 7,
   "metadata": {
    "colab": {
     "base_uri": "https://localhost:8080/",
     "height": 35
    },
    "executionInfo": {
     "elapsed": 31,
     "status": "ok",
     "timestamp": 1695075427216,
     "user": {
      "displayName": "Ruwen Qin",
      "userId": "01885423067234457717"
     },
     "user_tz": 240
    },
    "id": "WEThQYngocPT",
    "outputId": "f9c6f0ee-aacf-4c4b-aa41-e5db3bc35a21"
   },
   "outputs": [
    {
     "data": {
      "text/plain": [
       "'Precipitation'"
      ]
     },
     "execution_count": 7,
     "metadata": {},
     "output_type": "execute_result"
    }
   ],
   "source": [
    "NY_bicycle.columns[4] #to check the column label by colum index. Keep in mind that the first column index value is zero, not one"
   ]
  },
  {
   "cell_type": "code",
   "execution_count": 8,
   "metadata": {
    "colab": {
     "base_uri": "https://localhost:8080/"
    },
    "executionInfo": {
     "elapsed": 29,
     "status": "ok",
     "timestamp": 1695075427217,
     "user": {
      "displayName": "Ruwen Qin",
      "userId": "01885423067234457717"
     },
     "user_tz": 240
    },
    "id": "1U_Vx7AGmf2t",
    "outputId": "81e09834-bbb7-4947-8259-ec23829603bc"
   },
   "outputs": [
    {
     "data": {
      "text/plain": [
       "dtype('O')"
      ]
     },
     "execution_count": 8,
     "metadata": {},
     "output_type": "execute_result"
    }
   ],
   "source": [
    "NY_bicycle.dtypes['Weather'] #if you would like to check the datatype of a column or all, using dataframe.dtypes"
   ]
  },
  {
   "cell_type": "code",
   "execution_count": 9,
   "metadata": {
    "colab": {
     "base_uri": "https://localhost:8080/"
    },
    "executionInfo": {
     "elapsed": 24,
     "status": "ok",
     "timestamp": 1695075427218,
     "user": {
      "displayName": "Ruwen Qin",
      "userId": "01885423067234457717"
     },
     "user_tz": 240
    },
    "id": "ywDvA51Um2CT",
    "outputId": "b0d6aed6-02ab-4e94-fb7d-4c2a1d662425"
   },
   "outputs": [
    {
     "data": {
      "text/plain": [
       "RangeIndex(start=0, stop=214, step=1)"
      ]
     },
     "execution_count": 9,
     "metadata": {},
     "output_type": "execute_result"
    }
   ],
   "source": [
    "NY_bicycle.index # to find how the data are indexed, using dataframe.index"
   ]
  },
  {
   "cell_type": "code",
   "execution_count": 10,
   "metadata": {
    "colab": {
     "base_uri": "https://localhost:8080/"
    },
    "executionInfo": {
     "elapsed": 21,
     "status": "ok",
     "timestamp": 1695075427218,
     "user": {
      "displayName": "Ruwen Qin",
      "userId": "01885423067234457717"
     },
     "user_tz": 240
    },
    "id": "7Szd4pOCnLa8",
    "outputId": "d1dc921d-6d78-4e43-a973-3ed5ef3b8857"
   },
   "outputs": [
    {
     "data": {
      "text/plain": [
       "array(['3-Apr', 'Monday', 63.0, 50.0, 0.03, 'R', 2470, 4988, 5178, 3689,\n",
       "       16325], dtype=object)"
      ]
     },
     "execution_count": 10,
     "metadata": {},
     "output_type": "execute_result"
    }
   ],
   "source": [
    "NY_bicycle.values[2] # to check an observation of the dataframe, using dataframe.values[index of the observation]"
   ]
  },
  {
   "cell_type": "code",
   "execution_count": 11,
   "metadata": {
    "colab": {
     "base_uri": "https://localhost:8080/"
    },
    "executionInfo": {
     "elapsed": 20,
     "status": "ok",
     "timestamp": 1695075427219,
     "user": {
      "displayName": "Ruwen Qin",
      "userId": "01885423067234457717"
     },
     "user_tz": 240
    },
    "id": "Xk_wgxDmnvXo",
    "outputId": "544b25d2-2ea5-41aa-d70e-ba378ed446b0"
   },
   "outputs": [
    {
     "data": {
      "text/plain": [
       "0.03"
      ]
     },
     "execution_count": 11,
     "metadata": {},
     "output_type": "execute_result"
    }
   ],
   "source": [
    "NY_bicycle.values[2][4] # to check the value of a column in an observation, using dataframe.values[index of the observation][index of column]"
   ]
  },
  {
   "cell_type": "code",
   "execution_count": 12,
   "metadata": {
    "colab": {
     "base_uri": "https://localhost:8080/"
    },
    "executionInfo": {
     "elapsed": 18,
     "status": "ok",
     "timestamp": 1695075427219,
     "user": {
      "displayName": "Ruwen Qin",
      "userId": "01885423067234457717"
     },
     "user_tz": 240
    },
    "id": "U-J2at_fnzQw",
    "outputId": "d8cb8d0a-a509-4dad-85eb-7b31173ac9f5"
   },
   "outputs": [
    {
     "data": {
      "text/plain": [
       "0      N\n",
       "1      N\n",
       "2      R\n",
       "3      R\n",
       "4      N\n",
       "      ..\n",
       "209    N\n",
       "210    N\n",
       "211    R\n",
       "212    R\n",
       "213    N\n",
       "Name: Weather, Length: 214, dtype: object"
      ]
     },
     "execution_count": 12,
     "metadata": {},
     "output_type": "execute_result"
    }
   ],
   "source": [
    "NY_bicycle.Weather # display the data of a column using dataframe.column label"
   ]
  },
  {
   "cell_type": "code",
   "execution_count": 13,
   "metadata": {
    "colab": {
     "base_uri": "https://localhost:8080/"
    },
    "executionInfo": {
     "elapsed": 17,
     "status": "ok",
     "timestamp": 1695075427220,
     "user": {
      "displayName": "Ruwen Qin",
      "userId": "01885423067234457717"
     },
     "user_tz": 240
    },
    "id": "lECbl0ZuqCZs",
    "outputId": "42f6db01-5065-452a-ff82-3b5f7e00b360"
   },
   "outputs": [
    {
     "data": {
      "text/plain": [
       "0      N\n",
       "1      N\n",
       "2      R\n",
       "3      R\n",
       "4      N\n",
       "      ..\n",
       "209    N\n",
       "210    N\n",
       "211    R\n",
       "212    R\n",
       "213    N\n",
       "Name: Weather, Length: 214, dtype: object"
      ]
     },
     "execution_count": 13,
     "metadata": {},
     "output_type": "execute_result"
    }
   ],
   "source": [
    "NY_bicycle.iloc[:,5] # using dataframe.iloc[:,column index] to display a column of data by indices"
   ]
  },
  {
   "cell_type": "code",
   "execution_count": 14,
   "metadata": {
    "colab": {
     "base_uri": "https://localhost:8080/"
    },
    "executionInfo": {
     "elapsed": 15,
     "status": "ok",
     "timestamp": 1695075427220,
     "user": {
      "displayName": "Ruwen Qin",
      "userId": "01885423067234457717"
     },
     "user_tz": 240
    },
    "id": "QzDNuIxJqVRg",
    "outputId": "341c4b96-e584-4ad9-87ba-3a79d047da24"
   },
   "outputs": [
    {
     "data": {
      "text/plain": [
       "Date                       5-Apr\n",
       "Day                    Wednesday\n",
       "High_Temp_F                 63.0\n",
       "Low_Temp_F                  46.0\n",
       "Precipitation                0.0\n",
       "Weather                        N\n",
       "Brooklyn_Bridge             2807\n",
       "Manhattan_Bridge            5276\n",
       "Williamsburg_Bridge         5711\n",
       "Queensboro_Bridge           4197\n",
       "Total                      17991\n",
       "Name: 4, dtype: object"
      ]
     },
     "execution_count": 14,
     "metadata": {},
     "output_type": "execute_result"
    }
   ],
   "source": [
    "NY_bicycle.iloc[4,:] # dataframe.iloc[observation index,:] to display an observation by the observation index"
   ]
  },
  {
   "cell_type": "code",
   "execution_count": 15,
   "metadata": {},
   "outputs": [
    {
     "data": {
      "text/plain": [
       "Date                       5-Apr\n",
       "Day                    Wednesday\n",
       "High_Temp_F                 63.0\n",
       "Low_Temp_F                  46.0\n",
       "Precipitation                0.0\n",
       "Weather                        N\n",
       "Brooklyn_Bridge             2807\n",
       "Manhattan_Bridge            5276\n",
       "Williamsburg_Bridge         5711\n",
       "Queensboro_Bridge           4197\n",
       "Total                      17991\n",
       "Name: 4, dtype: object"
      ]
     },
     "execution_count": 15,
     "metadata": {},
     "output_type": "execute_result"
    }
   ],
   "source": [
    "NY_bicycle.loc[4,:]"
   ]
  },
  {
   "cell_type": "code",
   "execution_count": 16,
   "metadata": {
    "colab": {
     "base_uri": "https://localhost:8080/"
    },
    "executionInfo": {
     "elapsed": 12,
     "status": "ok",
     "timestamp": 1695075427220,
     "user": {
      "displayName": "Ruwen Qin",
      "userId": "01885423067234457717"
     },
     "user_tz": 240
    },
    "id": "J_5hY6sJXiD1",
    "outputId": "28ac92c7-bdba-41a3-c32e-0a954b2fd772"
   },
   "outputs": [
    {
     "data": {
      "text/plain": [
       "0.03"
      ]
     },
     "execution_count": 16,
     "metadata": {},
     "output_type": "execute_result"
    }
   ],
   "source": [
    "NY_bicycle.iloc[2,4] # dataframe.iloc[observation index,column index] retrieves the value at the coordinates"
   ]
  },
  {
   "cell_type": "markdown",
   "metadata": {
    "id": "ySSy0PsD-ucJ"
   },
   "source": [
    "## 1.2 Data Modification"
   ]
  },
  {
   "cell_type": "markdown",
   "metadata": {
    "id": "sqf7h2O6YX7P"
   },
   "source": [
    "## 1.3 Sorting"
   ]
  },
  {
   "cell_type": "code",
   "execution_count": 17,
   "metadata": {
    "colab": {
     "base_uri": "https://localhost:8080/",
     "height": 617
    },
    "executionInfo": {
     "elapsed": 247,
     "status": "ok",
     "timestamp": 1695075427457,
     "user": {
      "displayName": "Ruwen Qin",
      "userId": "01885423067234457717"
     },
     "user_tz": 240
    },
    "id": "JSTs0EBlqhUa",
    "outputId": "6d8ac803-3b9d-4e6f-9d2c-e4b118b9ed70"
   },
   "outputs": [
    {
     "data": {
      "text/html": [
       "<div>\n",
       "<style scoped>\n",
       "    .dataframe tbody tr th:only-of-type {\n",
       "        vertical-align: middle;\n",
       "    }\n",
       "\n",
       "    .dataframe tbody tr th {\n",
       "        vertical-align: top;\n",
       "    }\n",
       "\n",
       "    .dataframe thead th {\n",
       "        text-align: right;\n",
       "    }\n",
       "</style>\n",
       "<table border=\"1\" class=\"dataframe\">\n",
       "  <thead>\n",
       "    <tr style=\"text-align: right;\">\n",
       "      <th></th>\n",
       "      <th>Date</th>\n",
       "      <th>Day</th>\n",
       "      <th>High_Temp_F</th>\n",
       "      <th>Low_Temp_F</th>\n",
       "      <th>Precipitation</th>\n",
       "      <th>Weather</th>\n",
       "      <th>Brooklyn_Bridge</th>\n",
       "      <th>Manhattan_Bridge</th>\n",
       "      <th>Williamsburg_Bridge</th>\n",
       "      <th>Queensboro_Bridge</th>\n",
       "      <th>Total</th>\n",
       "    </tr>\n",
       "  </thead>\n",
       "  <tbody>\n",
       "    <tr>\n",
       "      <th>116</th>\n",
       "      <td>26-Jul</td>\n",
       "      <td>Wednesday</td>\n",
       "      <td>75.9</td>\n",
       "      <td>66.0</td>\n",
       "      <td>0.00</td>\n",
       "      <td>N</td>\n",
       "      <td>3821</td>\n",
       "      <td>7987</td>\n",
       "      <td>8605</td>\n",
       "      <td>6556</td>\n",
       "      <td>26969</td>\n",
       "    </tr>\n",
       "    <tr>\n",
       "      <th>130</th>\n",
       "      <td>9-Aug</td>\n",
       "      <td>Wednesday</td>\n",
       "      <td>82.9</td>\n",
       "      <td>66.0</td>\n",
       "      <td>0.00</td>\n",
       "      <td>N</td>\n",
       "      <td>3893</td>\n",
       "      <td>7791</td>\n",
       "      <td>8589</td>\n",
       "      <td>6582</td>\n",
       "      <td>26855</td>\n",
       "    </tr>\n",
       "    <tr>\n",
       "      <th>88</th>\n",
       "      <td>28-Jun</td>\n",
       "      <td>Wednesday</td>\n",
       "      <td>78.1</td>\n",
       "      <td>62.1</td>\n",
       "      <td>0.00</td>\n",
       "      <td>N</td>\n",
       "      <td>3766</td>\n",
       "      <td>8239</td>\n",
       "      <td>8873</td>\n",
       "      <td>5834</td>\n",
       "      <td>26712</td>\n",
       "    </tr>\n",
       "    <tr>\n",
       "      <th>164</th>\n",
       "      <td>12-Sep</td>\n",
       "      <td>Tuesday</td>\n",
       "      <td>78.1</td>\n",
       "      <td>61.0</td>\n",
       "      <td>0.00</td>\n",
       "      <td>N</td>\n",
       "      <td>3497</td>\n",
       "      <td>7983</td>\n",
       "      <td>8756</td>\n",
       "      <td>6386</td>\n",
       "      <td>26622</td>\n",
       "    </tr>\n",
       "    <tr>\n",
       "      <th>75</th>\n",
       "      <td>15-Jun</td>\n",
       "      <td>Thursday</td>\n",
       "      <td>75.0</td>\n",
       "      <td>66.0</td>\n",
       "      <td>0.00</td>\n",
       "      <td>N</td>\n",
       "      <td>3510</td>\n",
       "      <td>7854</td>\n",
       "      <td>8652</td>\n",
       "      <td>6344</td>\n",
       "      <td>26360</td>\n",
       "    </tr>\n",
       "    <tr>\n",
       "      <th>...</th>\n",
       "      <td>...</td>\n",
       "      <td>...</td>\n",
       "      <td>...</td>\n",
       "      <td>...</td>\n",
       "      <td>...</td>\n",
       "      <td>...</td>\n",
       "      <td>...</td>\n",
       "      <td>...</td>\n",
       "      <td>...</td>\n",
       "      <td>...</td>\n",
       "      <td>...</td>\n",
       "    </tr>\n",
       "    <tr>\n",
       "      <th>34</th>\n",
       "      <td>5-May</td>\n",
       "      <td>Friday</td>\n",
       "      <td>59.0</td>\n",
       "      <td>52.0</td>\n",
       "      <td>3.02</td>\n",
       "      <td>R</td>\n",
       "      <td>513</td>\n",
       "      <td>1471</td>\n",
       "      <td>1951</td>\n",
       "      <td>1421</td>\n",
       "      <td>5356</td>\n",
       "    </tr>\n",
       "    <tr>\n",
       "      <th>5</th>\n",
       "      <td>6-Apr</td>\n",
       "      <td>Thursday</td>\n",
       "      <td>48.9</td>\n",
       "      <td>41.0</td>\n",
       "      <td>0.73</td>\n",
       "      <td>R</td>\n",
       "      <td>461</td>\n",
       "      <td>1324</td>\n",
       "      <td>1739</td>\n",
       "      <td>1372</td>\n",
       "      <td>4896</td>\n",
       "    </tr>\n",
       "    <tr>\n",
       "      <th>54</th>\n",
       "      <td>25-May</td>\n",
       "      <td>Thursday</td>\n",
       "      <td>57.9</td>\n",
       "      <td>55.9</td>\n",
       "      <td>0.58</td>\n",
       "      <td>R</td>\n",
       "      <td>488</td>\n",
       "      <td>1196</td>\n",
       "      <td>1789</td>\n",
       "      <td>1316</td>\n",
       "      <td>4789</td>\n",
       "    </tr>\n",
       "    <tr>\n",
       "      <th>211</th>\n",
       "      <td>29-Oct</td>\n",
       "      <td>Sunday</td>\n",
       "      <td>64.9</td>\n",
       "      <td>61.0</td>\n",
       "      <td>3.03</td>\n",
       "      <td>R</td>\n",
       "      <td>183</td>\n",
       "      <td>661</td>\n",
       "      <td>1026</td>\n",
       "      <td>965</td>\n",
       "      <td>2835</td>\n",
       "    </tr>\n",
       "    <tr>\n",
       "      <th>42</th>\n",
       "      <td>13-May</td>\n",
       "      <td>Saturday</td>\n",
       "      <td>51.1</td>\n",
       "      <td>45.0</td>\n",
       "      <td>1.31</td>\n",
       "      <td>R</td>\n",
       "      <td>151</td>\n",
       "      <td>484</td>\n",
       "      <td>874</td>\n",
       "      <td>865</td>\n",
       "      <td>2374</td>\n",
       "    </tr>\n",
       "  </tbody>\n",
       "</table>\n",
       "<p>214 rows × 11 columns</p>\n",
       "</div>"
      ],
      "text/plain": [
       "       Date        Day  High_Temp_F  Low_Temp_F  Precipitation Weather  \\\n",
       "116  26-Jul  Wednesday         75.9        66.0           0.00       N   \n",
       "130   9-Aug  Wednesday         82.9        66.0           0.00       N   \n",
       "88   28-Jun  Wednesday         78.1        62.1           0.00       N   \n",
       "164  12-Sep    Tuesday         78.1        61.0           0.00       N   \n",
       "75   15-Jun   Thursday         75.0        66.0           0.00       N   \n",
       "..      ...        ...          ...         ...            ...     ...   \n",
       "34    5-May     Friday         59.0        52.0           3.02       R   \n",
       "5     6-Apr   Thursday         48.9        41.0           0.73       R   \n",
       "54   25-May   Thursday         57.9        55.9           0.58       R   \n",
       "211  29-Oct     Sunday         64.9        61.0           3.03       R   \n",
       "42   13-May   Saturday         51.1        45.0           1.31       R   \n",
       "\n",
       "     Brooklyn_Bridge  Manhattan_Bridge  Williamsburg_Bridge  \\\n",
       "116             3821              7987                 8605   \n",
       "130             3893              7791                 8589   \n",
       "88              3766              8239                 8873   \n",
       "164             3497              7983                 8756   \n",
       "75              3510              7854                 8652   \n",
       "..               ...               ...                  ...   \n",
       "34               513              1471                 1951   \n",
       "5                461              1324                 1739   \n",
       "54               488              1196                 1789   \n",
       "211              183               661                 1026   \n",
       "42               151               484                  874   \n",
       "\n",
       "     Queensboro_Bridge  Total  \n",
       "116               6556  26969  \n",
       "130               6582  26855  \n",
       "88                5834  26712  \n",
       "164               6386  26622  \n",
       "75                6344  26360  \n",
       "..                 ...    ...  \n",
       "34                1421   5356  \n",
       "5                 1372   4896  \n",
       "54                1316   4789  \n",
       "211                965   2835  \n",
       "42                 865   2374  \n",
       "\n",
       "[214 rows x 11 columns]"
      ]
     },
     "execution_count": 17,
     "metadata": {},
     "output_type": "execute_result"
    }
   ],
   "source": [
    "NY_bicycle.sort_values(by='Total', na_position='first',ascending=False) # dataframe.sort_values() sorts dataframe by values of a column"
   ]
  },
  {
   "cell_type": "code",
   "execution_count": 18,
   "metadata": {
    "colab": {
     "base_uri": "https://localhost:8080/",
     "height": 617
    },
    "executionInfo": {
     "elapsed": 9,
     "status": "ok",
     "timestamp": 1695075427457,
     "user": {
      "displayName": "Ruwen Qin",
      "userId": "01885423067234457717"
     },
     "user_tz": 240
    },
    "id": "MQhnf8TvpX3F",
    "outputId": "50b8f467-d8d4-4ba5-8b0d-32595b0a946e"
   },
   "outputs": [
    {
     "data": {
      "text/html": [
       "<div>\n",
       "<style scoped>\n",
       "    .dataframe tbody tr th:only-of-type {\n",
       "        vertical-align: middle;\n",
       "    }\n",
       "\n",
       "    .dataframe tbody tr th {\n",
       "        vertical-align: top;\n",
       "    }\n",
       "\n",
       "    .dataframe thead th {\n",
       "        text-align: right;\n",
       "    }\n",
       "</style>\n",
       "<table border=\"1\" class=\"dataframe\">\n",
       "  <thead>\n",
       "    <tr style=\"text-align: right;\">\n",
       "      <th></th>\n",
       "      <th>Date</th>\n",
       "      <th>Day</th>\n",
       "      <th>High_Temp_F</th>\n",
       "      <th>Low_Temp_F</th>\n",
       "      <th>Precipitation</th>\n",
       "      <th>Weather</th>\n",
       "      <th>Brooklyn_Bridge</th>\n",
       "      <th>Manhattan_Bridge</th>\n",
       "      <th>Williamsburg_Bridge</th>\n",
       "      <th>Queensboro_Bridge</th>\n",
       "      <th>Total</th>\n",
       "    </tr>\n",
       "  </thead>\n",
       "  <tbody>\n",
       "    <tr>\n",
       "      <th>0</th>\n",
       "      <td>1-Apr</td>\n",
       "      <td>Saturday</td>\n",
       "      <td>46.0</td>\n",
       "      <td>37.0</td>\n",
       "      <td>0.0</td>\n",
       "      <td>N</td>\n",
       "      <td>606</td>\n",
       "      <td>1446</td>\n",
       "      <td>1915</td>\n",
       "      <td>1430</td>\n",
       "      <td>5397</td>\n",
       "    </tr>\n",
       "    <tr>\n",
       "      <th>124</th>\n",
       "      <td>3-Aug</td>\n",
       "      <td>Thursday</td>\n",
       "      <td>86.0</td>\n",
       "      <td>70.0</td>\n",
       "      <td>0.0</td>\n",
       "      <td>N</td>\n",
       "      <td>3346</td>\n",
       "      <td>6728</td>\n",
       "      <td>7297</td>\n",
       "      <td>5835</td>\n",
       "      <td>23206</td>\n",
       "    </tr>\n",
       "    <tr>\n",
       "      <th>127</th>\n",
       "      <td>6-Aug</td>\n",
       "      <td>Sunday</td>\n",
       "      <td>75.9</td>\n",
       "      <td>64.0</td>\n",
       "      <td>0.0</td>\n",
       "      <td>N</td>\n",
       "      <td>3130</td>\n",
       "      <td>5088</td>\n",
       "      <td>5634</td>\n",
       "      <td>4207</td>\n",
       "      <td>18059</td>\n",
       "    </tr>\n",
       "    <tr>\n",
       "      <th>129</th>\n",
       "      <td>8-Aug</td>\n",
       "      <td>Tuesday</td>\n",
       "      <td>77.0</td>\n",
       "      <td>66.0</td>\n",
       "      <td>0.0</td>\n",
       "      <td>N</td>\n",
       "      <td>3598</td>\n",
       "      <td>7176</td>\n",
       "      <td>7571</td>\n",
       "      <td>5932</td>\n",
       "      <td>24277</td>\n",
       "    </tr>\n",
       "    <tr>\n",
       "      <th>130</th>\n",
       "      <td>9-Aug</td>\n",
       "      <td>Wednesday</td>\n",
       "      <td>82.9</td>\n",
       "      <td>66.0</td>\n",
       "      <td>0.0</td>\n",
       "      <td>N</td>\n",
       "      <td>3893</td>\n",
       "      <td>7791</td>\n",
       "      <td>8589</td>\n",
       "      <td>6582</td>\n",
       "      <td>26855</td>\n",
       "    </tr>\n",
       "    <tr>\n",
       "      <th>...</th>\n",
       "      <td>...</td>\n",
       "      <td>...</td>\n",
       "      <td>...</td>\n",
       "      <td>...</td>\n",
       "      <td>...</td>\n",
       "      <td>...</td>\n",
       "      <td>...</td>\n",
       "      <td>...</td>\n",
       "      <td>...</td>\n",
       "      <td>...</td>\n",
       "      <td>...</td>\n",
       "    </tr>\n",
       "    <tr>\n",
       "      <th>144</th>\n",
       "      <td>23-Aug</td>\n",
       "      <td>Wednesday</td>\n",
       "      <td>80.1</td>\n",
       "      <td>71.1</td>\n",
       "      <td>NaN</td>\n",
       "      <td>T</td>\n",
       "      <td>2994</td>\n",
       "      <td>6586</td>\n",
       "      <td>7297</td>\n",
       "      <td>6122</td>\n",
       "      <td>22999</td>\n",
       "    </tr>\n",
       "    <tr>\n",
       "      <th>15</th>\n",
       "      <td>16-Apr</td>\n",
       "      <td>Sunday</td>\n",
       "      <td>84.9</td>\n",
       "      <td>62.1</td>\n",
       "      <td>NaN</td>\n",
       "      <td>T</td>\n",
       "      <td>2877</td>\n",
       "      <td>4585</td>\n",
       "      <td>5259</td>\n",
       "      <td>3687</td>\n",
       "      <td>16408</td>\n",
       "    </tr>\n",
       "    <tr>\n",
       "      <th>16</th>\n",
       "      <td>17-Apr</td>\n",
       "      <td>Monday</td>\n",
       "      <td>73.9</td>\n",
       "      <td>64.0</td>\n",
       "      <td>NaN</td>\n",
       "      <td>T</td>\n",
       "      <td>3152</td>\n",
       "      <td>6352</td>\n",
       "      <td>6924</td>\n",
       "      <td>4658</td>\n",
       "      <td>21086</td>\n",
       "    </tr>\n",
       "    <tr>\n",
       "      <th>90</th>\n",
       "      <td>30-Jun</td>\n",
       "      <td>Friday</td>\n",
       "      <td>88.0</td>\n",
       "      <td>73.9</td>\n",
       "      <td>NaN</td>\n",
       "      <td>T</td>\n",
       "      <td>2687</td>\n",
       "      <td>5890</td>\n",
       "      <td>7013</td>\n",
       "      <td>4754</td>\n",
       "      <td>20344</td>\n",
       "    </tr>\n",
       "    <tr>\n",
       "      <th>132</th>\n",
       "      <td>11-Aug</td>\n",
       "      <td>Friday</td>\n",
       "      <td>81.0</td>\n",
       "      <td>70.0</td>\n",
       "      <td>NaN</td>\n",
       "      <td>T</td>\n",
       "      <td>3148</td>\n",
       "      <td>6295</td>\n",
       "      <td>7068</td>\n",
       "      <td>5669</td>\n",
       "      <td>22180</td>\n",
       "    </tr>\n",
       "  </tbody>\n",
       "</table>\n",
       "<p>214 rows × 11 columns</p>\n",
       "</div>"
      ],
      "text/plain": [
       "       Date        Day  High_Temp_F  Low_Temp_F  Precipitation Weather  \\\n",
       "0     1-Apr   Saturday         46.0        37.0            0.0       N   \n",
       "124   3-Aug   Thursday         86.0        70.0            0.0       N   \n",
       "127   6-Aug     Sunday         75.9        64.0            0.0       N   \n",
       "129   8-Aug    Tuesday         77.0        66.0            0.0       N   \n",
       "130   9-Aug  Wednesday         82.9        66.0            0.0       N   \n",
       "..      ...        ...          ...         ...            ...     ...   \n",
       "144  23-Aug  Wednesday         80.1        71.1            NaN       T   \n",
       "15   16-Apr     Sunday         84.9        62.1            NaN       T   \n",
       "16   17-Apr     Monday         73.9        64.0            NaN       T   \n",
       "90   30-Jun     Friday         88.0        73.9            NaN       T   \n",
       "132  11-Aug     Friday         81.0        70.0            NaN       T   \n",
       "\n",
       "     Brooklyn_Bridge  Manhattan_Bridge  Williamsburg_Bridge  \\\n",
       "0                606              1446                 1915   \n",
       "124             3346              6728                 7297   \n",
       "127             3130              5088                 5634   \n",
       "129             3598              7176                 7571   \n",
       "130             3893              7791                 8589   \n",
       "..               ...               ...                  ...   \n",
       "144             2994              6586                 7297   \n",
       "15              2877              4585                 5259   \n",
       "16              3152              6352                 6924   \n",
       "90              2687              5890                 7013   \n",
       "132             3148              6295                 7068   \n",
       "\n",
       "     Queensboro_Bridge  Total  \n",
       "0                 1430   5397  \n",
       "124               5835  23206  \n",
       "127               4207  18059  \n",
       "129               5932  24277  \n",
       "130               6582  26855  \n",
       "..                 ...    ...  \n",
       "144               6122  22999  \n",
       "15                3687  16408  \n",
       "16                4658  21086  \n",
       "90                4754  20344  \n",
       "132               5669  22180  \n",
       "\n",
       "[214 rows x 11 columns]"
      ]
     },
     "execution_count": 18,
     "metadata": {},
     "output_type": "execute_result"
    }
   ],
   "source": [
    "NY_bicycle.sort_values(by='Weather', ascending=True) # ascending=False returns the sorting result in the reverse alphabetical order"
   ]
  },
  {
   "cell_type": "code",
   "execution_count": 19,
   "metadata": {
    "colab": {
     "base_uri": "https://localhost:8080/",
     "height": 1000
    },
    "executionInfo": {
     "elapsed": 222,
     "status": "ok",
     "timestamp": 1695075427671,
     "user": {
      "displayName": "Ruwen Qin",
      "userId": "01885423067234457717"
     },
     "user_tz": 240
    },
    "id": "bYh_YmWXtrh6",
    "outputId": "4d89e90e-e15e-462e-d6da-d3de02bbf8d6"
   },
   "outputs": [
    {
     "name": "stdout",
     "output_type": "stream",
     "text": [
      "       Date        Day  High_Temp_F  Low_Temp_F  Precipitation Weather  \\\n",
      "116  26-Jul  Wednesday         75.9        66.0           0.00       N   \n",
      "130   9-Aug  Wednesday         82.9        66.0           0.00       N   \n",
      "88   28-Jun  Wednesday         78.1        62.1           0.00       N   \n",
      "164  12-Sep    Tuesday         78.1        61.0           0.00       N   \n",
      "75   15-Jun   Thursday         75.0        66.0           0.00       N   \n",
      "..      ...        ...          ...         ...            ...     ...   \n",
      "34    5-May     Friday         59.0        52.0           3.02       R   \n",
      "5     6-Apr   Thursday         48.9        41.0           0.73       R   \n",
      "54   25-May   Thursday         57.9        55.9           0.58       R   \n",
      "211  29-Oct     Sunday         64.9        61.0           3.03       R   \n",
      "42   13-May   Saturday         51.1        45.0           1.31       R   \n",
      "\n",
      "     Brooklyn_Bridge  Manhattan_Bridge  Williamsburg_Bridge  \\\n",
      "116             3821              7987                 8605   \n",
      "130             3893              7791                 8589   \n",
      "88              3766              8239                 8873   \n",
      "164             3497              7983                 8756   \n",
      "75              3510              7854                 8652   \n",
      "..               ...               ...                  ...   \n",
      "34               513              1471                 1951   \n",
      "5                461              1324                 1739   \n",
      "54               488              1196                 1789   \n",
      "211              183               661                 1026   \n",
      "42               151               484                  874   \n",
      "\n",
      "     Queensboro_Bridge  Total  \n",
      "116               6556  26969  \n",
      "130               6582  26855  \n",
      "88                5834  26712  \n",
      "164               6386  26622  \n",
      "75                6344  26360  \n",
      "..                 ...    ...  \n",
      "34                1421   5356  \n",
      "5                 1372   4896  \n",
      "54                1316   4789  \n",
      "211                965   2835  \n",
      "42                 865   2374  \n",
      "\n",
      "[214 rows x 11 columns]\n"
     ]
    },
    {
     "data": {
      "text/html": [
       "<div>\n",
       "<style scoped>\n",
       "    .dataframe tbody tr th:only-of-type {\n",
       "        vertical-align: middle;\n",
       "    }\n",
       "\n",
       "    .dataframe tbody tr th {\n",
       "        vertical-align: top;\n",
       "    }\n",
       "\n",
       "    .dataframe thead th {\n",
       "        text-align: right;\n",
       "    }\n",
       "</style>\n",
       "<table border=\"1\" class=\"dataframe\">\n",
       "  <thead>\n",
       "    <tr style=\"text-align: right;\">\n",
       "      <th></th>\n",
       "      <th>Date</th>\n",
       "      <th>Day</th>\n",
       "      <th>High_Temp_F</th>\n",
       "      <th>Low_Temp_F</th>\n",
       "      <th>Precipitation</th>\n",
       "      <th>Weather</th>\n",
       "      <th>Brooklyn_Bridge</th>\n",
       "      <th>Manhattan_Bridge</th>\n",
       "      <th>Williamsburg_Bridge</th>\n",
       "      <th>Queensboro_Bridge</th>\n",
       "      <th>Total</th>\n",
       "    </tr>\n",
       "  </thead>\n",
       "  <tbody>\n",
       "    <tr>\n",
       "      <th>0</th>\n",
       "      <td>1-Apr</td>\n",
       "      <td>Saturday</td>\n",
       "      <td>46.0</td>\n",
       "      <td>37.0</td>\n",
       "      <td>0.00</td>\n",
       "      <td>N</td>\n",
       "      <td>606</td>\n",
       "      <td>1446</td>\n",
       "      <td>1915</td>\n",
       "      <td>1430</td>\n",
       "      <td>5397</td>\n",
       "    </tr>\n",
       "    <tr>\n",
       "      <th>1</th>\n",
       "      <td>2-Apr</td>\n",
       "      <td>Sunday</td>\n",
       "      <td>62.1</td>\n",
       "      <td>41.0</td>\n",
       "      <td>0.00</td>\n",
       "      <td>N</td>\n",
       "      <td>2021</td>\n",
       "      <td>3943</td>\n",
       "      <td>4207</td>\n",
       "      <td>2862</td>\n",
       "      <td>13033</td>\n",
       "    </tr>\n",
       "    <tr>\n",
       "      <th>2</th>\n",
       "      <td>3-Apr</td>\n",
       "      <td>Monday</td>\n",
       "      <td>63.0</td>\n",
       "      <td>50.0</td>\n",
       "      <td>0.03</td>\n",
       "      <td>R</td>\n",
       "      <td>2470</td>\n",
       "      <td>4988</td>\n",
       "      <td>5178</td>\n",
       "      <td>3689</td>\n",
       "      <td>16325</td>\n",
       "    </tr>\n",
       "    <tr>\n",
       "      <th>3</th>\n",
       "      <td>4-Apr</td>\n",
       "      <td>Tuesday</td>\n",
       "      <td>51.1</td>\n",
       "      <td>46.0</td>\n",
       "      <td>1.18</td>\n",
       "      <td>R</td>\n",
       "      <td>723</td>\n",
       "      <td>1913</td>\n",
       "      <td>2279</td>\n",
       "      <td>1666</td>\n",
       "      <td>6581</td>\n",
       "    </tr>\n",
       "    <tr>\n",
       "      <th>4</th>\n",
       "      <td>5-Apr</td>\n",
       "      <td>Wednesday</td>\n",
       "      <td>63.0</td>\n",
       "      <td>46.0</td>\n",
       "      <td>0.00</td>\n",
       "      <td>N</td>\n",
       "      <td>2807</td>\n",
       "      <td>5276</td>\n",
       "      <td>5711</td>\n",
       "      <td>4197</td>\n",
       "      <td>17991</td>\n",
       "    </tr>\n",
       "    <tr>\n",
       "      <th>...</th>\n",
       "      <td>...</td>\n",
       "      <td>...</td>\n",
       "      <td>...</td>\n",
       "      <td>...</td>\n",
       "      <td>...</td>\n",
       "      <td>...</td>\n",
       "      <td>...</td>\n",
       "      <td>...</td>\n",
       "      <td>...</td>\n",
       "      <td>...</td>\n",
       "      <td>...</td>\n",
       "    </tr>\n",
       "    <tr>\n",
       "      <th>209</th>\n",
       "      <td>27-Oct</td>\n",
       "      <td>Friday</td>\n",
       "      <td>62.1</td>\n",
       "      <td>48.0</td>\n",
       "      <td>0.00</td>\n",
       "      <td>N</td>\n",
       "      <td>3150</td>\n",
       "      <td>5610</td>\n",
       "      <td>6450</td>\n",
       "      <td>5181</td>\n",
       "      <td>20391</td>\n",
       "    </tr>\n",
       "    <tr>\n",
       "      <th>210</th>\n",
       "      <td>28-Oct</td>\n",
       "      <td>Saturday</td>\n",
       "      <td>68.0</td>\n",
       "      <td>55.9</td>\n",
       "      <td>0.00</td>\n",
       "      <td>N</td>\n",
       "      <td>2245</td>\n",
       "      <td>4520</td>\n",
       "      <td>5104</td>\n",
       "      <td>4069</td>\n",
       "      <td>15938</td>\n",
       "    </tr>\n",
       "    <tr>\n",
       "      <th>211</th>\n",
       "      <td>29-Oct</td>\n",
       "      <td>Sunday</td>\n",
       "      <td>64.9</td>\n",
       "      <td>61.0</td>\n",
       "      <td>3.03</td>\n",
       "      <td>R</td>\n",
       "      <td>183</td>\n",
       "      <td>661</td>\n",
       "      <td>1026</td>\n",
       "      <td>965</td>\n",
       "      <td>2835</td>\n",
       "    </tr>\n",
       "    <tr>\n",
       "      <th>212</th>\n",
       "      <td>30-Oct</td>\n",
       "      <td>Monday</td>\n",
       "      <td>55.0</td>\n",
       "      <td>46.0</td>\n",
       "      <td>0.25</td>\n",
       "      <td>R</td>\n",
       "      <td>1428</td>\n",
       "      <td>2966</td>\n",
       "      <td>3547</td>\n",
       "      <td>2924</td>\n",
       "      <td>10865</td>\n",
       "    </tr>\n",
       "    <tr>\n",
       "      <th>213</th>\n",
       "      <td>31-Oct</td>\n",
       "      <td>Tuesday</td>\n",
       "      <td>54.0</td>\n",
       "      <td>44.0</td>\n",
       "      <td>0.00</td>\n",
       "      <td>N</td>\n",
       "      <td>2727</td>\n",
       "      <td>5597</td>\n",
       "      <td>5894</td>\n",
       "      <td>4883</td>\n",
       "      <td>19101</td>\n",
       "    </tr>\n",
       "  </tbody>\n",
       "</table>\n",
       "<p>214 rows × 11 columns</p>\n",
       "</div>"
      ],
      "text/plain": [
       "       Date        Day  High_Temp_F  Low_Temp_F  Precipitation Weather  \\\n",
       "0     1-Apr   Saturday         46.0        37.0           0.00       N   \n",
       "1     2-Apr     Sunday         62.1        41.0           0.00       N   \n",
       "2     3-Apr     Monday         63.0        50.0           0.03       R   \n",
       "3     4-Apr    Tuesday         51.1        46.0           1.18       R   \n",
       "4     5-Apr  Wednesday         63.0        46.0           0.00       N   \n",
       "..      ...        ...          ...         ...            ...     ...   \n",
       "209  27-Oct     Friday         62.1        48.0           0.00       N   \n",
       "210  28-Oct   Saturday         68.0        55.9           0.00       N   \n",
       "211  29-Oct     Sunday         64.9        61.0           3.03       R   \n",
       "212  30-Oct     Monday         55.0        46.0           0.25       R   \n",
       "213  31-Oct    Tuesday         54.0        44.0           0.00       N   \n",
       "\n",
       "     Brooklyn_Bridge  Manhattan_Bridge  Williamsburg_Bridge  \\\n",
       "0                606              1446                 1915   \n",
       "1               2021              3943                 4207   \n",
       "2               2470              4988                 5178   \n",
       "3                723              1913                 2279   \n",
       "4               2807              5276                 5711   \n",
       "..               ...               ...                  ...   \n",
       "209             3150              5610                 6450   \n",
       "210             2245              4520                 5104   \n",
       "211              183               661                 1026   \n",
       "212             1428              2966                 3547   \n",
       "213             2727              5597                 5894   \n",
       "\n",
       "     Queensboro_Bridge  Total  \n",
       "0                 1430   5397  \n",
       "1                 2862  13033  \n",
       "2                 3689  16325  \n",
       "3                 1666   6581  \n",
       "4                 4197  17991  \n",
       "..                 ...    ...  \n",
       "209               5181  20391  \n",
       "210               4069  15938  \n",
       "211                965   2835  \n",
       "212               2924  10865  \n",
       "213               4883  19101  \n",
       "\n",
       "[214 rows x 11 columns]"
      ]
     },
     "execution_count": 19,
     "metadata": {},
     "output_type": "execute_result"
    }
   ],
   "source": [
    "NY_bicycle_sort_pre = NY_bicycle.sort_values(by='Total', na_position='first',ascending=False) # sort by total\n",
    "print(NY_bicycle_sort_pre)\n",
    "\n",
    "NY_bicycle_sort_pre.sort_index() #dataframe.sort_index() sorts the dataframe by the index"
   ]
  },
  {
   "cell_type": "code",
   "execution_count": 20,
   "metadata": {
    "colab": {
     "base_uri": "https://localhost:8080/"
    },
    "executionInfo": {
     "elapsed": 199,
     "status": "ok",
     "timestamp": 1695075427862,
     "user": {
      "displayName": "Ruwen Qin",
      "userId": "01885423067234457717"
     },
     "user_tz": 240
    },
    "id": "jBKf-DWruz0O",
    "outputId": "a3bc4fab-cd88-4038-f964-425b38bd49ac"
   },
   "outputs": [
    {
     "name": "stdout",
     "output_type": "stream",
     "text": [
      "<class 'pandas.core.frame.DataFrame'>\n",
      "RangeIndex: 214 entries, 0 to 213\n",
      "Data columns (total 11 columns):\n",
      " #   Column               Non-Null Count  Dtype  \n",
      "---  ------               --------------  -----  \n",
      " 0   Date                 214 non-null    object \n",
      " 1   Day                  214 non-null    object \n",
      " 2   High_Temp_F          214 non-null    float64\n",
      " 3   Low_Temp_F           214 non-null    float64\n",
      " 4   Precipitation        200 non-null    float64\n",
      " 5   Weather              214 non-null    object \n",
      " 6   Brooklyn_Bridge      214 non-null    int64  \n",
      " 7   Manhattan_Bridge     214 non-null    int64  \n",
      " 8   Williamsburg_Bridge  214 non-null    int64  \n",
      " 9   Queensboro_Bridge    214 non-null    int64  \n",
      " 10  Total                214 non-null    int64  \n",
      "dtypes: float64(3), int64(5), object(3)\n",
      "memory usage: 18.5+ KB\n",
      "     High_Temp_F  Low_Temp_F  Total\n",
      "73          93.9        78.1  21577\n",
      "110         93.0        78.1  20405\n",
      "72          91.9        77.0  21200\n",
      "47          91.9        75.0  23474\n",
      "112         91.0        78.1  14422\n",
      "..           ...         ...    ...\n",
      "3           51.1        46.0   6581\n",
      "42          51.1        45.0   2374\n",
      "5           48.9        41.0   4896\n",
      "6           48.0        43.0  10341\n",
      "0           46.0        37.0   5397\n",
      "\n",
      "[214 rows x 3 columns]\n"
     ]
    }
   ],
   "source": [
    "NY_bicycle.info()\n",
    "NY_bicycle_sort = NY_bicycle.sort_values(by=['High_Temp_F', 'Low_Temp_F', 'Total'],ascending=False) # sort the dataframe by multiple columns\n",
    "#NY_bicycle_sort # display the sorted dataframe\n",
    "print(NY_bicycle_sort.iloc[:,[2,3,10]]) # display columns of the sorted dataframe, whose indices are 2, 3, and 10"
   ]
  },
  {
   "cell_type": "markdown",
   "metadata": {
    "id": "Kw52kPIMc2bK"
   },
   "source": [
    "## 1.4 Filtering"
   ]
  },
  {
   "cell_type": "code",
   "execution_count": 21,
   "metadata": {
    "colab": {
     "base_uri": "https://localhost:8080/",
     "height": 143
    },
    "executionInfo": {
     "elapsed": 12,
     "status": "ok",
     "timestamp": 1695075427863,
     "user": {
      "displayName": "Ruwen Qin",
      "userId": "01885423067234457717"
     },
     "user_tz": 240
    },
    "id": "K39_EsD24bBW",
    "outputId": "ed39fd47-d102-4409-c5ef-54a53c89006a"
   },
   "outputs": [
    {
     "data": {
      "text/html": [
       "<div>\n",
       "<style scoped>\n",
       "    .dataframe tbody tr th:only-of-type {\n",
       "        vertical-align: middle;\n",
       "    }\n",
       "\n",
       "    .dataframe tbody tr th {\n",
       "        vertical-align: top;\n",
       "    }\n",
       "\n",
       "    .dataframe thead th {\n",
       "        text-align: right;\n",
       "    }\n",
       "</style>\n",
       "<table border=\"1\" class=\"dataframe\">\n",
       "  <thead>\n",
       "    <tr style=\"text-align: right;\">\n",
       "      <th></th>\n",
       "      <th>Brooklyn_Bridge</th>\n",
       "      <th>Manhattan_Bridge</th>\n",
       "      <th>Williamsburg_Bridge</th>\n",
       "      <th>Queensboro_Bridge</th>\n",
       "    </tr>\n",
       "  </thead>\n",
       "  <tbody>\n",
       "    <tr>\n",
       "      <th>3</th>\n",
       "      <td>723</td>\n",
       "      <td>1913</td>\n",
       "      <td>2279</td>\n",
       "      <td>1666</td>\n",
       "    </tr>\n",
       "    <tr>\n",
       "      <th>4</th>\n",
       "      <td>2807</td>\n",
       "      <td>5276</td>\n",
       "      <td>5711</td>\n",
       "      <td>4197</td>\n",
       "    </tr>\n",
       "    <tr>\n",
       "      <th>5</th>\n",
       "      <td>461</td>\n",
       "      <td>1324</td>\n",
       "      <td>1739</td>\n",
       "      <td>1372</td>\n",
       "    </tr>\n",
       "  </tbody>\n",
       "</table>\n",
       "</div>"
      ],
      "text/plain": [
       "   Brooklyn_Bridge  Manhattan_Bridge  Williamsburg_Bridge  Queensboro_Bridge\n",
       "3              723              1913                 2279               1666\n",
       "4             2807              5276                 5711               4197\n",
       "5              461              1324                 1739               1372"
      ]
     },
     "execution_count": 21,
     "metadata": {},
     "output_type": "execute_result"
    }
   ],
   "source": [
    "NY_bicycle.iloc[3:6,6:10] # use dataframe.iloc to get a segment by its indices. This example extracts values of the columns indexed 6-9 in observations indexed 3-5"
   ]
  },
  {
   "cell_type": "code",
   "execution_count": 22,
   "metadata": {
    "colab": {
     "base_uri": "https://localhost:8080/",
     "height": 459
    },
    "executionInfo": {
     "elapsed": 195,
     "status": "ok",
     "timestamp": 1695075428049,
     "user": {
      "displayName": "Ruwen Qin",
      "userId": "01885423067234457717"
     },
     "user_tz": 240
    },
    "id": "1v_wVM9hUrGz",
    "outputId": "f747ed50-b289-4829-ed92-44d1dc663ddd"
   },
   "outputs": [
    {
     "data": {
      "text/html": [
       "<div>\n",
       "<style scoped>\n",
       "    .dataframe tbody tr th:only-of-type {\n",
       "        vertical-align: middle;\n",
       "    }\n",
       "\n",
       "    .dataframe tbody tr th {\n",
       "        vertical-align: top;\n",
       "    }\n",
       "\n",
       "    .dataframe thead th {\n",
       "        text-align: right;\n",
       "    }\n",
       "</style>\n",
       "<table border=\"1\" class=\"dataframe\">\n",
       "  <thead>\n",
       "    <tr style=\"text-align: right;\">\n",
       "      <th></th>\n",
       "      <th>Date</th>\n",
       "      <th>Day</th>\n",
       "      <th>High_Temp_F</th>\n",
       "      <th>Low_Temp_F</th>\n",
       "      <th>Precipitation</th>\n",
       "      <th>Weather</th>\n",
       "      <th>Brooklyn_Bridge</th>\n",
       "      <th>Manhattan_Bridge</th>\n",
       "      <th>Williamsburg_Bridge</th>\n",
       "      <th>Queensboro_Bridge</th>\n",
       "      <th>Total</th>\n",
       "    </tr>\n",
       "  </thead>\n",
       "  <tbody>\n",
       "    <tr>\n",
       "      <th>116</th>\n",
       "      <td>26-Jul</td>\n",
       "      <td>Wednesday</td>\n",
       "      <td>75.9</td>\n",
       "      <td>66.0</td>\n",
       "      <td>0.0</td>\n",
       "      <td>N</td>\n",
       "      <td>3821</td>\n",
       "      <td>7987</td>\n",
       "      <td>8605</td>\n",
       "      <td>6556</td>\n",
       "      <td>26969</td>\n",
       "    </tr>\n",
       "    <tr>\n",
       "      <th>130</th>\n",
       "      <td>9-Aug</td>\n",
       "      <td>Wednesday</td>\n",
       "      <td>82.9</td>\n",
       "      <td>66.0</td>\n",
       "      <td>0.0</td>\n",
       "      <td>N</td>\n",
       "      <td>3893</td>\n",
       "      <td>7791</td>\n",
       "      <td>8589</td>\n",
       "      <td>6582</td>\n",
       "      <td>26855</td>\n",
       "    </tr>\n",
       "    <tr>\n",
       "      <th>88</th>\n",
       "      <td>28-Jun</td>\n",
       "      <td>Wednesday</td>\n",
       "      <td>78.1</td>\n",
       "      <td>62.1</td>\n",
       "      <td>0.0</td>\n",
       "      <td>N</td>\n",
       "      <td>3766</td>\n",
       "      <td>8239</td>\n",
       "      <td>8873</td>\n",
       "      <td>5834</td>\n",
       "      <td>26712</td>\n",
       "    </tr>\n",
       "    <tr>\n",
       "      <th>164</th>\n",
       "      <td>12-Sep</td>\n",
       "      <td>Tuesday</td>\n",
       "      <td>78.1</td>\n",
       "      <td>61.0</td>\n",
       "      <td>0.0</td>\n",
       "      <td>N</td>\n",
       "      <td>3497</td>\n",
       "      <td>7983</td>\n",
       "      <td>8756</td>\n",
       "      <td>6386</td>\n",
       "      <td>26622</td>\n",
       "    </tr>\n",
       "    <tr>\n",
       "      <th>75</th>\n",
       "      <td>15-Jun</td>\n",
       "      <td>Thursday</td>\n",
       "      <td>75.0</td>\n",
       "      <td>66.0</td>\n",
       "      <td>0.0</td>\n",
       "      <td>N</td>\n",
       "      <td>3510</td>\n",
       "      <td>7854</td>\n",
       "      <td>8652</td>\n",
       "      <td>6344</td>\n",
       "      <td>26360</td>\n",
       "    </tr>\n",
       "    <tr>\n",
       "      <th>45</th>\n",
       "      <td>16-May</td>\n",
       "      <td>Tuesday</td>\n",
       "      <td>78.1</td>\n",
       "      <td>57.9</td>\n",
       "      <td>0.0</td>\n",
       "      <td>N</td>\n",
       "      <td>3666</td>\n",
       "      <td>7847</td>\n",
       "      <td>8420</td>\n",
       "      <td>6209</td>\n",
       "      <td>26142</td>\n",
       "    </tr>\n",
       "    <tr>\n",
       "      <th>46</th>\n",
       "      <td>17-May</td>\n",
       "      <td>Wednesday</td>\n",
       "      <td>90.0</td>\n",
       "      <td>66.0</td>\n",
       "      <td>0.0</td>\n",
       "      <td>N</td>\n",
       "      <td>3535</td>\n",
       "      <td>7888</td>\n",
       "      <td>8540</td>\n",
       "      <td>6121</td>\n",
       "      <td>26084</td>\n",
       "    </tr>\n",
       "    <tr>\n",
       "      <th>192</th>\n",
       "      <td>10-Oct</td>\n",
       "      <td>Tuesday</td>\n",
       "      <td>80.1</td>\n",
       "      <td>66.0</td>\n",
       "      <td>0.0</td>\n",
       "      <td>N</td>\n",
       "      <td>3922</td>\n",
       "      <td>7499</td>\n",
       "      <td>8208</td>\n",
       "      <td>6421</td>\n",
       "      <td>26050</td>\n",
       "    </tr>\n",
       "  </tbody>\n",
       "</table>\n",
       "</div>"
      ],
      "text/plain": [
       "       Date        Day  High_Temp_F  Low_Temp_F  Precipitation Weather  \\\n",
       "116  26-Jul  Wednesday         75.9        66.0            0.0       N   \n",
       "130   9-Aug  Wednesday         82.9        66.0            0.0       N   \n",
       "88   28-Jun  Wednesday         78.1        62.1            0.0       N   \n",
       "164  12-Sep    Tuesday         78.1        61.0            0.0       N   \n",
       "75   15-Jun   Thursday         75.0        66.0            0.0       N   \n",
       "45   16-May    Tuesday         78.1        57.9            0.0       N   \n",
       "46   17-May  Wednesday         90.0        66.0            0.0       N   \n",
       "192  10-Oct    Tuesday         80.1        66.0            0.0       N   \n",
       "\n",
       "     Brooklyn_Bridge  Manhattan_Bridge  Williamsburg_Bridge  \\\n",
       "116             3821              7987                 8605   \n",
       "130             3893              7791                 8589   \n",
       "88              3766              8239                 8873   \n",
       "164             3497              7983                 8756   \n",
       "75              3510              7854                 8652   \n",
       "45              3666              7847                 8420   \n",
       "46              3535              7888                 8540   \n",
       "192             3922              7499                 8208   \n",
       "\n",
       "     Queensboro_Bridge  Total  \n",
       "116               6556  26969  \n",
       "130               6582  26855  \n",
       "88                5834  26712  \n",
       "164               6386  26622  \n",
       "75                6344  26360  \n",
       "45                6209  26142  \n",
       "46                6121  26084  \n",
       "192               6421  26050  "
      ]
     },
     "execution_count": 22,
     "metadata": {},
     "output_type": "execute_result"
    }
   ],
   "source": [
    "NY_bicycle_sort = NY_bicycle.sort_values(by='Total', na_position='first',ascending=False) #sort the dataframe by \"Total\" in the descending order\n",
    "\n",
    "NY_bicycle_sort[NY_bicycle_sort.Total>26000] #extracts observations with the crition: 'Total' value >26,000"
   ]
  },
  {
   "cell_type": "code",
   "execution_count": 23,
   "metadata": {
    "colab": {
     "base_uri": "https://localhost:8080/",
     "height": 459
    },
    "executionInfo": {
     "elapsed": 12,
     "status": "ok",
     "timestamp": 1695075428050,
     "user": {
      "displayName": "Ruwen Qin",
      "userId": "01885423067234457717"
     },
     "user_tz": 240
    },
    "id": "V9oalOBImDfm",
    "outputId": "5e7b3ac3-27e7-4222-f32a-eb2cd770ddff"
   },
   "outputs": [
    {
     "data": {
      "text/html": [
       "<div>\n",
       "<style scoped>\n",
       "    .dataframe tbody tr th:only-of-type {\n",
       "        vertical-align: middle;\n",
       "    }\n",
       "\n",
       "    .dataframe tbody tr th {\n",
       "        vertical-align: top;\n",
       "    }\n",
       "\n",
       "    .dataframe thead th {\n",
       "        text-align: right;\n",
       "    }\n",
       "</style>\n",
       "<table border=\"1\" class=\"dataframe\">\n",
       "  <thead>\n",
       "    <tr style=\"text-align: right;\">\n",
       "      <th></th>\n",
       "      <th>Date</th>\n",
       "      <th>Day</th>\n",
       "      <th>High_Temp_F</th>\n",
       "      <th>Low_Temp_F</th>\n",
       "      <th>Precipitation</th>\n",
       "      <th>Weather</th>\n",
       "      <th>Brooklyn_Bridge</th>\n",
       "      <th>Manhattan_Bridge</th>\n",
       "      <th>Williamsburg_Bridge</th>\n",
       "      <th>Queensboro_Bridge</th>\n",
       "      <th>Total</th>\n",
       "    </tr>\n",
       "  </thead>\n",
       "  <tbody>\n",
       "    <tr>\n",
       "      <th>45</th>\n",
       "      <td>16-May</td>\n",
       "      <td>Tuesday</td>\n",
       "      <td>78.1</td>\n",
       "      <td>57.9</td>\n",
       "      <td>0.0</td>\n",
       "      <td>N</td>\n",
       "      <td>3666</td>\n",
       "      <td>7847</td>\n",
       "      <td>8420</td>\n",
       "      <td>6209</td>\n",
       "      <td>26142</td>\n",
       "    </tr>\n",
       "    <tr>\n",
       "      <th>46</th>\n",
       "      <td>17-May</td>\n",
       "      <td>Wednesday</td>\n",
       "      <td>90.0</td>\n",
       "      <td>66.0</td>\n",
       "      <td>0.0</td>\n",
       "      <td>N</td>\n",
       "      <td>3535</td>\n",
       "      <td>7888</td>\n",
       "      <td>8540</td>\n",
       "      <td>6121</td>\n",
       "      <td>26084</td>\n",
       "    </tr>\n",
       "    <tr>\n",
       "      <th>75</th>\n",
       "      <td>15-Jun</td>\n",
       "      <td>Thursday</td>\n",
       "      <td>75.0</td>\n",
       "      <td>66.0</td>\n",
       "      <td>0.0</td>\n",
       "      <td>N</td>\n",
       "      <td>3510</td>\n",
       "      <td>7854</td>\n",
       "      <td>8652</td>\n",
       "      <td>6344</td>\n",
       "      <td>26360</td>\n",
       "    </tr>\n",
       "    <tr>\n",
       "      <th>88</th>\n",
       "      <td>28-Jun</td>\n",
       "      <td>Wednesday</td>\n",
       "      <td>78.1</td>\n",
       "      <td>62.1</td>\n",
       "      <td>0.0</td>\n",
       "      <td>N</td>\n",
       "      <td>3766</td>\n",
       "      <td>8239</td>\n",
       "      <td>8873</td>\n",
       "      <td>5834</td>\n",
       "      <td>26712</td>\n",
       "    </tr>\n",
       "    <tr>\n",
       "      <th>116</th>\n",
       "      <td>26-Jul</td>\n",
       "      <td>Wednesday</td>\n",
       "      <td>75.9</td>\n",
       "      <td>66.0</td>\n",
       "      <td>0.0</td>\n",
       "      <td>N</td>\n",
       "      <td>3821</td>\n",
       "      <td>7987</td>\n",
       "      <td>8605</td>\n",
       "      <td>6556</td>\n",
       "      <td>26969</td>\n",
       "    </tr>\n",
       "    <tr>\n",
       "      <th>130</th>\n",
       "      <td>9-Aug</td>\n",
       "      <td>Wednesday</td>\n",
       "      <td>82.9</td>\n",
       "      <td>66.0</td>\n",
       "      <td>0.0</td>\n",
       "      <td>N</td>\n",
       "      <td>3893</td>\n",
       "      <td>7791</td>\n",
       "      <td>8589</td>\n",
       "      <td>6582</td>\n",
       "      <td>26855</td>\n",
       "    </tr>\n",
       "    <tr>\n",
       "      <th>164</th>\n",
       "      <td>12-Sep</td>\n",
       "      <td>Tuesday</td>\n",
       "      <td>78.1</td>\n",
       "      <td>61.0</td>\n",
       "      <td>0.0</td>\n",
       "      <td>N</td>\n",
       "      <td>3497</td>\n",
       "      <td>7983</td>\n",
       "      <td>8756</td>\n",
       "      <td>6386</td>\n",
       "      <td>26622</td>\n",
       "    </tr>\n",
       "    <tr>\n",
       "      <th>192</th>\n",
       "      <td>10-Oct</td>\n",
       "      <td>Tuesday</td>\n",
       "      <td>80.1</td>\n",
       "      <td>66.0</td>\n",
       "      <td>0.0</td>\n",
       "      <td>N</td>\n",
       "      <td>3922</td>\n",
       "      <td>7499</td>\n",
       "      <td>8208</td>\n",
       "      <td>6421</td>\n",
       "      <td>26050</td>\n",
       "    </tr>\n",
       "  </tbody>\n",
       "</table>\n",
       "</div>"
      ],
      "text/plain": [
       "       Date        Day  High_Temp_F  Low_Temp_F  Precipitation Weather  \\\n",
       "45   16-May    Tuesday         78.1        57.9            0.0       N   \n",
       "46   17-May  Wednesday         90.0        66.0            0.0       N   \n",
       "75   15-Jun   Thursday         75.0        66.0            0.0       N   \n",
       "88   28-Jun  Wednesday         78.1        62.1            0.0       N   \n",
       "116  26-Jul  Wednesday         75.9        66.0            0.0       N   \n",
       "130   9-Aug  Wednesday         82.9        66.0            0.0       N   \n",
       "164  12-Sep    Tuesday         78.1        61.0            0.0       N   \n",
       "192  10-Oct    Tuesday         80.1        66.0            0.0       N   \n",
       "\n",
       "     Brooklyn_Bridge  Manhattan_Bridge  Williamsburg_Bridge  \\\n",
       "45              3666              7847                 8420   \n",
       "46              3535              7888                 8540   \n",
       "75              3510              7854                 8652   \n",
       "88              3766              8239                 8873   \n",
       "116             3821              7987                 8605   \n",
       "130             3893              7791                 8589   \n",
       "164             3497              7983                 8756   \n",
       "192             3922              7499                 8208   \n",
       "\n",
       "     Queensboro_Bridge  Total  \n",
       "45                6209  26142  \n",
       "46                6121  26084  \n",
       "75                6344  26360  \n",
       "88                5834  26712  \n",
       "116               6556  26969  \n",
       "130               6582  26855  \n",
       "164               6386  26622  \n",
       "192               6421  26050  "
      ]
     },
     "execution_count": 23,
     "metadata": {},
     "output_type": "execute_result"
    }
   ],
   "source": [
    "NY_bicycle[NY_bicycle.Total>26000] #extracts observations with the crition: 'Total' value >26,000\n"
   ]
  },
  {
   "cell_type": "code",
   "execution_count": 24,
   "metadata": {
    "colab": {
     "base_uri": "https://localhost:8080/",
     "height": 300
    },
    "executionInfo": {
     "elapsed": 174,
     "status": "ok",
     "timestamp": 1695075428214,
     "user": {
      "displayName": "Ruwen Qin",
      "userId": "01885423067234457717"
     },
     "user_tz": 240
    },
    "id": "iMYI7D30TpGR",
    "outputId": "d90c4f05-19f9-46f5-f023-52804cc3f961"
   },
   "outputs": [
    {
     "data": {
      "text/html": [
       "<div>\n",
       "<style scoped>\n",
       "    .dataframe tbody tr th:only-of-type {\n",
       "        vertical-align: middle;\n",
       "    }\n",
       "\n",
       "    .dataframe tbody tr th {\n",
       "        vertical-align: top;\n",
       "    }\n",
       "\n",
       "    .dataframe thead th {\n",
       "        text-align: right;\n",
       "    }\n",
       "</style>\n",
       "<table border=\"1\" class=\"dataframe\">\n",
       "  <thead>\n",
       "    <tr style=\"text-align: right;\">\n",
       "      <th></th>\n",
       "      <th>Precipitation</th>\n",
       "      <th>High_Temp_F</th>\n",
       "      <th>Low_Temp_F</th>\n",
       "    </tr>\n",
       "  </thead>\n",
       "  <tbody>\n",
       "    <tr>\n",
       "      <th>45</th>\n",
       "      <td>0.0</td>\n",
       "      <td>78.1</td>\n",
       "      <td>57.9</td>\n",
       "    </tr>\n",
       "    <tr>\n",
       "      <th>46</th>\n",
       "      <td>0.0</td>\n",
       "      <td>90.0</td>\n",
       "      <td>66.0</td>\n",
       "    </tr>\n",
       "    <tr>\n",
       "      <th>75</th>\n",
       "      <td>0.0</td>\n",
       "      <td>75.0</td>\n",
       "      <td>66.0</td>\n",
       "    </tr>\n",
       "    <tr>\n",
       "      <th>88</th>\n",
       "      <td>0.0</td>\n",
       "      <td>78.1</td>\n",
       "      <td>62.1</td>\n",
       "    </tr>\n",
       "    <tr>\n",
       "      <th>116</th>\n",
       "      <td>0.0</td>\n",
       "      <td>75.9</td>\n",
       "      <td>66.0</td>\n",
       "    </tr>\n",
       "    <tr>\n",
       "      <th>130</th>\n",
       "      <td>0.0</td>\n",
       "      <td>82.9</td>\n",
       "      <td>66.0</td>\n",
       "    </tr>\n",
       "    <tr>\n",
       "      <th>164</th>\n",
       "      <td>0.0</td>\n",
       "      <td>78.1</td>\n",
       "      <td>61.0</td>\n",
       "    </tr>\n",
       "    <tr>\n",
       "      <th>192</th>\n",
       "      <td>0.0</td>\n",
       "      <td>80.1</td>\n",
       "      <td>66.0</td>\n",
       "    </tr>\n",
       "  </tbody>\n",
       "</table>\n",
       "</div>"
      ],
      "text/plain": [
       "     Precipitation  High_Temp_F  Low_Temp_F\n",
       "45             0.0         78.1        57.9\n",
       "46             0.0         90.0        66.0\n",
       "75             0.0         75.0        66.0\n",
       "88             0.0         78.1        62.1\n",
       "116            0.0         75.9        66.0\n",
       "130            0.0         82.9        66.0\n",
       "164            0.0         78.1        61.0\n",
       "192            0.0         80.1        66.0"
      ]
     },
     "execution_count": 24,
     "metadata": {},
     "output_type": "execute_result"
    }
   ],
   "source": [
    "NY_bicycle.loc[NY_bicycle.Total>26000, ['Precipitation','High_Temp_F', 'Low_Temp_F']] # use dataframe.loc[] to Access a group of rows and columns by label(s) or a boolean array. This example extracts columns 'Precipitation','High_Temp_F', 'Low_Temp_F', whose 'Total' values are greater than 26,000"
   ]
  },
  {
   "cell_type": "code",
   "execution_count": 25,
   "metadata": {
    "colab": {
     "base_uri": "https://localhost:8080/",
     "height": 488
    },
    "executionInfo": {
     "elapsed": 9,
     "status": "ok",
     "timestamp": 1695075428215,
     "user": {
      "displayName": "Ruwen Qin",
      "userId": "01885423067234457717"
     },
     "user_tz": 240
    },
    "id": "Ex_R1Ip65OuS",
    "outputId": "2abafe6d-e086-4adc-8ff9-14d088538928"
   },
   "outputs": [
    {
     "data": {
      "text/html": [
       "<div>\n",
       "<style scoped>\n",
       "    .dataframe tbody tr th:only-of-type {\n",
       "        vertical-align: middle;\n",
       "    }\n",
       "\n",
       "    .dataframe tbody tr th {\n",
       "        vertical-align: top;\n",
       "    }\n",
       "\n",
       "    .dataframe thead th {\n",
       "        text-align: right;\n",
       "    }\n",
       "</style>\n",
       "<table border=\"1\" class=\"dataframe\">\n",
       "  <thead>\n",
       "    <tr style=\"text-align: right;\">\n",
       "      <th></th>\n",
       "      <th>Precipitation</th>\n",
       "    </tr>\n",
       "  </thead>\n",
       "  <tbody>\n",
       "    <tr>\n",
       "      <th>6</th>\n",
       "      <td>NaN</td>\n",
       "    </tr>\n",
       "    <tr>\n",
       "      <th>15</th>\n",
       "      <td>NaN</td>\n",
       "    </tr>\n",
       "    <tr>\n",
       "      <th>16</th>\n",
       "      <td>NaN</td>\n",
       "    </tr>\n",
       "    <tr>\n",
       "      <th>18</th>\n",
       "      <td>NaN</td>\n",
       "    </tr>\n",
       "    <tr>\n",
       "      <th>23</th>\n",
       "      <td>NaN</td>\n",
       "    </tr>\n",
       "    <tr>\n",
       "      <th>73</th>\n",
       "      <td>NaN</td>\n",
       "    </tr>\n",
       "    <tr>\n",
       "      <th>78</th>\n",
       "      <td>NaN</td>\n",
       "    </tr>\n",
       "    <tr>\n",
       "      <th>90</th>\n",
       "      <td>NaN</td>\n",
       "    </tr>\n",
       "    <tr>\n",
       "      <th>96</th>\n",
       "      <td>NaN</td>\n",
       "    </tr>\n",
       "    <tr>\n",
       "      <th>117</th>\n",
       "      <td>NaN</td>\n",
       "    </tr>\n",
       "    <tr>\n",
       "      <th>132</th>\n",
       "      <td>NaN</td>\n",
       "    </tr>\n",
       "    <tr>\n",
       "      <th>144</th>\n",
       "      <td>NaN</td>\n",
       "    </tr>\n",
       "    <tr>\n",
       "      <th>157</th>\n",
       "      <td>NaN</td>\n",
       "    </tr>\n",
       "    <tr>\n",
       "      <th>197</th>\n",
       "      <td>NaN</td>\n",
       "    </tr>\n",
       "  </tbody>\n",
       "</table>\n",
       "</div>"
      ],
      "text/plain": [
       "     Precipitation\n",
       "6              NaN\n",
       "15             NaN\n",
       "16             NaN\n",
       "18             NaN\n",
       "23             NaN\n",
       "73             NaN\n",
       "78             NaN\n",
       "90             NaN\n",
       "96             NaN\n",
       "117            NaN\n",
       "132            NaN\n",
       "144            NaN\n",
       "157            NaN\n",
       "197            NaN"
      ]
     },
     "execution_count": 25,
     "metadata": {},
     "output_type": "execute_result"
    }
   ],
   "source": [
    "NY_bicycle.loc[NY_bicycle.Weather=='T',['Precipitation']] # extract column 'Precipitation' whose 'Weather' value is equal to T"
   ]
  },
  {
   "cell_type": "code",
   "execution_count": 26,
   "metadata": {
    "colab": {
     "base_uri": "https://localhost:8080/",
     "height": 551
    },
    "executionInfo": {
     "elapsed": 175,
     "status": "ok",
     "timestamp": 1695075428382,
     "user": {
      "displayName": "Ruwen Qin",
      "userId": "01885423067234457717"
     },
     "user_tz": 240
    },
    "id": "QPijjx205bTd",
    "outputId": "c4e26ee6-1df1-49b1-8469-e56cbf29fe7e"
   },
   "outputs": [
    {
     "data": {
      "text/html": [
       "<div>\n",
       "<style scoped>\n",
       "    .dataframe tbody tr th:only-of-type {\n",
       "        vertical-align: middle;\n",
       "    }\n",
       "\n",
       "    .dataframe tbody tr th {\n",
       "        vertical-align: top;\n",
       "    }\n",
       "\n",
       "    .dataframe thead th {\n",
       "        text-align: right;\n",
       "    }\n",
       "</style>\n",
       "<table border=\"1\" class=\"dataframe\">\n",
       "  <thead>\n",
       "    <tr style=\"text-align: right;\">\n",
       "      <th></th>\n",
       "      <th>Low_Temp_F</th>\n",
       "      <th>High_Temp_F</th>\n",
       "    </tr>\n",
       "  </thead>\n",
       "  <tbody>\n",
       "    <tr>\n",
       "      <th>32</th>\n",
       "      <td>57.9</td>\n",
       "      <td>64.9</td>\n",
       "    </tr>\n",
       "    <tr>\n",
       "      <th>46</th>\n",
       "      <td>66.0</td>\n",
       "      <td>90.0</td>\n",
       "    </tr>\n",
       "    <tr>\n",
       "      <th>67</th>\n",
       "      <td>54.0</td>\n",
       "      <td>66.9</td>\n",
       "    </tr>\n",
       "    <tr>\n",
       "      <th>81</th>\n",
       "      <td>72.0</td>\n",
       "      <td>82.0</td>\n",
       "    </tr>\n",
       "    <tr>\n",
       "      <th>88</th>\n",
       "      <td>62.1</td>\n",
       "      <td>78.1</td>\n",
       "    </tr>\n",
       "    <tr>\n",
       "      <th>95</th>\n",
       "      <td>71.1</td>\n",
       "      <td>84.9</td>\n",
       "    </tr>\n",
       "    <tr>\n",
       "      <th>109</th>\n",
       "      <td>77.0</td>\n",
       "      <td>91.0</td>\n",
       "    </tr>\n",
       "    <tr>\n",
       "      <th>116</th>\n",
       "      <td>66.0</td>\n",
       "      <td>75.9</td>\n",
       "    </tr>\n",
       "    <tr>\n",
       "      <th>130</th>\n",
       "      <td>66.0</td>\n",
       "      <td>82.9</td>\n",
       "    </tr>\n",
       "    <tr>\n",
       "      <th>137</th>\n",
       "      <td>70.0</td>\n",
       "      <td>84.9</td>\n",
       "    </tr>\n",
       "    <tr>\n",
       "      <th>151</th>\n",
       "      <td>61.0</td>\n",
       "      <td>75.9</td>\n",
       "    </tr>\n",
       "    <tr>\n",
       "      <th>172</th>\n",
       "      <td>71.1</td>\n",
       "      <td>78.1</td>\n",
       "    </tr>\n",
       "    <tr>\n",
       "      <th>179</th>\n",
       "      <td>71.1</td>\n",
       "      <td>84.9</td>\n",
       "    </tr>\n",
       "    <tr>\n",
       "      <th>186</th>\n",
       "      <td>55.9</td>\n",
       "      <td>75.0</td>\n",
       "    </tr>\n",
       "    <tr>\n",
       "      <th>200</th>\n",
       "      <td>50.0</td>\n",
       "      <td>71.1</td>\n",
       "    </tr>\n",
       "    <tr>\n",
       "      <th>207</th>\n",
       "      <td>57.9</td>\n",
       "      <td>64.9</td>\n",
       "    </tr>\n",
       "  </tbody>\n",
       "</table>\n",
       "</div>"
      ],
      "text/plain": [
       "     Low_Temp_F  High_Temp_F\n",
       "32         57.9         64.9\n",
       "46         66.0         90.0\n",
       "67         54.0         66.9\n",
       "81         72.0         82.0\n",
       "88         62.1         78.1\n",
       "95         71.1         84.9\n",
       "109        77.0         91.0\n",
       "116        66.0         75.9\n",
       "130        66.0         82.9\n",
       "137        70.0         84.9\n",
       "151        61.0         75.9\n",
       "172        71.1         78.1\n",
       "179        71.1         84.9\n",
       "186        55.9         75.0\n",
       "200        50.0         71.1\n",
       "207        57.9         64.9"
      ]
     },
     "execution_count": 26,
     "metadata": {},
     "output_type": "execute_result"
    }
   ],
   "source": [
    "NY_bicycle.loc[(NY_bicycle.Brooklyn_Bridge>=3000) & (NY_bicycle.Day=='Wednesday'),['Low_Temp_F', 'High_Temp_F']] # extract columns 'Low_Temp_F' and 'High_Temp_F' when Brooklyn_Bridge >=3000 on Wednesday"
   ]
  },
  {
   "cell_type": "markdown",
   "metadata": {
    "id": "WS5v2FhBLu9b"
   },
   "source": [
    "# 2 Data Distribution"
   ]
  },
  {
   "cell_type": "code",
   "execution_count": 27,
   "metadata": {
    "colab": {
     "base_uri": "https://localhost:8080/",
     "height": 432
    },
    "executionInfo": {
     "elapsed": 185,
     "status": "ok",
     "timestamp": 1695075428565,
     "user": {
      "displayName": "Ruwen Qin",
      "userId": "01885423067234457717"
     },
     "user_tz": 240
    },
    "id": "uw1vzLNW7d2W",
    "outputId": "44e8d571-d74a-4b7c-ce5a-59c2bb7ffbbe"
   },
   "outputs": [
    {
     "data": {
      "text/html": [
       "<div>\n",
       "<style scoped>\n",
       "    .dataframe tbody tr th:only-of-type {\n",
       "        vertical-align: middle;\n",
       "    }\n",
       "\n",
       "    .dataframe tbody tr th {\n",
       "        vertical-align: top;\n",
       "    }\n",
       "\n",
       "    .dataframe thead th {\n",
       "        text-align: right;\n",
       "    }\n",
       "</style>\n",
       "<table border=\"1\" class=\"dataframe\">\n",
       "  <thead>\n",
       "    <tr style=\"text-align: right;\">\n",
       "      <th></th>\n",
       "      <th>Date</th>\n",
       "      <th>Day</th>\n",
       "      <th>High_Temp_F</th>\n",
       "      <th>Low_Temp_F</th>\n",
       "      <th>Precipitation</th>\n",
       "      <th>Weather</th>\n",
       "      <th>Brooklyn_Bridge</th>\n",
       "      <th>Manhattan_Bridge</th>\n",
       "      <th>Williamsburg_Bridge</th>\n",
       "      <th>Queensboro_Bridge</th>\n",
       "      <th>Total</th>\n",
       "    </tr>\n",
       "  </thead>\n",
       "  <tbody>\n",
       "    <tr>\n",
       "      <th>count</th>\n",
       "      <td>214</td>\n",
       "      <td>214</td>\n",
       "      <td>214.000000</td>\n",
       "      <td>214.000000</td>\n",
       "      <td>200.000000</td>\n",
       "      <td>214</td>\n",
       "      <td>214.000000</td>\n",
       "      <td>214.000000</td>\n",
       "      <td>214.000000</td>\n",
       "      <td>214.000000</td>\n",
       "      <td>214.000000</td>\n",
       "    </tr>\n",
       "    <tr>\n",
       "      <th>unique</th>\n",
       "      <td>214</td>\n",
       "      <td>7</td>\n",
       "      <td>NaN</td>\n",
       "      <td>NaN</td>\n",
       "      <td>NaN</td>\n",
       "      <td>3</td>\n",
       "      <td>NaN</td>\n",
       "      <td>NaN</td>\n",
       "      <td>NaN</td>\n",
       "      <td>NaN</td>\n",
       "      <td>NaN</td>\n",
       "    </tr>\n",
       "    <tr>\n",
       "      <th>top</th>\n",
       "      <td>1-Apr</td>\n",
       "      <td>Saturday</td>\n",
       "      <td>NaN</td>\n",
       "      <td>NaN</td>\n",
       "      <td>NaN</td>\n",
       "      <td>N</td>\n",
       "      <td>NaN</td>\n",
       "      <td>NaN</td>\n",
       "      <td>NaN</td>\n",
       "      <td>NaN</td>\n",
       "      <td>NaN</td>\n",
       "    </tr>\n",
       "    <tr>\n",
       "      <th>freq</th>\n",
       "      <td>1</td>\n",
       "      <td>31</td>\n",
       "      <td>NaN</td>\n",
       "      <td>NaN</td>\n",
       "      <td>NaN</td>\n",
       "      <td>131</td>\n",
       "      <td>NaN</td>\n",
       "      <td>NaN</td>\n",
       "      <td>NaN</td>\n",
       "      <td>NaN</td>\n",
       "      <td>NaN</td>\n",
       "    </tr>\n",
       "    <tr>\n",
       "      <th>mean</th>\n",
       "      <td>NaN</td>\n",
       "      <td>NaN</td>\n",
       "      <td>74.201869</td>\n",
       "      <td>62.027103</td>\n",
       "      <td>0.141000</td>\n",
       "      <td>NaN</td>\n",
       "      <td>2680.042056</td>\n",
       "      <td>5345.485981</td>\n",
       "      <td>6051.658879</td>\n",
       "      <td>4550.490654</td>\n",
       "      <td>18627.677570</td>\n",
       "    </tr>\n",
       "    <tr>\n",
       "      <th>std</th>\n",
       "      <td>NaN</td>\n",
       "      <td>NaN</td>\n",
       "      <td>10.390443</td>\n",
       "      <td>9.305792</td>\n",
       "      <td>0.406242</td>\n",
       "      <td>NaN</td>\n",
       "      <td>854.710864</td>\n",
       "      <td>1746.546523</td>\n",
       "      <td>1755.814991</td>\n",
       "      <td>1306.899746</td>\n",
       "      <td>5539.557489</td>\n",
       "    </tr>\n",
       "    <tr>\n",
       "      <th>min</th>\n",
       "      <td>NaN</td>\n",
       "      <td>NaN</td>\n",
       "      <td>46.000000</td>\n",
       "      <td>37.000000</td>\n",
       "      <td>0.000000</td>\n",
       "      <td>NaN</td>\n",
       "      <td>151.000000</td>\n",
       "      <td>484.000000</td>\n",
       "      <td>874.000000</td>\n",
       "      <td>865.000000</td>\n",
       "      <td>2374.000000</td>\n",
       "    </tr>\n",
       "    <tr>\n",
       "      <th>25%</th>\n",
       "      <td>NaN</td>\n",
       "      <td>NaN</td>\n",
       "      <td>66.900000</td>\n",
       "      <td>55.225000</td>\n",
       "      <td>0.000000</td>\n",
       "      <td>NaN</td>\n",
       "      <td>2298.000000</td>\n",
       "      <td>4308.000000</td>\n",
       "      <td>5115.000000</td>\n",
       "      <td>3746.000000</td>\n",
       "      <td>15704.750000</td>\n",
       "    </tr>\n",
       "    <tr>\n",
       "      <th>50%</th>\n",
       "      <td>NaN</td>\n",
       "      <td>NaN</td>\n",
       "      <td>75.900000</td>\n",
       "      <td>64.000000</td>\n",
       "      <td>0.000000</td>\n",
       "      <td>NaN</td>\n",
       "      <td>2857.000000</td>\n",
       "      <td>5607.500000</td>\n",
       "      <td>6287.000000</td>\n",
       "      <td>4681.000000</td>\n",
       "      <td>19367.000000</td>\n",
       "    </tr>\n",
       "    <tr>\n",
       "      <th>75%</th>\n",
       "      <td>NaN</td>\n",
       "      <td>NaN</td>\n",
       "      <td>82.000000</td>\n",
       "      <td>70.000000</td>\n",
       "      <td>0.060000</td>\n",
       "      <td>NaN</td>\n",
       "      <td>3285.000000</td>\n",
       "      <td>6759.500000</td>\n",
       "      <td>7512.500000</td>\n",
       "      <td>5692.000000</td>\n",
       "      <td>23151.500000</td>\n",
       "    </tr>\n",
       "    <tr>\n",
       "      <th>max</th>\n",
       "      <td>NaN</td>\n",
       "      <td>NaN</td>\n",
       "      <td>93.900000</td>\n",
       "      <td>78.100000</td>\n",
       "      <td>3.030000</td>\n",
       "      <td>NaN</td>\n",
       "      <td>4960.000000</td>\n",
       "      <td>8239.000000</td>\n",
       "      <td>8873.000000</td>\n",
       "      <td>6582.000000</td>\n",
       "      <td>26969.000000</td>\n",
       "    </tr>\n",
       "  </tbody>\n",
       "</table>\n",
       "</div>"
      ],
      "text/plain": [
       "         Date       Day  High_Temp_F  Low_Temp_F  Precipitation Weather  \\\n",
       "count     214       214   214.000000  214.000000     200.000000     214   \n",
       "unique    214         7          NaN         NaN            NaN       3   \n",
       "top     1-Apr  Saturday          NaN         NaN            NaN       N   \n",
       "freq        1        31          NaN         NaN            NaN     131   \n",
       "mean      NaN       NaN    74.201869   62.027103       0.141000     NaN   \n",
       "std       NaN       NaN    10.390443    9.305792       0.406242     NaN   \n",
       "min       NaN       NaN    46.000000   37.000000       0.000000     NaN   \n",
       "25%       NaN       NaN    66.900000   55.225000       0.000000     NaN   \n",
       "50%       NaN       NaN    75.900000   64.000000       0.000000     NaN   \n",
       "75%       NaN       NaN    82.000000   70.000000       0.060000     NaN   \n",
       "max       NaN       NaN    93.900000   78.100000       3.030000     NaN   \n",
       "\n",
       "        Brooklyn_Bridge  Manhattan_Bridge  Williamsburg_Bridge  \\\n",
       "count        214.000000        214.000000           214.000000   \n",
       "unique              NaN               NaN                  NaN   \n",
       "top                 NaN               NaN                  NaN   \n",
       "freq                NaN               NaN                  NaN   \n",
       "mean        2680.042056       5345.485981          6051.658879   \n",
       "std          854.710864       1746.546523          1755.814991   \n",
       "min          151.000000        484.000000           874.000000   \n",
       "25%         2298.000000       4308.000000          5115.000000   \n",
       "50%         2857.000000       5607.500000          6287.000000   \n",
       "75%         3285.000000       6759.500000          7512.500000   \n",
       "max         4960.000000       8239.000000          8873.000000   \n",
       "\n",
       "        Queensboro_Bridge         Total  \n",
       "count          214.000000    214.000000  \n",
       "unique                NaN           NaN  \n",
       "top                   NaN           NaN  \n",
       "freq                  NaN           NaN  \n",
       "mean          4550.490654  18627.677570  \n",
       "std           1306.899746   5539.557489  \n",
       "min            865.000000   2374.000000  \n",
       "25%           3746.000000  15704.750000  \n",
       "50%           4681.000000  19367.000000  \n",
       "75%           5692.000000  23151.500000  \n",
       "max           6582.000000  26969.000000  "
      ]
     },
     "execution_count": 27,
     "metadata": {},
     "output_type": "execute_result"
    }
   ],
   "source": [
    "NY_bicycle.describe(include='all') #dataframe.describe() generates column-wise descriptive statistics"
   ]
  },
  {
   "cell_type": "markdown",
   "metadata": {
    "id": "Cmrvv2YIIQ9M"
   },
   "source": [
    "## 2.1 Categorical Data"
   ]
  },
  {
   "cell_type": "code",
   "execution_count": 28,
   "metadata": {
    "colab": {
     "base_uri": "https://localhost:8080/"
    },
    "executionInfo": {
     "elapsed": 7,
     "status": "ok",
     "timestamp": 1695075428565,
     "user": {
      "displayName": "Ruwen Qin",
      "userId": "01885423067234457717"
     },
     "user_tz": 240
    },
    "id": "En7EA3y1F1l-",
    "outputId": "231e7fd4-c740-42a8-ca0c-4ebc6ef69301"
   },
   "outputs": [
    {
     "data": {
      "text/plain": [
       "Weather\n",
       "N    131\n",
       "R     69\n",
       "T     14\n",
       "Name: count, dtype: int64"
      ]
     },
     "execution_count": 28,
     "metadata": {},
     "output_type": "execute_result"
    }
   ],
   "source": [
    "NY_bicycle.Weather.value_counts(normalize=False) # returns the counts when normalize=False or the percent when normalize=True"
   ]
  },
  {
   "cell_type": "code",
   "execution_count": 29,
   "metadata": {
    "colab": {
     "base_uri": "https://localhost:8080/",
     "height": 356
    },
    "executionInfo": {
     "elapsed": 4201,
     "status": "ok",
     "timestamp": 1695075432761,
     "user": {
      "displayName": "Ruwen Qin",
      "userId": "01885423067234457717"
     },
     "user_tz": 240
    },
    "id": "URneXYEdEO1Y",
    "outputId": "9a532c95-ebde-4ab2-c6ea-bc827a97d2ba"
   },
   "outputs": [
    {
     "data": {
      "text/plain": [
       "(array([131.,  69.,  14.]),\n",
       " array([0.        , 0.66666667, 1.33333333, 2.        ]),\n",
       " <BarContainer object of 3 artists>)"
      ]
     },
     "execution_count": 29,
     "metadata": {},
     "output_type": "execute_result"
    },
    {
     "data": {
      "text/plain": [
       "Text(0.5, 0, 'Weather')"
      ]
     },
     "execution_count": 29,
     "metadata": {},
     "output_type": "execute_result"
    },
    {
     "data": {
      "text/plain": [
       "Text(0, 0.5, 'Count')"
      ]
     },
     "execution_count": 29,
     "metadata": {},
     "output_type": "execute_result"
    },
    {
     "data": {
      "text/plain": [
       "[<matplotlib.axis.XTick at 0x7f86d263fb80>,\n",
       " <matplotlib.axis.XTick at 0x7f86d263fb50>,\n",
       " <matplotlib.axis.XTick at 0x7f86d26edfd0>]"
      ]
     },
     "execution_count": 29,
     "metadata": {},
     "output_type": "execute_result"
    },
    {
     "data": {
      "text/plain": [
       "(array([131.,  69.,  14.]),\n",
       " array([0.        , 0.66666667, 1.33333333, 2.        ]),\n",
       " <BarContainer object of 3 artists>)"
      ]
     },
     "execution_count": 29,
     "metadata": {},
     "output_type": "execute_result"
    },
    {
     "data": {
      "text/plain": [
       "Text(0.5, 0, 'Weather')"
      ]
     },
     "execution_count": 29,
     "metadata": {},
     "output_type": "execute_result"
    },
    {
     "data": {
      "text/plain": [
       "Text(0, 0.5, 'Proportion')"
      ]
     },
     "execution_count": 29,
     "metadata": {},
     "output_type": "execute_result"
    },
    {
     "data": {
      "text/plain": [
       "[<matplotlib.axis.XTick at 0x7f86d26939a0>,\n",
       " <matplotlib.axis.XTick at 0x7f86d2693970>,\n",
       " <matplotlib.axis.XTick at 0x7f86d2693340>]"
      ]
     },
     "execution_count": 29,
     "metadata": {},
     "output_type": "execute_result"
    },
    {
     "name": "stderr",
     "output_type": "stream",
     "text": [
      "<ipython-input-29-cf77d339fb8f>:16: UserWarning: FixedFormatter should only be used together with FixedLocator\n",
      "  axs[1].set_yticklabels((np.arange(0,121,20)/len(NY_bicycle)).round(2)) # ytick labels are in relative frequency and rounded to two decimal places\n"
     ]
    },
    {
     "data": {
      "text/plain": [
       "[Text(0, 0.0, '0.0'),\n",
       " Text(0, 20.0, '0.09'),\n",
       " Text(0, 40.0, '0.19'),\n",
       " Text(0, 60.0, '0.28'),\n",
       " Text(0, 80.0, '0.37'),\n",
       " Text(0, 100.0, '0.47'),\n",
       " Text(0, 120.0, '0.56'),\n",
       " Text(0, 140.0, '')]"
      ]
     },
     "execution_count": 29,
     "metadata": {},
     "output_type": "execute_result"
    },
    {
     "data": {
      "text/plain": [
       "(array([131.,  69.,  14.]),\n",
       " array([0.        , 0.66666667, 1.33333333, 2.        ]),\n",
       " <BarContainer object of 3 artists>)"
      ]
     },
     "execution_count": 29,
     "metadata": {},
     "output_type": "execute_result"
    },
    {
     "data": {
      "text/plain": [
       "Text(0.5, 0, 'Weather')"
      ]
     },
     "execution_count": 29,
     "metadata": {},
     "output_type": "execute_result"
    },
    {
     "data": {
      "text/plain": [
       "Text(0, 0.5, 'Percentage (%)')"
      ]
     },
     "execution_count": 29,
     "metadata": {},
     "output_type": "execute_result"
    },
    {
     "data": {
      "text/plain": [
       "[<matplotlib.axis.XTick at 0x7f86d26ce580>,\n",
       " <matplotlib.axis.XTick at 0x7f86d26ce550>,\n",
       " <matplotlib.axis.XTick at 0x7f86d26c1df0>]"
      ]
     },
     "execution_count": 29,
     "metadata": {},
     "output_type": "execute_result"
    },
    {
     "name": "stderr",
     "output_type": "stream",
     "text": [
      "<ipython-input-29-cf77d339fb8f>:23: UserWarning: FixedFormatter should only be used together with FixedLocator\n",
      "  axs[2].set_yticklabels((np.arange(0,121,20)/len(NY_bicycle)*100).round(1)) # ytick labels are in percent frequency and rounded to one decimal places\n"
     ]
    },
    {
     "data": {
      "text/plain": [
       "[Text(0, 0.0, '0.0'),\n",
       " Text(0, 20.0, '9.3'),\n",
       " Text(0, 40.0, '18.7'),\n",
       " Text(0, 60.0, '28.0'),\n",
       " Text(0, 80.0, '37.4'),\n",
       " Text(0, 100.0, '46.7'),\n",
       " Text(0, 120.0, '56.1'),\n",
       " Text(0, 140.0, '')]"
      ]
     },
     "execution_count": 29,
     "metadata": {},
     "output_type": "execute_result"
    },
    {
     "data": {
      "image/png": "[encoded data removed]",
      "text/plain": [
       "<Figure size 864x216 with 3 Axes>"
      ]
     },
     "metadata": {
      "needs_background": "light"
     },
     "output_type": "display_data"
    }
   ],
   "source": [
    "# Create histogram for a categorical column using hist()\n",
    "from matplotlib.ticker import PercentFormatter\n",
    "fig, axs = plt.subplots(1,3, sharey=False, sharex=False, tight_layout=True, figsize=(12,3)) # define a figure with three subplots that are arranged as one row. yshare defines if the three plots share the y axis. xshare is similarly defined.\n",
    "\n",
    "# frequency distribution\n",
    "axs[0].hist(NY_bicycle.Weather, bins=3,color='grey')\n",
    "axs[0].set_xlabel('Weather')\n",
    "axs[0].set_ylabel('Count')\n",
    "axs[0].set_xticks(np.arange(0.3,2,0.65))\n",
    "\n",
    "# relative frequency distribution\n",
    "axs[1].hist(NY_bicycle.Weather,bins=3, color='grey')\n",
    "axs[1].set_xlabel('Weather')\n",
    "axs[1].set_ylabel('Proportion')\n",
    "axs[1].set_xticks(np.arange(0.3,2,0.65))\n",
    "axs[1].set_yticklabels((np.arange(0,121,20)/len(NY_bicycle)).round(2)) # ytick labels are in relative frequency and rounded to two decimal places\n",
    "\n",
    "# percent frequency distribution\n",
    "axs[2].hist(NY_bicycle.Weather,bins=3, color='grey')\n",
    "axs[2].set_xlabel('Weather')\n",
    "axs[2].set_ylabel('Percentage (%)')\n",
    "axs[2].set_xticks(np.arange(0.3,2,0.65))\n",
    "axs[2].set_yticklabels((np.arange(0,121,20)/len(NY_bicycle)*100).round(1)) # ytick labels are in percent frequency and rounded to one decimal places\n",
    "\n",
    "plt.show()"
   ]
  },
  {
   "cell_type": "markdown",
   "metadata": {
    "id": "wXZP_xsbFof6"
   },
   "source": [
    "## 2.2 Numerical Data"
   ]
  },
  {
   "cell_type": "code",
   "execution_count": 30,
   "metadata": {
    "colab": {
     "base_uri": "https://localhost:8080/"
    },
    "executionInfo": {
     "elapsed": 17,
     "status": "ok",
     "timestamp": 1695075432762,
     "user": {
      "displayName": "Ruwen Qin",
      "userId": "01885423067234457717"
     },
     "user_tz": 240
    },
    "id": "n3AaSf_89xgW",
    "outputId": "97abba9f-38e8-43f4-a1cb-edd56cebef3a"
   },
   "outputs": [
    {
     "data": {
      "text/plain": [
       "214"
      ]
     },
     "execution_count": 30,
     "metadata": {},
     "output_type": "execute_result"
    }
   ],
   "source": [
    "NY_bicycle.Total.count() # count() returns the number of non-NA observatioins"
   ]
  },
  {
   "cell_type": "code",
   "execution_count": 31,
   "metadata": {
    "colab": {
     "base_uri": "https://localhost:8080/"
    },
    "executionInfo": {
     "elapsed": 11,
     "status": "ok",
     "timestamp": 1695075432762,
     "user": {
      "displayName": "Ruwen Qin",
      "userId": "01885423067234457717"
     },
     "user_tz": 240
    },
    "id": "7NRDtR7WAV1B",
    "outputId": "ee800e87-f890-4a69-db3d-106552016411"
   },
   "outputs": [
    {
     "data": {
      "text/plain": [
       "26969"
      ]
     },
     "execution_count": 31,
     "metadata": {},
     "output_type": "execute_result"
    }
   ],
   "source": [
    "NY_bicycle.Total.max() # max() returns the maximum value of a numerical column"
   ]
  },
  {
   "cell_type": "code",
   "execution_count": 32,
   "metadata": {
    "colab": {
     "base_uri": "https://localhost:8080/"
    },
    "executionInfo": {
     "elapsed": 8,
     "status": "ok",
     "timestamp": 1695075432762,
     "user": {
      "displayName": "Ruwen Qin",
      "userId": "01885423067234457717"
     },
     "user_tz": 240
    },
    "id": "EmN8sJ3nAR6p",
    "outputId": "1b959a61-101a-40b9-ca71-7555de382e73"
   },
   "outputs": [
    {
     "data": {
      "text/plain": [
       "2374"
      ]
     },
     "execution_count": 32,
     "metadata": {},
     "output_type": "execute_result"
    }
   ],
   "source": [
    "NY_bicycle.Total.min() # min() returns the minimum value of a numerical column"
   ]
  },
  {
   "cell_type": "code",
   "execution_count": 33,
   "metadata": {
    "colab": {
     "base_uri": "https://localhost:8080/",
     "height": 618
    },
    "executionInfo": {
     "elapsed": 2333,
     "status": "ok",
     "timestamp": 1695075435090,
     "user": {
      "displayName": "Ruwen Qin",
      "userId": "01885423067234457717"
     },
     "user_tz": 240
    },
    "id": "YXhnq4WWh5un",
    "outputId": "cf887499-2d04-4f0e-de63-9189e8895178"
   },
   "outputs": [
    {
     "data": {
      "text/plain": [
       "Text(0.5, 0, 'Daily Bicycle Volume')"
      ]
     },
     "execution_count": 33,
     "metadata": {},
     "output_type": "execute_result"
    },
    {
     "data": {
      "text/plain": [
       "Text(0, 0.5, 'Count')"
      ]
     },
     "execution_count": 33,
     "metadata": {},
     "output_type": "execute_result"
    },
    {
     "data": {
      "text/plain": [
       "Text(0, 0.5, 'Cumulative Distribution Function (CDF)')"
      ]
     },
     "execution_count": 33,
     "metadata": {},
     "output_type": "execute_result"
    },
    {
     "data": {
      "text/plain": [
       "(2374.0, 26969.0)"
      ]
     },
     "execution_count": 33,
     "metadata": {},
     "output_type": "execute_result"
    },
    {
     "data": {
      "image/png": "[encoded data removed]",
      "text/plain": [
       "<Figure size 576x432 with 2 Axes>"
      ]
     },
     "metadata": {
      "needs_background": "light"
     },
     "output_type": "display_data"
    },
    {
     "name": "stdout",
     "output_type": "stream",
     "text": [
      "the number of bins: [<matplotlib.patches.Polygon object at 0x7f86d29b80a0>]\n",
      "edges of the bins: [ 2374.   4833.5  7293.   9752.5 12212.  14671.5 17131.  19590.5 22050.\n",
      " 24509.5 26969. ]\n",
      "counts within each bin: [ 3.  8.  7. 14. 12. 29. 36. 31. 46. 28.]\n"
     ]
    }
   ],
   "source": [
    "#generates a histogram for a numerical column using plt.hist()\n",
    "\n",
    "fig, ax = plt.subplots(figsize=(8,6)) # define a figure of one plot of size 8x6 inch\n",
    "ax2 = ax.twinx() # create the second axis to show the cumulative distribution. ax.twinx() means to generate a twin x-axis\n",
    "counts, bins, patches = ax.hist(NY_bicycle.Total, color='grey',density=False) # create the frequency distribution if density=False and probability density function if density=True\n",
    "n, bins, patches = ax2.hist(\n",
    "    NY_bicycle.Total, cumulative=True, density=True, histtype='step', color='red') # create the probability cumualtive distribution\n",
    "ax.set_xlabel('Daily Bicycle Volume',fontsize=14)\n",
    "ax.set_ylabel('Count',fontsize=14)\n",
    "ax2.set_ylabel('Cumulative Distribution Function (CDF)',fontsize=14)\n",
    "ax.set_xlim([NY_bicycle.Total.min(),NY_bicycle.Total.max()])\n",
    "plt.show()\n",
    "\n",
    "print('the number of bins:', patches)\n",
    "print('edges of the bins:', bins)\n",
    "print('counts within each bin:', counts)\n"
   ]
  },
  {
   "cell_type": "code",
   "execution_count": 34,
   "metadata": {
    "colab": {
     "base_uri": "https://localhost:8080/",
     "height": 547
    },
    "executionInfo": {
     "elapsed": 931,
     "status": "ok",
     "timestamp": 1695075436016,
     "user": {
      "displayName": "Ruwen Qin",
      "userId": "01885423067234457717"
     },
     "user_tz": 240
    },
    "id": "QEmv6sfO_mrd",
    "outputId": "49baa7d3-b0ab-4f91-fca9-e45e8d2379b7"
   },
   "outputs": [
    {
     "data": {
      "text/plain": [
       "(<Figure size 576x432 with 1 Axes>, <Axes: >)"
      ]
     },
     "execution_count": 34,
     "metadata": {},
     "output_type": "execute_result"
    },
    {
     "data": {
      "text/plain": [
       "(array([ 6.,  7., 13., 18., 39., 41., 51., 39.]),\n",
       " array([ 2374.   ,  5448.375,  8522.75 , 11597.125, 14671.5  , 17745.875,\n",
       "        20820.25 , 23894.625, 26969.   ]),\n",
       " <BarContainer object of 8 artists>)"
      ]
     },
     "execution_count": 34,
     "metadata": {},
     "output_type": "execute_result"
    },
    {
     "data": {
      "text/plain": [
       "Text(0.5, 0, 'Daily Bicycle Volume')"
      ]
     },
     "execution_count": 34,
     "metadata": {},
     "output_type": "execute_result"
    },
    {
     "data": {
      "text/plain": [
       "Text(0, 0.5, 'Count')"
      ]
     },
     "execution_count": 34,
     "metadata": {},
     "output_type": "execute_result"
    },
    {
     "data": {
      "image/png": "[encoded data removed]",
      "text/plain": [
       "<Figure size 576x432 with 1 Axes>"
      ]
     },
     "metadata": {
      "needs_background": "light"
     },
     "output_type": "display_data"
    }
   ],
   "source": [
    "#generate histogram using plt.hist() and self-defined bins. Here we define the number of bins is 8\n",
    "plt.subplots(figsize=(8,6))\n",
    "plt.hist(NY_bicycle.Total, bins=np.arange(NY_bicycle.Total.min(),\n",
    "NY_bicycle.Total.max()+1, (NY_bicycle.Total.max()-NY_bicycle.Total.min())/8),color='grey',density=False,cumulative=False)\n",
    "plt.xlabel('Daily Bicycle Volume',fontsize=14)\n",
    "plt.ylabel('Count',fontsize=14)\n",
    "plt.show( )"
   ]
  },
  {
   "cell_type": "markdown",
   "metadata": {
    "id": "cKT1QpMwIDPD"
   },
   "source": [
    "# 3. Numerical Data Description"
   ]
  },
  {
   "cell_type": "markdown",
   "metadata": {
    "id": "uqQHjYKiDw7S"
   },
   "source": [
    "## 3.1 Measurements of Locations"
   ]
  },
  {
   "cell_type": "code",
   "execution_count": 35,
   "metadata": {
    "colab": {
     "base_uri": "https://localhost:8080/"
    },
    "executionInfo": {
     "elapsed": 18,
     "status": "ok",
     "timestamp": 1695075436017,
     "user": {
      "displayName": "Ruwen Qin",
      "userId": "01885423067234457717"
     },
     "user_tz": 240
    },
    "id": "8t6Opciw-uWX",
    "outputId": "9006a410-d52e-4d2d-d74d-3b12be32f9b3"
   },
   "outputs": [
    {
     "data": {
      "text/plain": [
       "18627.7"
      ]
     },
     "execution_count": 35,
     "metadata": {},
     "output_type": "execute_result"
    }
   ],
   "source": [
    "NY_bicycle.Total.mean().round(1) # mean() returns the mean value"
   ]
  },
  {
   "cell_type": "code",
   "execution_count": 36,
   "metadata": {
    "colab": {
     "base_uri": "https://localhost:8080/"
    },
    "executionInfo": {
     "elapsed": 17,
     "status": "ok",
     "timestamp": 1695075436017,
     "user": {
      "displayName": "Ruwen Qin",
      "userId": "01885423067234457717"
     },
     "user_tz": 240
    },
    "id": "3WDecBB--_8j",
    "outputId": "42fa3059-83de-4b46-c652-626dabf89ca9"
   },
   "outputs": [
    {
     "data": {
      "text/plain": [
       "19367.0"
      ]
     },
     "execution_count": 36,
     "metadata": {},
     "output_type": "execute_result"
    }
   ],
   "source": [
    "NY_bicycle.Total.median() # median() returns the median value"
   ]
  },
  {
   "cell_type": "code",
   "execution_count": 37,
   "metadata": {
    "colab": {
     "base_uri": "https://localhost:8080/"
    },
    "executionInfo": {
     "elapsed": 15,
     "status": "ok",
     "timestamp": 1695075436017,
     "user": {
      "displayName": "Ruwen Qin",
      "userId": "01885423067234457717"
     },
     "user_tz": 240
    },
    "id": "mWF_HmjzHrmZ",
    "outputId": "8d4c9f5e-144f-44f4-d936-206fb252f452"
   },
   "outputs": [
    {
     "data": {
      "text/plain": [
       "0    23159\n",
       "Name: Total, dtype: int64"
      ]
     },
     "execution_count": 37,
     "metadata": {},
     "output_type": "execute_result"
    }
   ],
   "source": [
    "NY_bicycle.Total.mode().round(1) # mode() returns the mode(s)"
   ]
  },
  {
   "cell_type": "markdown",
   "metadata": {
    "id": "Ib8Yp6OxETmb"
   },
   "source": [
    "## 3.2 Measurements of Variability"
   ]
  },
  {
   "cell_type": "code",
   "execution_count": 38,
   "metadata": {
    "colab": {
     "base_uri": "https://localhost:8080/"
    },
    "executionInfo": {
     "elapsed": 12,
     "status": "ok",
     "timestamp": 1695075436018,
     "user": {
      "displayName": "Ruwen Qin",
      "userId": "01885423067234457717"
     },
     "user_tz": 240
    },
    "id": "ca6tKdNTAblj",
    "outputId": "e220c2b5-8093-4366-f604-953cfc981d87"
   },
   "outputs": [
    {
     "data": {
      "text/plain": [
       "24595"
      ]
     },
     "execution_count": 38,
     "metadata": {},
     "output_type": "execute_result"
    }
   ],
   "source": [
    "NY_bicycle.Total.max() - NY_bicycle.Total.min() # find the range of a numerical column"
   ]
  },
  {
   "cell_type": "code",
   "execution_count": 39,
   "metadata": {
    "colab": {
     "base_uri": "https://localhost:8080/"
    },
    "executionInfo": {
     "elapsed": 10,
     "status": "ok",
     "timestamp": 1695075436018,
     "user": {
      "displayName": "Ruwen Qin",
      "userId": "01885423067234457717"
     },
     "user_tz": 240
    },
    "id": "Afkli8OLHzwf",
    "outputId": "f510a075-d329-493c-cf46-7356a0ca072b"
   },
   "outputs": [
    {
     "data": {
      "text/plain": [
       "30686697.177240998"
      ]
     },
     "execution_count": 39,
     "metadata": {},
     "output_type": "execute_result"
    }
   ],
   "source": [
    "NY_bicycle.Total.var() # var() returns the variance"
   ]
  },
  {
   "cell_type": "code",
   "execution_count": 40,
   "metadata": {
    "colab": {
     "base_uri": "https://localhost:8080/"
    },
    "executionInfo": {
     "elapsed": 8,
     "status": "ok",
     "timestamp": 1695075436018,
     "user": {
      "displayName": "Ruwen Qin",
      "userId": "01885423067234457717"
     },
     "user_tz": 240
    },
    "id": "knKqiyk_IJaO",
    "outputId": "9692f359-c620-478d-b750-ecec2613ec19"
   },
   "outputs": [
    {
     "data": {
      "text/plain": [
       "5539.55748929831"
      ]
     },
     "execution_count": 40,
     "metadata": {},
     "output_type": "execute_result"
    }
   ],
   "source": [
    "NY_bicycle.Total.std() # var() returns the sample standard deviation"
   ]
  },
  {
   "cell_type": "markdown",
   "metadata": {
    "id": "NU3AAlZlnRG8"
   },
   "source": [
    "## 3.2 Measurements of Distribution"
   ]
  },
  {
   "cell_type": "code",
   "execution_count": 41,
   "metadata": {
    "colab": {
     "base_uri": "https://localhost:8080/"
    },
    "executionInfo": {
     "elapsed": 146,
     "status": "ok",
     "timestamp": 1695075436158,
     "user": {
      "displayName": "Ruwen Qin",
      "userId": "01885423067234457717"
     },
     "user_tz": 240
    },
    "id": "BzUXKO7OITef",
    "outputId": "63b79a0c-3571-492d-f402-4e0a7b442ded"
   },
   "outputs": [
    {
     "data": {
      "text/plain": [
       "0.25    15704.75\n",
       "0.50    19367.00\n",
       "0.75    23151.50\n",
       "Name: Total, dtype: float64"
      ]
     },
     "execution_count": 41,
     "metadata": {},
     "output_type": "execute_result"
    }
   ],
   "source": [
    "NY_bicycle.Total.quantile([0.25,0.5,0.75]) # quantile() returns value(s) at the given quantile(s)"
   ]
  },
  {
   "cell_type": "code",
   "execution_count": 42,
   "metadata": {
    "colab": {
     "base_uri": "https://localhost:8080/",
     "height": 430
    },
    "executionInfo": {
     "elapsed": 405,
     "status": "ok",
     "timestamp": 1695075436561,
     "user": {
      "displayName": "Ruwen Qin",
      "userId": "01885423067234457717"
     },
     "user_tz": 240
    },
    "id": "b3x9oX87JevR",
    "outputId": "9525ebab-75fb-454b-84d7-e3a545dda8c4"
   },
   "outputs": [
    {
     "data": {
      "text/plain": [
       "{'whiskers': [<matplotlib.lines.Line2D at 0x7f86d2e52190>,\n",
       "  <matplotlib.lines.Line2D at 0x7f86d2e52430>],\n",
       " 'caps': [<matplotlib.lines.Line2D at 0x7f86d2e526d0>,\n",
       "  <matplotlib.lines.Line2D at 0x7f86d2e528b0>],\n",
       " 'boxes': [<matplotlib.lines.Line2D at 0x7f86d2adaeb0>],\n",
       " 'medians': [<matplotlib.lines.Line2D at 0x7f86d2e52b50>],\n",
       " 'fliers': [<matplotlib.lines.Line2D at 0x7f86d2e5e0d0>],\n",
       " 'means': [<matplotlib.lines.Line2D at 0x7f86d2e52df0>]}"
      ]
     },
     "execution_count": 42,
     "metadata": {},
     "output_type": "execute_result"
    },
    {
     "data": {
      "image/png": "[encoded data removed]",
      "text/plain": [
       "<Figure size 432x288 with 1 Axes>"
      ]
     },
     "metadata": {
      "needs_background": "light"
     },
     "output_type": "display_data"
    }
   ],
   "source": [
    "# generate a boxplot using plt.boxplot() for a numerical variable\n",
    "plt.boxplot(NY_bicycle.Total,notch=True,labels=['Daily Volume'],showfliers=True, showcaps=True,showmeans=True)\n",
    "plt.show()"
   ]
  },
  {
   "cell_type": "code",
   "execution_count": 43,
   "metadata": {
    "colab": {
     "base_uri": "https://localhost:8080/",
     "height": 430
    },
    "executionInfo": {
     "elapsed": 693,
     "status": "ok",
     "timestamp": 1695075437248,
     "user": {
      "displayName": "Ruwen Qin",
      "userId": "01885423067234457717"
     },
     "user_tz": 240
    },
    "id": "e3o_vhsRMMmC",
    "outputId": "30847edc-6313-4364-cccf-2efec89a5d4a"
   },
   "outputs": [
    {
     "data": {
      "text/plain": [
       "{'whiskers': [<matplotlib.lines.Line2D at 0x7f86d2eb5940>,\n",
       "  <matplotlib.lines.Line2D at 0x7f86d2eb5be0>,\n",
       "  <matplotlib.lines.Line2D at 0x7f86d2ec5d00>,\n",
       "  <matplotlib.lines.Line2D at 0x7f86d2ec5fa0>,\n",
       "  <matplotlib.lines.Line2D at 0x7f86d2ee32b0>,\n",
       "  <matplotlib.lines.Line2D at 0x7f86d2ee3550>,\n",
       "  <matplotlib.lines.Line2D at 0x7f86d2ef17c0>,\n",
       "  <matplotlib.lines.Line2D at 0x7f86d2ef1a60>],\n",
       " 'caps': [<matplotlib.lines.Line2D at 0x7f86d2eb5df0>,\n",
       "  <matplotlib.lines.Line2D at 0x7f86d2ec50d0>,\n",
       "  <matplotlib.lines.Line2D at 0x7f86d2ed5280>,\n",
       "  <matplotlib.lines.Line2D at 0x7f86d2ed5520>,\n",
       "  <matplotlib.lines.Line2D at 0x7f86d2ee37f0>,\n",
       "  <matplotlib.lines.Line2D at 0x7f86d2ee3a60>,\n",
       "  <matplotlib.lines.Line2D at 0x7f86d2ef1d00>,\n",
       "  <matplotlib.lines.Line2D at 0x7f86d2ef1fa0>],\n",
       " 'boxes': [<matplotlib.lines.Line2D at 0x7f86d2eb56a0>,\n",
       "  <matplotlib.lines.Line2D at 0x7f86d2ec5a60>,\n",
       "  <matplotlib.lines.Line2D at 0x7f86d2ed5fd0>,\n",
       "  <matplotlib.lines.Line2D at 0x7f86d2ef1520>],\n",
       " 'medians': [<matplotlib.lines.Line2D at 0x7f86d2ec5370>,\n",
       "  <matplotlib.lines.Line2D at 0x7f86d2ed57f0>,\n",
       "  <matplotlib.lines.Line2D at 0x7f86d2ee3d00>,\n",
       "  <matplotlib.lines.Line2D at 0x7f86d2f00280>],\n",
       " 'fliers': [<matplotlib.lines.Line2D at 0x7f86d2ec57c0>,\n",
       "  <matplotlib.lines.Line2D at 0x7f86d2ed5d30>,\n",
       "  <matplotlib.lines.Line2D at 0x7f86d2ef1280>,\n",
       "  <matplotlib.lines.Line2D at 0x7f86d2f007c0>],\n",
       " 'means': [<matplotlib.lines.Line2D at 0x7f86d2ec5610>,\n",
       "  <matplotlib.lines.Line2D at 0x7f86d2ed5a90>,\n",
       "  <matplotlib.lines.Line2D at 0x7f86d2ee3fa0>,\n",
       "  <matplotlib.lines.Line2D at 0x7f86d2f00520>]}"
      ]
     },
     "execution_count": 43,
     "metadata": {},
     "output_type": "execute_result"
    },
    {
     "data": {
      "text/plain": [
       "Text(0, 0.5, 'Daily Volume')"
      ]
     },
     "execution_count": 43,
     "metadata": {},
     "output_type": "execute_result"
    },
    {
     "data": {
      "image/png": "[encoded data removed]",
      "text/plain": [
       "<Figure size 432x288 with 1 Axes>"
      ]
     },
     "metadata": {
      "needs_background": "light"
     },
     "output_type": "display_data"
    }
   ],
   "source": [
    "# generate a boxplot for each of mulitple numerical variables\n",
    "plt.boxplot([NY_bicycle.Brooklyn_Bridge,NY_bicycle.Manhattan_Bridge,NY_bicycle.Williamsburg_Bridge,NY_bicycle.Queensboro_Bridge],notch=True,\n",
    "            labels=['Brookyln','Manhattan','Willamsburge','Queenboro'],showfliers=True, showcaps=True,showmeans=True)\n",
    "plt.ylabel('Daily Volume')\n",
    "plt.show()"
   ]
  },
  {
   "cell_type": "markdown",
   "metadata": {
    "id": "H2g0ejmUIu7v"
   },
   "source": [
    "## 3.4 Measurements of Correlation"
   ]
  },
  {
   "cell_type": "code",
   "execution_count": 44,
   "metadata": {
    "colab": {
     "base_uri": "https://localhost:8080/",
     "height": 356
    },
    "executionInfo": {
     "elapsed": 13,
     "status": "ok",
     "timestamp": 1695075437249,
     "user": {
      "displayName": "Ruwen Qin",
      "userId": "01885423067234457717"
     },
     "user_tz": 240
    },
    "id": "Ll_87nk5HsU-",
    "outputId": "1166608d-1daa-4007-8fe8-f142839b6b0e"
   },
   "outputs": [],
   "source": [
    "#NY_bicycle.corr() # corr() returns the correlation coefficient between any two numerical columns"
   ]
  },
  {
   "cell_type": "code",
   "execution_count": 45,
   "metadata": {
    "colab": {
     "base_uri": "https://localhost:8080/"
    },
    "executionInfo": {
     "elapsed": 9,
     "status": "ok",
     "timestamp": 1695075437249,
     "user": {
      "displayName": "Ruwen Qin",
      "userId": "01885423067234457717"
     },
     "user_tz": 240
    },
    "id": "-SwN8s4nI1-K",
    "outputId": "db74a17a-f0c4-4940-8bb8-f882d319f913"
   },
   "outputs": [
    {
     "data": {
      "text/plain": [
       "0.89"
      ]
     },
     "execution_count": 45,
     "metadata": {},
     "output_type": "execute_result"
    }
   ],
   "source": [
    "NY_bicycle.Brooklyn_Bridge.corr(NY_bicycle.Manhattan_Bridge).round(2) # corr() returns the correlation coefficient between two columns"
   ]
  },
  {
   "cell_type": "code",
   "execution_count": 46,
   "metadata": {
    "colab": {
     "base_uri": "https://localhost:8080/",
     "height": 356
    },
    "executionInfo": {
     "elapsed": 237,
     "status": "ok",
     "timestamp": 1695075437480,
     "user": {
      "displayName": "Ruwen Qin",
      "userId": "01885423067234457717"
     },
     "user_tz": 240
    },
    "id": "HXvmPcszJGCt",
    "outputId": "7d6f8b01-9c5f-42be-98fc-1cc16e666034"
   },
   "outputs": [],
   "source": [
    "#NY_bicycle.cov() # cov() returns the covariance between any two numerical columns"
   ]
  },
  {
   "cell_type": "code",
   "execution_count": 47,
   "metadata": {
    "colab": {
     "base_uri": "https://localhost:8080/"
    },
    "executionInfo": {
     "elapsed": 10,
     "status": "ok",
     "timestamp": 1695075437481,
     "user": {
      "displayName": "Ruwen Qin",
      "userId": "01885423067234457717"
     },
     "user_tz": 240
    },
    "id": "M648GXHQJPEG",
    "outputId": "545c1631-739f-48ae-b5c7-b6ebd5304477"
   },
   "outputs": [
    {
     "data": {
      "text/plain": [
       "1333902.83"
      ]
     },
     "execution_count": 47,
     "metadata": {},
     "output_type": "execute_result"
    }
   ],
   "source": [
    "NY_bicycle.Brooklyn_Bridge.cov(NY_bicycle.Manhattan_Bridge).round(2) # returns the covariance between two specific numerical columns"
   ]
  },
  {
   "cell_type": "code",
   "execution_count": 48,
   "metadata": {
    "colab": {
     "base_uri": "https://localhost:8080/",
     "height": 449
    },
    "executionInfo": {
     "elapsed": 1068,
     "status": "ok",
     "timestamp": 1695075438542,
     "user": {
      "displayName": "Ruwen Qin",
      "userId": "01885423067234457717"
     },
     "user_tz": 240
    },
    "id": "rQJmKj3oJc0q",
    "outputId": "54d6dee4-149b-4c5d-fa4d-ee626ce298bc"
   },
   "outputs": [
    {
     "data": {
      "text/plain": [
       "<matplotlib.collections.PathCollection at 0x7f86d2f6ee20>"
      ]
     },
     "execution_count": 48,
     "metadata": {},
     "output_type": "execute_result"
    },
    {
     "data": {
      "text/plain": [
       "Text(0.5, 0, 'Daily bicycle volume at Brooklyn Bridges')"
      ]
     },
     "execution_count": 48,
     "metadata": {},
     "output_type": "execute_result"
    },
    {
     "data": {
      "text/plain": [
       "Text(0, 0.5, 'Daily bicle volume at Manhattan Bridges')"
      ]
     },
     "execution_count": 48,
     "metadata": {},
     "output_type": "execute_result"
    },
    {
     "data": {
      "text/plain": [
       "<matplotlib.colorbar.Colorbar at 0x7f86d2f80370>"
      ]
     },
     "execution_count": 48,
     "metadata": {},
     "output_type": "execute_result"
    },
    {
     "data": {
      "image/png": "[encoded data removed]",
      "text/plain": [
       "<Figure size 432x288 with 2 Axes>"
      ]
     },
     "metadata": {
      "needs_background": "light"
     },
     "output_type": "display_data"
    }
   ],
   "source": [
    "# generate scatter plot using plt.scatter() to visualize the correlation between two numerical variables\n",
    "plt.scatter(x=NY_bicycle.Brooklyn_Bridge,y=NY_bicycle.Manhattan_Bridge,c=NY_bicycle.High_Temp_F,cmap='viridis') # plt.scatter() returns a scatter plot of two numerical columns to show there association. The color is the 'High_Temp_F' value of each data point\n",
    "plt.xlabel('Daily bicycle volume at Brooklyn Bridges') #plt.xlabel() defines the x label of the plot\n",
    "plt.ylabel('Daily bicle volume at Manhattan Bridges') #plt.ylabel() defines the y label of the plot\n",
    "#plt.title('') #plt.title() defines the title of the plot\n",
    "plt.colorbar() # displays the colorbar\n",
    "plt.show()"
   ]
  },
  {
   "cell_type": "code",
   "execution_count": 49,
   "metadata": {
    "colab": {
     "base_uri": "https://localhost:8080/",
     "height": 0
    },
    "executionInfo": {
     "elapsed": 8748,
     "status": "ok",
     "timestamp": 1695075447285,
     "user": {
      "displayName": "Ruwen Qin",
      "userId": "01885423067234457717"
     },
     "user_tz": 240
    },
    "id": "cSdC6keSPmGx",
    "outputId": "df5ea6b4-7a5f-4a06-cae8-748348183d8f"
   },
   "outputs": [
    {
     "data": {
      "image/png": "[encoded data removed]",
      "text/plain": [
       "<Figure size 720x720 with 64 Axes>"
      ]
     },
     "metadata": {
      "needs_background": "light"
     },
     "output_type": "display_data"
    }
   ],
   "source": [
    "# generate satter plot matrix using pd.plotting.scatter_matrix()\n",
    "\n",
    "y=pd.plotting.scatter_matrix(NY_bicycle,alpha=0.2,figsize=(10,10)) #pd.plotting.scatter_matrix() generates the matrix of scatter plots\n",
    "plt.show()"
   ]
  },
  {
   "cell_type": "markdown",
   "metadata": {
    "id": "vQT2FK6fSw5G"
   },
   "source": [
    "# 4. Grouping & Aggregrating Data"
   ]
  },
  {
   "cell_type": "code",
   "execution_count": 50,
   "metadata": {
    "colab": {
     "base_uri": "https://localhost:8080/"
    },
    "executionInfo": {
     "elapsed": 22,
     "status": "ok",
     "timestamp": 1695075447285,
     "user": {
      "displayName": "Ruwen Qin",
      "userId": "01885423067234457717"
     },
     "user_tz": 240
    },
    "id": "Zdoe2C8nS2Qy",
    "outputId": "50497686-6ecb-4643-cfc7-5a80c263eb5d"
   },
   "outputs": [
    {
     "data": {
      "text/plain": [
       "Weather\n",
       "N    131\n",
       "R     69\n",
       "T     14\n",
       "dtype: int64"
      ]
     },
     "execution_count": 50,
     "metadata": {},
     "output_type": "execute_result"
    }
   ],
   "source": [
    "df_gd=NY_bicycle.groupby('Weather') # groupby() groups the dataframe by the categorical variable 'Weather'\n",
    "df_gd.size() # df.size() returns the number of observations of each columns by categories of Weather"
   ]
  },
  {
   "cell_type": "code",
   "execution_count": 51,
   "metadata": {
    "colab": {
     "base_uri": "https://localhost:8080/"
    },
    "executionInfo": {
     "elapsed": 16,
     "status": "ok",
     "timestamp": 1695075447285,
     "user": {
      "displayName": "Ruwen Qin",
      "userId": "01885423067234457717"
     },
     "user_tz": 240
    },
    "id": "t4TRJuNOn_kS",
    "outputId": "191c70f0-e34b-4ec0-b1c6-ce55daec9747"
   },
   "outputs": [
    {
     "name": "stdout",
     "output_type": "stream",
     "text": [
      "the group for Weather 'N' has 131 observations\n",
      "the group for Weather 'R' has 69 observations\n",
      "the group for Weather 'T' has 14 observations\n"
     ]
    }
   ],
   "source": [
    "# after grouped the data, key is an identify of each group, and y is the data of each group\n",
    "for key,y in NY_bicycle.groupby('Weather'):\n",
    "  print (\"the group for Weather '{}' has {} observations\".format(key,len(y)))"
   ]
  },
  {
   "cell_type": "code",
   "execution_count": 52,
   "metadata": {
    "colab": {
     "base_uri": "https://localhost:8080/"
    },
    "executionInfo": {
     "elapsed": 14,
     "status": "ok",
     "timestamp": 1695075447286,
     "user": {
      "displayName": "Ruwen Qin",
      "userId": "01885423067234457717"
     },
     "user_tz": 240
    },
    "id": "GjgqQVoSBFOn",
    "outputId": "95ebe1f2-c536-453d-813b-47e01dd92c84"
   },
   "outputs": [
    {
     "data": {
      "text/plain": [
       "Weather  Day      \n",
       "N        Friday       18\n",
       "         Monday       18\n",
       "         Saturday     17\n",
       "         Sunday       21\n",
       "         Thursday     21\n",
       "         Tuesday      18\n",
       "         Wednesday    18\n",
       "R        Friday        9\n",
       "         Monday       11\n",
       "         Saturday     14\n",
       "         Sunday        7\n",
       "         Thursday      7\n",
       "         Tuesday      11\n",
       "         Wednesday    10\n",
       "T        Friday        3\n",
       "         Monday        2\n",
       "         Sunday        3\n",
       "         Thursday      2\n",
       "         Tuesday       2\n",
       "         Wednesday     2\n",
       "dtype: int64"
      ]
     },
     "execution_count": 52,
     "metadata": {},
     "output_type": "execute_result"
    }
   ],
   "source": [
    "df_gd = NY_bicycle.groupby(['Weather','Day']) # group the dataframe by the combination of two categorical variables: 'Weather' and 'Day'\n",
    "df_gd.size() # count the number of observations by groups\n",
    "\n",
    "#for key, y in NY_bicycle.groupby(['Weather','Day']):\n",
    "#  print(\"the gorup for weather '{}' on {} has {} observations\".format(key[0],key[1],len(y)))"
   ]
  },
  {
   "cell_type": "code",
   "execution_count": 53,
   "metadata": {
    "colab": {
     "base_uri": "https://localhost:8080/",
     "height": 708
    },
    "executionInfo": {
     "elapsed": 255,
     "status": "ok",
     "timestamp": 1695075447529,
     "user": {
      "displayName": "Ruwen Qin",
      "userId": "01885423067234457717"
     },
     "user_tz": 240
    },
    "id": "r16KHe4YI3Jp",
    "outputId": "73849dc2-0374-41d9-b602-0e3dcbc2f6ec"
   },
   "outputs": [
    {
     "data": {
      "text/html": [
       "<div>\n",
       "<style scoped>\n",
       "    .dataframe tbody tr th:only-of-type {\n",
       "        vertical-align: middle;\n",
       "    }\n",
       "\n",
       "    .dataframe tbody tr th {\n",
       "        vertical-align: top;\n",
       "    }\n",
       "\n",
       "    .dataframe thead th {\n",
       "        text-align: right;\n",
       "    }\n",
       "</style>\n",
       "<table border=\"1\" class=\"dataframe\">\n",
       "  <thead>\n",
       "    <tr style=\"text-align: right;\">\n",
       "      <th></th>\n",
       "      <th></th>\n",
       "      <th>Counts of observations</th>\n",
       "    </tr>\n",
       "    <tr>\n",
       "      <th>Weather</th>\n",
       "      <th>Day</th>\n",
       "      <th></th>\n",
       "    </tr>\n",
       "  </thead>\n",
       "  <tbody>\n",
       "    <tr>\n",
       "      <th rowspan=\"7\" valign=\"top\">N</th>\n",
       "      <th>Friday</th>\n",
       "      <td>18</td>\n",
       "    </tr>\n",
       "    <tr>\n",
       "      <th>Monday</th>\n",
       "      <td>18</td>\n",
       "    </tr>\n",
       "    <tr>\n",
       "      <th>Saturday</th>\n",
       "      <td>17</td>\n",
       "    </tr>\n",
       "    <tr>\n",
       "      <th>Sunday</th>\n",
       "      <td>21</td>\n",
       "    </tr>\n",
       "    <tr>\n",
       "      <th>Thursday</th>\n",
       "      <td>21</td>\n",
       "    </tr>\n",
       "    <tr>\n",
       "      <th>Tuesday</th>\n",
       "      <td>18</td>\n",
       "    </tr>\n",
       "    <tr>\n",
       "      <th>Wednesday</th>\n",
       "      <td>18</td>\n",
       "    </tr>\n",
       "    <tr>\n",
       "      <th rowspan=\"7\" valign=\"top\">R</th>\n",
       "      <th>Friday</th>\n",
       "      <td>9</td>\n",
       "    </tr>\n",
       "    <tr>\n",
       "      <th>Monday</th>\n",
       "      <td>11</td>\n",
       "    </tr>\n",
       "    <tr>\n",
       "      <th>Saturday</th>\n",
       "      <td>14</td>\n",
       "    </tr>\n",
       "    <tr>\n",
       "      <th>Sunday</th>\n",
       "      <td>7</td>\n",
       "    </tr>\n",
       "    <tr>\n",
       "      <th>Thursday</th>\n",
       "      <td>7</td>\n",
       "    </tr>\n",
       "    <tr>\n",
       "      <th>Tuesday</th>\n",
       "      <td>11</td>\n",
       "    </tr>\n",
       "    <tr>\n",
       "      <th>Wednesday</th>\n",
       "      <td>10</td>\n",
       "    </tr>\n",
       "    <tr>\n",
       "      <th rowspan=\"6\" valign=\"top\">T</th>\n",
       "      <th>Friday</th>\n",
       "      <td>3</td>\n",
       "    </tr>\n",
       "    <tr>\n",
       "      <th>Monday</th>\n",
       "      <td>2</td>\n",
       "    </tr>\n",
       "    <tr>\n",
       "      <th>Sunday</th>\n",
       "      <td>3</td>\n",
       "    </tr>\n",
       "    <tr>\n",
       "      <th>Thursday</th>\n",
       "      <td>2</td>\n",
       "    </tr>\n",
       "    <tr>\n",
       "      <th>Tuesday</th>\n",
       "      <td>2</td>\n",
       "    </tr>\n",
       "    <tr>\n",
       "      <th>Wednesday</th>\n",
       "      <td>2</td>\n",
       "    </tr>\n",
       "  </tbody>\n",
       "</table>\n",
       "</div>"
      ],
      "text/plain": [
       "                   Counts of observations\n",
       "Weather Day                              \n",
       "N       Friday                         18\n",
       "        Monday                         18\n",
       "        Saturday                       17\n",
       "        Sunday                         21\n",
       "        Thursday                       21\n",
       "        Tuesday                        18\n",
       "        Wednesday                      18\n",
       "R       Friday                          9\n",
       "        Monday                         11\n",
       "        Saturday                       14\n",
       "        Sunday                          7\n",
       "        Thursday                        7\n",
       "        Tuesday                        11\n",
       "        Wednesday                      10\n",
       "T       Friday                          3\n",
       "        Monday                          2\n",
       "        Sunday                          3\n",
       "        Thursday                        2\n",
       "        Tuesday                         2\n",
       "        Wednesday                       2"
      ]
     },
     "execution_count": 53,
     "metadata": {},
     "output_type": "execute_result"
    }
   ],
   "source": [
    "NY_bicycle.groupby(['Weather','Day']).size().to_frame('Counts of observations') # to_frame() converts series to DataFrame"
   ]
  },
  {
   "cell_type": "code",
   "execution_count": 54,
   "metadata": {
    "colab": {
     "base_uri": "https://localhost:8080/"
    },
    "executionInfo": {
     "elapsed": 31,
     "status": "ok",
     "timestamp": 1695075447530,
     "user": {
      "displayName": "Ruwen Qin",
      "userId": "01885423067234457717"
     },
     "user_tz": 240
    },
    "id": "AKx6IbPOHGyr",
    "outputId": "d1305da0-62f5-4ea8-f5f9-780da3822725"
   },
   "outputs": [
    {
     "data": {
      "text/plain": [
       "Day\n",
       "Friday       T,N,R,N,R,N,N,R,R,N,N,R,T,R,R,N,N,R,T,R,N,N,N,...\n",
       "Monday       R,N,T,T,N,N,N,R,R,R,N,R,N,R,N,N,R,N,R,N,N,N,N,...\n",
       "Saturday     N,N,N,R,R,R,R,R,N,R,N,R,R,R,N,N,R,N,R,R,N,N,R,...\n",
       "Sunday       N,N,T,N,N,R,R,N,N,R,N,T,N,N,N,N,R,N,N,N,N,N,R,...\n",
       "Thursday     R,N,R,N,N,N,N,R,N,N,N,N,N,T,N,R,T,N,N,N,N,N,R,...\n",
       "Tuesday      R,N,N,R,N,N,N,N,R,R,T,R,R,N,N,N,N,N,N,R,R,R,T,...\n",
       "Wednesday    N,R,T,R,N,N,N,R,R,N,R,N,N,N,N,N,N,R,N,N,T,R,R,...\n",
       "Name: Weather, dtype: object"
      ]
     },
     "execution_count": 54,
     "metadata": {},
     "output_type": "execute_result"
    }
   ],
   "source": [
    "# apply() applies a function along an axis of the DataFrame\n",
    "# \"lambda arguments: function\" defines a function\n",
    "# join() joins all items in a list into a string, using a symbol (like a comma) as separator\n",
    "NY_bicycle.groupby('Day').Weather.apply(lambda Weather: ','.join(Weather))"
   ]
  },
  {
   "cell_type": "code",
   "execution_count": 55,
   "metadata": {
    "colab": {
     "base_uri": "https://localhost:8080/"
    },
    "executionInfo": {
     "elapsed": 28,
     "status": "ok",
     "timestamp": 1695075447530,
     "user": {
      "displayName": "Ruwen Qin",
      "userId": "01885423067234457717"
     },
     "user_tz": 240
    },
    "id": "cTtCTIH9wKtU",
    "outputId": "a68e3257-5d89-4978-b5c6-b721bb926e59"
   },
   "outputs": [
    {
     "data": {
      "text/plain": [
       "Weather\n",
       "N    [Saturday, Sunday, Wednesday, Saturday, Sunday...\n",
       "R    [Monday, Tuesday, Thursday, Wednesday, Thursda...\n",
       "T    [Friday, Sunday, Monday, Wednesday, Monday, Tu...\n",
       "Name: Day, dtype: object"
      ]
     },
     "execution_count": 55,
     "metadata": {},
     "output_type": "execute_result"
    }
   ],
   "source": [
    "# tolist() converts series into a list\n",
    "NY_bicycle.groupby('Weather').Day.apply(lambda Days: Days.tolist())"
   ]
  },
  {
   "cell_type": "code",
   "execution_count": 56,
   "metadata": {
    "colab": {
     "base_uri": "https://localhost:8080/",
     "height": 300
    },
    "executionInfo": {
     "elapsed": 24,
     "status": "ok",
     "timestamp": 1695075447531,
     "user": {
      "displayName": "Ruwen Qin",
      "userId": "01885423067234457717"
     },
     "user_tz": 240
    },
    "id": "Epb3Duz6HSM1",
    "outputId": "243af8cc-7c24-4875-e1cd-5d818b03ea41"
   },
   "outputs": [
    {
     "data": {
      "text/html": [
       "<div>\n",
       "<style scoped>\n",
       "    .dataframe tbody tr th:only-of-type {\n",
       "        vertical-align: middle;\n",
       "    }\n",
       "\n",
       "    .dataframe tbody tr th {\n",
       "        vertical-align: top;\n",
       "    }\n",
       "\n",
       "    .dataframe thead th {\n",
       "        text-align: right;\n",
       "    }\n",
       "</style>\n",
       "<table border=\"1\" class=\"dataframe\">\n",
       "  <thead>\n",
       "    <tr style=\"text-align: right;\">\n",
       "      <th></th>\n",
       "      <th>Count Weather Types</th>\n",
       "    </tr>\n",
       "    <tr>\n",
       "      <th>Day</th>\n",
       "      <th></th>\n",
       "    </tr>\n",
       "  </thead>\n",
       "  <tbody>\n",
       "    <tr>\n",
       "      <th>Friday</th>\n",
       "      <td>3</td>\n",
       "    </tr>\n",
       "    <tr>\n",
       "      <th>Monday</th>\n",
       "      <td>3</td>\n",
       "    </tr>\n",
       "    <tr>\n",
       "      <th>Saturday</th>\n",
       "      <td>2</td>\n",
       "    </tr>\n",
       "    <tr>\n",
       "      <th>Sunday</th>\n",
       "      <td>3</td>\n",
       "    </tr>\n",
       "    <tr>\n",
       "      <th>Thursday</th>\n",
       "      <td>3</td>\n",
       "    </tr>\n",
       "    <tr>\n",
       "      <th>Tuesday</th>\n",
       "      <td>3</td>\n",
       "    </tr>\n",
       "    <tr>\n",
       "      <th>Wednesday</th>\n",
       "      <td>3</td>\n",
       "    </tr>\n",
       "  </tbody>\n",
       "</table>\n",
       "</div>"
      ],
      "text/plain": [
       "           Count Weather Types\n",
       "Day                           \n",
       "Friday                       3\n",
       "Monday                       3\n",
       "Saturday                     2\n",
       "Sunday                       3\n",
       "Thursday                     3\n",
       "Tuesday                      3\n",
       "Wednesday                    3"
      ]
     },
     "execution_count": 56,
     "metadata": {},
     "output_type": "execute_result"
    }
   ],
   "source": [
    "NY_bicycle.groupby('Day').Weather.nunique().to_frame('Count Weather Types') # use unique() to find the number of unique values by groups"
   ]
  },
  {
   "cell_type": "code",
   "execution_count": 57,
   "metadata": {
    "colab": {
     "base_uri": "https://localhost:8080/",
     "height": 175
    },
    "executionInfo": {
     "elapsed": 22,
     "status": "ok",
     "timestamp": 1695075447531,
     "user": {
      "displayName": "Ruwen Qin",
      "userId": "01885423067234457717"
     },
     "user_tz": 240
    },
    "id": "kyfBl5-kIaqB",
    "outputId": "94a29c65-2d5d-4027-8b43-fe97a5afbda3"
   },
   "outputs": [
    {
     "data": {
      "text/html": [
       "<div>\n",
       "<style scoped>\n",
       "    .dataframe tbody tr th:only-of-type {\n",
       "        vertical-align: middle;\n",
       "    }\n",
       "\n",
       "    .dataframe tbody tr th {\n",
       "        vertical-align: top;\n",
       "    }\n",
       "\n",
       "    .dataframe thead th {\n",
       "        text-align: right;\n",
       "    }\n",
       "</style>\n",
       "<table border=\"1\" class=\"dataframe\">\n",
       "  <thead>\n",
       "    <tr style=\"text-align: right;\">\n",
       "      <th></th>\n",
       "      <th>Total</th>\n",
       "    </tr>\n",
       "    <tr>\n",
       "      <th>Weather</th>\n",
       "      <th></th>\n",
       "    </tr>\n",
       "  </thead>\n",
       "  <tbody>\n",
       "    <tr>\n",
       "      <th>N</th>\n",
       "      <td>2741334</td>\n",
       "    </tr>\n",
       "    <tr>\n",
       "      <th>R</th>\n",
       "      <td>977751</td>\n",
       "    </tr>\n",
       "    <tr>\n",
       "      <th>T</th>\n",
       "      <td>267238</td>\n",
       "    </tr>\n",
       "  </tbody>\n",
       "</table>\n",
       "</div>"
      ],
      "text/plain": [
       "           Total\n",
       "Weather         \n",
       "N        2741334\n",
       "R         977751\n",
       "T         267238"
      ]
     },
     "execution_count": 57,
     "metadata": {},
     "output_type": "execute_result"
    }
   ],
   "source": [
    "NY_bicycle.groupby('Weather').Total.sum().to_frame() #use sum() to find the sum of 'Total' values by groups"
   ]
  },
  {
   "cell_type": "code",
   "execution_count": 58,
   "metadata": {
    "colab": {
     "base_uri": "https://localhost:8080/",
     "height": 143
    },
    "executionInfo": {
     "elapsed": 21,
     "status": "ok",
     "timestamp": 1695075447531,
     "user": {
      "displayName": "Ruwen Qin",
      "userId": "01885423067234457717"
     },
     "user_tz": 240
    },
    "id": "3NIFQMSGJY8Q",
    "outputId": "7b81a5ba-848f-4a50-dc5d-4f21ce6ad813"
   },
   "outputs": [
    {
     "data": {
      "text/html": [
       "<div>\n",
       "<style scoped>\n",
       "    .dataframe tbody tr th:only-of-type {\n",
       "        vertical-align: middle;\n",
       "    }\n",
       "\n",
       "    .dataframe tbody tr th {\n",
       "        vertical-align: top;\n",
       "    }\n",
       "\n",
       "    .dataframe thead th {\n",
       "        text-align: right;\n",
       "    }\n",
       "</style>\n",
       "<table border=\"1\" class=\"dataframe\">\n",
       "  <thead>\n",
       "    <tr style=\"text-align: right;\">\n",
       "      <th></th>\n",
       "      <th>Weather</th>\n",
       "      <th>Total</th>\n",
       "    </tr>\n",
       "  </thead>\n",
       "  <tbody>\n",
       "    <tr>\n",
       "      <th>2</th>\n",
       "      <td>T</td>\n",
       "      <td>267238</td>\n",
       "    </tr>\n",
       "    <tr>\n",
       "      <th>1</th>\n",
       "      <td>R</td>\n",
       "      <td>977751</td>\n",
       "    </tr>\n",
       "    <tr>\n",
       "      <th>0</th>\n",
       "      <td>N</td>\n",
       "      <td>2741334</td>\n",
       "    </tr>\n",
       "  </tbody>\n",
       "</table>\n",
       "</div>"
      ],
      "text/plain": [
       "  Weather    Total\n",
       "2       T   267238\n",
       "1       R   977751\n",
       "0       N  2741334"
      ]
     },
     "execution_count": 58,
     "metadata": {},
     "output_type": "execute_result"
    }
   ],
   "source": [
    "# group data by categories of weather, convert the result as a dataframe, reset the index of the dataframe, and sort the dataframe by the 'Total' values in the ascending order\n",
    "NY_bicycle.groupby('Weather').Total.sum().reset_index().sort_values(by='Total', ascending=True)"
   ]
  },
  {
   "cell_type": "code",
   "execution_count": 59,
   "metadata": {
    "colab": {
     "base_uri": "https://localhost:8080/",
     "height": 446
    },
    "executionInfo": {
     "elapsed": 19,
     "status": "ok",
     "timestamp": 1695075447531,
     "user": {
      "displayName": "Ruwen Qin",
      "userId": "01885423067234457717"
     },
     "user_tz": 240
    },
    "id": "j6QmOEEBKpO4",
    "outputId": "307c3216-460c-4a90-9ca2-1f65a16345b7"
   },
   "outputs": [
    {
     "data": {
      "text/plain": [
       "<Axes: xlabel='Weather'>"
      ]
     },
     "execution_count": 59,
     "metadata": {},
     "output_type": "execute_result"
    },
    {
     "data": {
      "text/plain": [
       "Text(0, 0.5, 'Frquency')"
      ]
     },
     "execution_count": 59,
     "metadata": {},
     "output_type": "execute_result"
    },
    {
     "data": {
      "image/png": "[encoded data removed]",
      "text/plain": [
       "<Figure size 432x288 with 1 Axes>"
      ]
     },
     "metadata": {
      "needs_background": "light"
     },
     "output_type": "display_data"
    }
   ],
   "source": [
    "# a bar chart displaying the distribution of a categorical variable\n",
    "plt.clf() # clear the current figure\n",
    "NY_bicycle.groupby('Weather').size().plot(kind='bar', color='grey') #size() returns the size of each group\n",
    "plt.ylabel('Frquency')\n",
    "plt.show()"
   ]
  },
  {
   "cell_type": "code",
   "execution_count": 60,
   "metadata": {
    "colab": {
     "base_uri": "https://localhost:8080/",
     "height": 446
    },
    "executionInfo": {
     "elapsed": 18,
     "status": "ok",
     "timestamp": 1695075447532,
     "user": {
      "displayName": "Ruwen Qin",
      "userId": "01885423067234457717"
     },
     "user_tz": 240
    },
    "id": "qwtxI4KHL2dE",
    "outputId": "79af6d51-e6c9-4a91-e2a4-31415ccea527"
   },
   "outputs": [
    {
     "data": {
      "text/plain": [
       "<Axes: xlabel='Weather'>"
      ]
     },
     "execution_count": 60,
     "metadata": {},
     "output_type": "execute_result"
    },
    {
     "data": {
      "text/plain": [
       "Text(0, 0.5, 'Daily Average Volume')"
      ]
     },
     "execution_count": 60,
     "metadata": {},
     "output_type": "execute_result"
    },
    {
     "data": {
      "image/png": "[encoded data removed]",
      "text/plain": [
       "<Figure size 432x288 with 1 Axes>"
      ]
     },
     "metadata": {
      "needs_background": "light"
     },
     "output_type": "display_data"
    }
   ],
   "source": [
    "# a bar chart displaying the sample mean value of 'Total' by Weather groups\n",
    "plt.clf()\n",
    "NY_bicycle.groupby('Weather').Total.mean().plot(kind='bar', color='grey')\n",
    "plt.ylabel('Daily Average Volume')\n",
    "plt.show()"
   ]
  },
  {
   "cell_type": "code",
   "execution_count": 61,
   "metadata": {
    "colab": {
     "base_uri": "https://localhost:8080/",
     "height": 0
    },
    "executionInfo": {
     "elapsed": 164,
     "status": "ok",
     "timestamp": 1695075447679,
     "user": {
      "displayName": "Ruwen Qin",
      "userId": "01885423067234457717"
     },
     "user_tz": 240
    },
    "id": "4boglo4vMuRd",
    "outputId": "300e12e7-8f42-47d0-a62a-b60e0c7bdca4"
   },
   "outputs": [
    {
     "data": {
      "text/plain": [
       "<function matplotlib.pyplot.clf()>"
      ]
     },
     "execution_count": 61,
     "metadata": {},
     "output_type": "execute_result"
    },
    {
     "data": {
      "text/plain": [
       "<Axes: xlabel='Weather'>"
      ]
     },
     "execution_count": 61,
     "metadata": {},
     "output_type": "execute_result"
    },
    {
     "name": "stdout",
     "output_type": "stream",
     "text": [
      "             mean      std\n",
      "Weather                   \n",
      "N        20926.21  3876.82\n",
      "R        14170.30  5816.20\n",
      "T        19088.43  4077.09\n"
     ]
    },
    {
     "data": {
      "text/plain": [
       "<matplotlib.collections.LineCollection at 0x7f86d5572d30>"
      ]
     },
     "execution_count": 61,
     "metadata": {},
     "output_type": "execute_result"
    },
    {
     "data": {
      "text/plain": [
       "<matplotlib.collections.LineCollection at 0x7f86d5572c40>"
      ]
     },
     "execution_count": 61,
     "metadata": {},
     "output_type": "execute_result"
    },
    {
     "data": {
      "text/plain": [
       "<matplotlib.collections.LineCollection at 0x7f86d5093fd0>"
      ]
     },
     "execution_count": 61,
     "metadata": {},
     "output_type": "execute_result"
    },
    {
     "data": {
      "image/png": "[encoded data removed]",
      "text/plain": [
       "<Figure size 432x288 with 1 Axes>"
      ]
     },
     "metadata": {
      "needs_background": "light"
     },
     "output_type": "display_data"
    }
   ],
   "source": [
    "# a bar chart displaying the sample mean and sample standard deviation of 'Total' by weather groups\n",
    "\n",
    "# create a bar chart of mean values of 'Total' by weather categories\n",
    "plt.clf\n",
    "ax = plt.gca() # Get the current ~matplotlib.axes.Axes instance on the current figure matching the given keyword args, or create one.\n",
    "NY_bicycle.groupby('Weather').Total.mean().plot(kind='bar', color='grey', ax=ax)\n",
    "\n",
    "# calculate the mean and the standard deviation of each group\n",
    "df_gd=NY_bicycle.groupby('Weather').Total.agg([np.mean,np.std]).round(2) # agg() ggregates using one or more operations over the specified axis\n",
    "print(df_gd)\n",
    "\n",
    "# add verticle lines to represent the variation of 'Total' of each group\n",
    "for i, (index, row) in enumerate(df_gd.iterrows()): # iterrows() iterates over DataFrame rows as (row index, data series) pairs.\n",
    "  #name = row.name\n",
    "  mean = row ['mean']\n",
    "  stdev = row ['std']\n",
    "  ax.vlines(x=i, ymin=mean-stdev, ymax=mean+stdev) # ax.vlines(x, ymin, ymax) plots a verticle line at the location specified by x. The range of the line is from ymin to ymax\n",
    "plt.show()"
   ]
  },
  {
   "cell_type": "code",
   "execution_count": 62,
   "metadata": {
    "colab": {
     "base_uri": "https://localhost:8080/",
     "height": 0
    },
    "executionInfo": {
     "elapsed": 218,
     "status": "ok",
     "timestamp": 1695075447893,
     "user": {
      "displayName": "Ruwen Qin",
      "userId": "01885423067234457717"
     },
     "user_tz": 240
    },
    "id": "Yjssz3rsLT4B",
    "outputId": "265af0ac-147d-4a84-efa2-e599004fb771"
   },
   "outputs": [
    {
     "data": {
      "text/html": [
       "<div>\n",
       "<style scoped>\n",
       "    .dataframe tbody tr th:only-of-type {\n",
       "        vertical-align: middle;\n",
       "    }\n",
       "\n",
       "    .dataframe tbody tr th {\n",
       "        vertical-align: top;\n",
       "    }\n",
       "\n",
       "    .dataframe thead th {\n",
       "        text-align: right;\n",
       "    }\n",
       "</style>\n",
       "<table border=\"1\" class=\"dataframe\">\n",
       "  <thead>\n",
       "    <tr style=\"text-align: right;\">\n",
       "      <th></th>\n",
       "      <th>Total</th>\n",
       "      <th>Precipitation</th>\n",
       "    </tr>\n",
       "    <tr>\n",
       "      <th>Weather</th>\n",
       "      <th></th>\n",
       "      <th></th>\n",
       "    </tr>\n",
       "  </thead>\n",
       "  <tbody>\n",
       "    <tr>\n",
       "      <th>N</th>\n",
       "      <td>20926.21</td>\n",
       "      <td>0.00</td>\n",
       "    </tr>\n",
       "    <tr>\n",
       "      <th>R</th>\n",
       "      <td>14170.30</td>\n",
       "      <td>0.61</td>\n",
       "    </tr>\n",
       "    <tr>\n",
       "      <th>T</th>\n",
       "      <td>19088.43</td>\n",
       "      <td>NaN</td>\n",
       "    </tr>\n",
       "  </tbody>\n",
       "</table>\n",
       "</div>"
      ],
      "text/plain": [
       "            Total  Precipitation\n",
       "Weather                         \n",
       "N        20926.21           0.00\n",
       "R        14170.30           0.61\n",
       "T        19088.43            NaN"
      ]
     },
     "execution_count": 62,
     "metadata": {},
     "output_type": "execute_result"
    }
   ],
   "source": [
    "NY_bicycle.groupby('Weather').agg({'Total':np.mean,'Precipitation':np.std}).round(2) # group data by weather categories and aggregrate data in each group in terms of the mean value of 'Total' and the standard deviation of precipitation"
   ]
  },
  {
   "cell_type": "code",
   "execution_count": 63,
   "metadata": {
    "colab": {
     "base_uri": "https://localhost:8080/"
    },
    "executionInfo": {
     "elapsed": 17,
     "status": "ok",
     "timestamp": 1695075447894,
     "user": {
      "displayName": "Ruwen Qin",
      "userId": "01885423067234457717"
     },
     "user_tz": 240
    },
    "id": "etG6A6jsMeqO",
    "outputId": "29b4fcc6-95a3-45c1-fd38-50f8851a1357"
   },
   "outputs": [
    {
     "name": "stdout",
     "output_type": "stream",
     "text": [
      "                      Total                                \n",
      "                       mean      std   amax   amin   median\n",
      "Weather Day                                                \n",
      "N       Friday     21373.11  1924.22  23944  17168  21969.0\n",
      "        Monday     22359.56  2321.45  25680  16860  23045.0\n",
      "        Saturday   16141.59  3498.48  20134   5397  17259.0\n",
      "        Sunday     16598.71  1819.46  20787  13033  16765.0\n",
      "        Thursday   23145.38  2409.25  26360  18290  23923.0\n",
      "        Tuesday    23115.56  3094.60  26622  13925  23986.5\n",
      "        Wednesday  23835.17  2343.27  26969  17991  23223.5\n",
      "R       Friday     13289.67  5552.36  23539   5356  12805.0\n",
      "        Monday     12118.18  4460.55  19939   6126  11862.0\n",
      "        Saturday   13719.57  4415.86  19043   2374  14781.0\n",
      "        Sunday     10012.57  4281.90  15878   2835   9865.0\n",
      "        Thursday   15358.57  8130.33  23948   4789  18140.0\n",
      "        Tuesday    15116.64  6678.15  24946   5493  16638.0\n",
      "        Wednesday  18888.90  5045.21  24763   9819  20093.5\n",
      "T       Friday     17621.67  6371.72  22180  10341  20344.0\n",
      "        Monday     19470.50  2284.66  21086  17855  19470.5\n",
      "        Sunday     15369.33   961.62  16408  14510  15190.0\n",
      "        Thursday   22495.00   896.61  23129  21861  22495.0\n",
      "        Tuesday    22754.00  1664.53  23931  21577  22754.0\n",
      "        Wednesday  19413.00  5071.37  22999  15827  19413.0\n"
     ]
    }
   ],
   "source": [
    "df_gd=NY_bicycle.groupby(['Weather','Day']).agg({'Total':[np.mean,np.std,np.max,np.min,np.median]}).round(2) # group data by the combination of weather and day categories, and calculate a set of statistics of \"Total\"\n",
    "print(df_gd)"
   ]
  },
  {
   "cell_type": "code",
   "execution_count": 64,
   "metadata": {
    "colab": {
     "base_uri": "https://localhost:8080/"
    },
    "executionInfo": {
     "elapsed": 13,
     "status": "ok",
     "timestamp": 1695075447895,
     "user": {
      "displayName": "Ruwen Qin",
      "userId": "01885423067234457717"
     },
     "user_tz": 240
    },
    "id": "8y95Ye2JTxGZ",
    "outputId": "c5e374ab-d671-4c1d-ac3c-0f6b8b05e036"
   },
   "outputs": [
    {
     "name": "stdout",
     "output_type": "stream",
     "text": [
      "[('Total', 'mean') ('Total', 'std') ('Total', 'amax') ('Total', 'amin')\n",
      " ('Total', 'median')]\n",
      "['Total mean' 'Total std' 'Total amax' 'Total amin' 'Total median']\n"
     ]
    }
   ],
   "source": [
    "df_gd=NY_bicycle.groupby(['Weather','Day']).agg({'Total':[np.mean,np.std,np.max,np.min,np.median]}).round(2)\n",
    "print(df_gd.columns.values)\n",
    "df_gd.columns = [' '.join(col) for col in df_gd.columns.values] #re-define column lables\n",
    "print(df_gd.columns.values)"
   ]
  },
  {
   "cell_type": "code",
   "execution_count": 65,
   "metadata": {
    "colab": {
     "base_uri": "https://localhost:8080/"
    },
    "executionInfo": {
     "elapsed": 10,
     "status": "ok",
     "timestamp": 1695075447895,
     "user": {
      "displayName": "Ruwen Qin",
      "userId": "01885423067234457717"
     },
     "user_tz": 240
    },
    "id": "SRo6dP8ABi6u",
    "outputId": "636b8df0-19c7-4c4d-a640-6a364e67c3e6"
   },
   "outputs": [
    {
     "name": "stdout",
     "output_type": "stream",
     "text": [
      "                      Total                                \n",
      "                       mean      std   amax   amin   median\n",
      "Weather Day                                                \n",
      "N       Friday     21373.11  1924.22  23944  17168  21969.0\n",
      "        Monday     22359.56  2321.45  25680  16860  23045.0\n",
      "        Saturday   16141.59  3498.48  20134   5397  17259.0\n",
      "        Sunday     16598.71  1819.46  20787  13033  16765.0\n",
      "        Thursday   23145.38  2409.25  26360  18290  23923.0\n",
      "        Tuesday    23115.56  3094.60  26622  13925  23986.5\n",
      "        Wednesday  23835.17  2343.27  26969  17991  23223.5\n",
      "R       Friday     13289.67  5552.36  23539   5356  12805.0\n",
      "        Monday     12118.18  4460.55  19939   6126  11862.0\n",
      "        Saturday   13719.57  4415.86  19043   2374  14781.0\n",
      "        Sunday     10012.57  4281.90  15878   2835   9865.0\n",
      "        Thursday   15358.57  8130.33  23948   4789  18140.0\n",
      "        Tuesday    15116.64  6678.15  24946   5493  16638.0\n",
      "        Wednesday  18888.90  5045.21  24763   9819  20093.5\n",
      "T       Friday     17621.67  6371.72  22180  10341  20344.0\n",
      "        Monday     19470.50  2284.66  21086  17855  19470.5\n",
      "        Sunday     15369.33   961.62  16408  14510  15190.0\n",
      "        Thursday   22495.00   896.61  23129  21861  22495.0\n",
      "        Tuesday    22754.00  1664.53  23931  21577  22754.0\n",
      "        Wednesday  19413.00  5071.37  22999  15827  19413.0\n"
     ]
    }
   ],
   "source": [
    "df_gd=NY_bicycle.groupby(['Weather','Day']).agg({'Total':[np.mean,np.std,np.max,np.min,np.median]}).round(2) # group data by the combination of weather and day categories, and calculate a set of statistics of \"Total\"\n",
    "print(df_gd)"
   ]
  },
  {
   "cell_type": "code",
   "execution_count": 66,
   "metadata": {
    "colab": {
     "base_uri": "https://localhost:8080/",
     "height": 0
    },
    "executionInfo": {
     "elapsed": 199,
     "status": "ok",
     "timestamp": 1695075448087,
     "user": {
      "displayName": "Ruwen Qin",
      "userId": "01885423067234457717"
     },
     "user_tz": 240
    },
    "id": "xWyAyYTYUzCB",
    "outputId": "a945e1be-1b5b-4c1e-b508-73a19838f338"
   },
   "outputs": [
    {
     "data": {
      "text/html": [
       "<div>\n",
       "<style scoped>\n",
       "    .dataframe tbody tr th:only-of-type {\n",
       "        vertical-align: middle;\n",
       "    }\n",
       "\n",
       "    .dataframe tbody tr th {\n",
       "        vertical-align: top;\n",
       "    }\n",
       "\n",
       "    .dataframe thead tr th {\n",
       "        text-align: left;\n",
       "    }\n",
       "</style>\n",
       "<table border=\"1\" class=\"dataframe\">\n",
       "  <thead>\n",
       "    <tr>\n",
       "      <th></th>\n",
       "      <th>Weather</th>\n",
       "      <th>Day</th>\n",
       "      <th colspan=\"5\" halign=\"left\">Total</th>\n",
       "    </tr>\n",
       "    <tr>\n",
       "      <th></th>\n",
       "      <th></th>\n",
       "      <th></th>\n",
       "      <th>mean</th>\n",
       "      <th>std</th>\n",
       "      <th>amax</th>\n",
       "      <th>amin</th>\n",
       "      <th>median</th>\n",
       "    </tr>\n",
       "  </thead>\n",
       "  <tbody>\n",
       "    <tr>\n",
       "      <th>0</th>\n",
       "      <td>N</td>\n",
       "      <td>Friday</td>\n",
       "      <td>21373.11</td>\n",
       "      <td>1924.22</td>\n",
       "      <td>23944</td>\n",
       "      <td>17168</td>\n",
       "      <td>21969.0</td>\n",
       "    </tr>\n",
       "    <tr>\n",
       "      <th>1</th>\n",
       "      <td>N</td>\n",
       "      <td>Monday</td>\n",
       "      <td>22359.56</td>\n",
       "      <td>2321.45</td>\n",
       "      <td>25680</td>\n",
       "      <td>16860</td>\n",
       "      <td>23045.0</td>\n",
       "    </tr>\n",
       "    <tr>\n",
       "      <th>2</th>\n",
       "      <td>N</td>\n",
       "      <td>Saturday</td>\n",
       "      <td>16141.59</td>\n",
       "      <td>3498.48</td>\n",
       "      <td>20134</td>\n",
       "      <td>5397</td>\n",
       "      <td>17259.0</td>\n",
       "    </tr>\n",
       "    <tr>\n",
       "      <th>3</th>\n",
       "      <td>N</td>\n",
       "      <td>Sunday</td>\n",
       "      <td>16598.71</td>\n",
       "      <td>1819.46</td>\n",
       "      <td>20787</td>\n",
       "      <td>13033</td>\n",
       "      <td>16765.0</td>\n",
       "    </tr>\n",
       "    <tr>\n",
       "      <th>4</th>\n",
       "      <td>N</td>\n",
       "      <td>Thursday</td>\n",
       "      <td>23145.38</td>\n",
       "      <td>2409.25</td>\n",
       "      <td>26360</td>\n",
       "      <td>18290</td>\n",
       "      <td>23923.0</td>\n",
       "    </tr>\n",
       "    <tr>\n",
       "      <th>5</th>\n",
       "      <td>N</td>\n",
       "      <td>Tuesday</td>\n",
       "      <td>23115.56</td>\n",
       "      <td>3094.60</td>\n",
       "      <td>26622</td>\n",
       "      <td>13925</td>\n",
       "      <td>23986.5</td>\n",
       "    </tr>\n",
       "    <tr>\n",
       "      <th>6</th>\n",
       "      <td>N</td>\n",
       "      <td>Wednesday</td>\n",
       "      <td>23835.17</td>\n",
       "      <td>2343.27</td>\n",
       "      <td>26969</td>\n",
       "      <td>17991</td>\n",
       "      <td>23223.5</td>\n",
       "    </tr>\n",
       "    <tr>\n",
       "      <th>7</th>\n",
       "      <td>R</td>\n",
       "      <td>Friday</td>\n",
       "      <td>13289.67</td>\n",
       "      <td>5552.36</td>\n",
       "      <td>23539</td>\n",
       "      <td>5356</td>\n",
       "      <td>12805.0</td>\n",
       "    </tr>\n",
       "    <tr>\n",
       "      <th>8</th>\n",
       "      <td>R</td>\n",
       "      <td>Monday</td>\n",
       "      <td>12118.18</td>\n",
       "      <td>4460.55</td>\n",
       "      <td>19939</td>\n",
       "      <td>6126</td>\n",
       "      <td>11862.0</td>\n",
       "    </tr>\n",
       "    <tr>\n",
       "      <th>9</th>\n",
       "      <td>R</td>\n",
       "      <td>Saturday</td>\n",
       "      <td>13719.57</td>\n",
       "      <td>4415.86</td>\n",
       "      <td>19043</td>\n",
       "      <td>2374</td>\n",
       "      <td>14781.0</td>\n",
       "    </tr>\n",
       "    <tr>\n",
       "      <th>10</th>\n",
       "      <td>R</td>\n",
       "      <td>Sunday</td>\n",
       "      <td>10012.57</td>\n",
       "      <td>4281.90</td>\n",
       "      <td>15878</td>\n",
       "      <td>2835</td>\n",
       "      <td>9865.0</td>\n",
       "    </tr>\n",
       "    <tr>\n",
       "      <th>11</th>\n",
       "      <td>R</td>\n",
       "      <td>Thursday</td>\n",
       "      <td>15358.57</td>\n",
       "      <td>8130.33</td>\n",
       "      <td>23948</td>\n",
       "      <td>4789</td>\n",
       "      <td>18140.0</td>\n",
       "    </tr>\n",
       "    <tr>\n",
       "      <th>12</th>\n",
       "      <td>R</td>\n",
       "      <td>Tuesday</td>\n",
       "      <td>15116.64</td>\n",
       "      <td>6678.15</td>\n",
       "      <td>24946</td>\n",
       "      <td>5493</td>\n",
       "      <td>16638.0</td>\n",
       "    </tr>\n",
       "    <tr>\n",
       "      <th>13</th>\n",
       "      <td>R</td>\n",
       "      <td>Wednesday</td>\n",
       "      <td>18888.90</td>\n",
       "      <td>5045.21</td>\n",
       "      <td>24763</td>\n",
       "      <td>9819</td>\n",
       "      <td>20093.5</td>\n",
       "    </tr>\n",
       "    <tr>\n",
       "      <th>14</th>\n",
       "      <td>T</td>\n",
       "      <td>Friday</td>\n",
       "      <td>17621.67</td>\n",
       "      <td>6371.72</td>\n",
       "      <td>22180</td>\n",
       "      <td>10341</td>\n",
       "      <td>20344.0</td>\n",
       "    </tr>\n",
       "    <tr>\n",
       "      <th>15</th>\n",
       "      <td>T</td>\n",
       "      <td>Monday</td>\n",
       "      <td>19470.50</td>\n",
       "      <td>2284.66</td>\n",
       "      <td>21086</td>\n",
       "      <td>17855</td>\n",
       "      <td>19470.5</td>\n",
       "    </tr>\n",
       "    <tr>\n",
       "      <th>16</th>\n",
       "      <td>T</td>\n",
       "      <td>Sunday</td>\n",
       "      <td>15369.33</td>\n",
       "      <td>961.62</td>\n",
       "      <td>16408</td>\n",
       "      <td>14510</td>\n",
       "      <td>15190.0</td>\n",
       "    </tr>\n",
       "    <tr>\n",
       "      <th>17</th>\n",
       "      <td>T</td>\n",
       "      <td>Thursday</td>\n",
       "      <td>22495.00</td>\n",
       "      <td>896.61</td>\n",
       "      <td>23129</td>\n",
       "      <td>21861</td>\n",
       "      <td>22495.0</td>\n",
       "    </tr>\n",
       "    <tr>\n",
       "      <th>18</th>\n",
       "      <td>T</td>\n",
       "      <td>Tuesday</td>\n",
       "      <td>22754.00</td>\n",
       "      <td>1664.53</td>\n",
       "      <td>23931</td>\n",
       "      <td>21577</td>\n",
       "      <td>22754.0</td>\n",
       "    </tr>\n",
       "    <tr>\n",
       "      <th>19</th>\n",
       "      <td>T</td>\n",
       "      <td>Wednesday</td>\n",
       "      <td>19413.00</td>\n",
       "      <td>5071.37</td>\n",
       "      <td>22999</td>\n",
       "      <td>15827</td>\n",
       "      <td>19413.0</td>\n",
       "    </tr>\n",
       "  </tbody>\n",
       "</table>\n",
       "</div>"
      ],
      "text/plain": [
       "   Weather        Day     Total                                \n",
       "                           mean      std   amax   amin   median\n",
       "0        N     Friday  21373.11  1924.22  23944  17168  21969.0\n",
       "1        N     Monday  22359.56  2321.45  25680  16860  23045.0\n",
       "2        N   Saturday  16141.59  3498.48  20134   5397  17259.0\n",
       "3        N     Sunday  16598.71  1819.46  20787  13033  16765.0\n",
       "4        N   Thursday  23145.38  2409.25  26360  18290  23923.0\n",
       "5        N    Tuesday  23115.56  3094.60  26622  13925  23986.5\n",
       "6        N  Wednesday  23835.17  2343.27  26969  17991  23223.5\n",
       "7        R     Friday  13289.67  5552.36  23539   5356  12805.0\n",
       "8        R     Monday  12118.18  4460.55  19939   6126  11862.0\n",
       "9        R   Saturday  13719.57  4415.86  19043   2374  14781.0\n",
       "10       R     Sunday  10012.57  4281.90  15878   2835   9865.0\n",
       "11       R   Thursday  15358.57  8130.33  23948   4789  18140.0\n",
       "12       R    Tuesday  15116.64  6678.15  24946   5493  16638.0\n",
       "13       R  Wednesday  18888.90  5045.21  24763   9819  20093.5\n",
       "14       T     Friday  17621.67  6371.72  22180  10341  20344.0\n",
       "15       T     Monday  19470.50  2284.66  21086  17855  19470.5\n",
       "16       T     Sunday  15369.33   961.62  16408  14510  15190.0\n",
       "17       T   Thursday  22495.00   896.61  23129  21861  22495.0\n",
       "18       T    Tuesday  22754.00  1664.53  23931  21577  22754.0\n",
       "19       T  Wednesday  19413.00  5071.37  22999  15827  19413.0"
      ]
     },
     "execution_count": 66,
     "metadata": {},
     "output_type": "execute_result"
    }
   ],
   "source": [
    "df_gd=NY_bicycle.groupby(['Weather','Day']).agg({'Total':[np.mean,np.std,np.max,np.min,np.median]}).round(2)\n",
    "df_gd.reset_index() #add index and turn it into a dataframe"
   ]
  },
  {
   "cell_type": "code",
   "execution_count": 67,
   "metadata": {
    "colab": {
     "base_uri": "https://localhost:8080/",
     "height": 0
    },
    "executionInfo": {
     "elapsed": 19,
     "status": "ok",
     "timestamp": 1695075448087,
     "user": {
      "displayName": "Ruwen Qin",
      "userId": "01885423067234457717"
     },
     "user_tz": 240
    },
    "id": "SD4tRlveSTZK",
    "outputId": "23922080-4f12-4f82-d570-e478ff6d58d1"
   },
   "outputs": [
    {
     "data": {
      "text/html": [
       "<div>\n",
       "<style scoped>\n",
       "    .dataframe tbody tr th:only-of-type {\n",
       "        vertical-align: middle;\n",
       "    }\n",
       "\n",
       "    .dataframe tbody tr th {\n",
       "        vertical-align: top;\n",
       "    }\n",
       "\n",
       "    .dataframe thead th {\n",
       "        text-align: right;\n",
       "    }\n",
       "</style>\n",
       "<table border=\"1\" class=\"dataframe\">\n",
       "  <thead>\n",
       "    <tr style=\"text-align: right;\">\n",
       "      <th></th>\n",
       "      <th>Weather</th>\n",
       "      <th>Day</th>\n",
       "      <th>Average Daily Volume</th>\n",
       "    </tr>\n",
       "  </thead>\n",
       "  <tbody>\n",
       "    <tr>\n",
       "      <th>0</th>\n",
       "      <td>N</td>\n",
       "      <td>Friday</td>\n",
       "      <td>21373.11</td>\n",
       "    </tr>\n",
       "    <tr>\n",
       "      <th>1</th>\n",
       "      <td>N</td>\n",
       "      <td>Monday</td>\n",
       "      <td>22359.56</td>\n",
       "    </tr>\n",
       "    <tr>\n",
       "      <th>2</th>\n",
       "      <td>N</td>\n",
       "      <td>Saturday</td>\n",
       "      <td>16141.59</td>\n",
       "    </tr>\n",
       "    <tr>\n",
       "      <th>3</th>\n",
       "      <td>N</td>\n",
       "      <td>Sunday</td>\n",
       "      <td>16598.71</td>\n",
       "    </tr>\n",
       "    <tr>\n",
       "      <th>4</th>\n",
       "      <td>N</td>\n",
       "      <td>Thursday</td>\n",
       "      <td>23145.38</td>\n",
       "    </tr>\n",
       "    <tr>\n",
       "      <th>5</th>\n",
       "      <td>N</td>\n",
       "      <td>Tuesday</td>\n",
       "      <td>23115.56</td>\n",
       "    </tr>\n",
       "    <tr>\n",
       "      <th>6</th>\n",
       "      <td>N</td>\n",
       "      <td>Wednesday</td>\n",
       "      <td>23835.17</td>\n",
       "    </tr>\n",
       "    <tr>\n",
       "      <th>7</th>\n",
       "      <td>R</td>\n",
       "      <td>Friday</td>\n",
       "      <td>13289.67</td>\n",
       "    </tr>\n",
       "    <tr>\n",
       "      <th>8</th>\n",
       "      <td>R</td>\n",
       "      <td>Monday</td>\n",
       "      <td>12118.18</td>\n",
       "    </tr>\n",
       "    <tr>\n",
       "      <th>9</th>\n",
       "      <td>R</td>\n",
       "      <td>Saturday</td>\n",
       "      <td>13719.57</td>\n",
       "    </tr>\n",
       "    <tr>\n",
       "      <th>10</th>\n",
       "      <td>R</td>\n",
       "      <td>Sunday</td>\n",
       "      <td>10012.57</td>\n",
       "    </tr>\n",
       "    <tr>\n",
       "      <th>11</th>\n",
       "      <td>R</td>\n",
       "      <td>Thursday</td>\n",
       "      <td>15358.57</td>\n",
       "    </tr>\n",
       "    <tr>\n",
       "      <th>12</th>\n",
       "      <td>R</td>\n",
       "      <td>Tuesday</td>\n",
       "      <td>15116.64</td>\n",
       "    </tr>\n",
       "    <tr>\n",
       "      <th>13</th>\n",
       "      <td>R</td>\n",
       "      <td>Wednesday</td>\n",
       "      <td>18888.90</td>\n",
       "    </tr>\n",
       "    <tr>\n",
       "      <th>14</th>\n",
       "      <td>T</td>\n",
       "      <td>Friday</td>\n",
       "      <td>17621.67</td>\n",
       "    </tr>\n",
       "    <tr>\n",
       "      <th>15</th>\n",
       "      <td>T</td>\n",
       "      <td>Monday</td>\n",
       "      <td>19470.50</td>\n",
       "    </tr>\n",
       "    <tr>\n",
       "      <th>16</th>\n",
       "      <td>T</td>\n",
       "      <td>Sunday</td>\n",
       "      <td>15369.33</td>\n",
       "    </tr>\n",
       "    <tr>\n",
       "      <th>17</th>\n",
       "      <td>T</td>\n",
       "      <td>Thursday</td>\n",
       "      <td>22495.00</td>\n",
       "    </tr>\n",
       "    <tr>\n",
       "      <th>18</th>\n",
       "      <td>T</td>\n",
       "      <td>Tuesday</td>\n",
       "      <td>22754.00</td>\n",
       "    </tr>\n",
       "    <tr>\n",
       "      <th>19</th>\n",
       "      <td>T</td>\n",
       "      <td>Wednesday</td>\n",
       "      <td>19413.00</td>\n",
       "    </tr>\n",
       "  </tbody>\n",
       "</table>\n",
       "</div>"
      ],
      "text/plain": [
       "   Weather        Day  Average Daily Volume\n",
       "0        N     Friday              21373.11\n",
       "1        N     Monday              22359.56\n",
       "2        N   Saturday              16141.59\n",
       "3        N     Sunday              16598.71\n",
       "4        N   Thursday              23145.38\n",
       "5        N    Tuesday              23115.56\n",
       "6        N  Wednesday              23835.17\n",
       "7        R     Friday              13289.67\n",
       "8        R     Monday              12118.18\n",
       "9        R   Saturday              13719.57\n",
       "10       R     Sunday              10012.57\n",
       "11       R   Thursday              15358.57\n",
       "12       R    Tuesday              15116.64\n",
       "13       R  Wednesday              18888.90\n",
       "14       T     Friday              17621.67\n",
       "15       T     Monday              19470.50\n",
       "16       T     Sunday              15369.33\n",
       "17       T   Thursday              22495.00\n",
       "18       T    Tuesday              22754.00\n",
       "19       T  Wednesday              19413.00"
      ]
     },
     "execution_count": 67,
     "metadata": {},
     "output_type": "execute_result"
    }
   ],
   "source": [
    "NY_bicycle.groupby(['Weather','Day']).Total.mean().reset_index(name='Average Daily Volume').round(2) #add index and convert to dataframe. Name the mean value of total as Average Daily Volume\n",
    "\n"
   ]
  },
  {
   "cell_type": "code",
   "execution_count": 68,
   "metadata": {
    "colab": {
     "base_uri": "https://localhost:8080/",
     "height": 734
    },
    "executionInfo": {
     "elapsed": 17,
     "status": "ok",
     "timestamp": 1695075448088,
     "user": {
      "displayName": "Ruwen Qin",
      "userId": "01885423067234457717"
     },
     "user_tz": 240
    },
    "id": "ZoCqKZbwV1jJ",
    "outputId": "a3f34459-006e-4cc5-f867-68189c574ea2"
   },
   "outputs": [
    {
     "data": {
      "text/html": [
       "<div>\n",
       "<style scoped>\n",
       "    .dataframe tbody tr th:only-of-type {\n",
       "        vertical-align: middle;\n",
       "    }\n",
       "\n",
       "    .dataframe tbody tr th {\n",
       "        vertical-align: top;\n",
       "    }\n",
       "\n",
       "    .dataframe thead th {\n",
       "        text-align: right;\n",
       "    }\n",
       "</style>\n",
       "<table border=\"1\" class=\"dataframe\">\n",
       "  <thead>\n",
       "    <tr style=\"text-align: right;\">\n",
       "      <th></th>\n",
       "      <th>Date</th>\n",
       "      <th>Day</th>\n",
       "      <th>High_Temp_F</th>\n",
       "      <th>Low_Temp_F</th>\n",
       "      <th>Precipitation</th>\n",
       "      <th>Weather</th>\n",
       "      <th>Brooklyn_Bridge</th>\n",
       "      <th>Manhattan_Bridge</th>\n",
       "      <th>Williamsburg_Bridge</th>\n",
       "      <th>Queensboro_Bridge</th>\n",
       "      <th>Total</th>\n",
       "    </tr>\n",
       "  </thead>\n",
       "  <tbody>\n",
       "    <tr>\n",
       "      <th>6</th>\n",
       "      <td>7-Apr</td>\n",
       "      <td>Friday</td>\n",
       "      <td>48.0</td>\n",
       "      <td>43.0</td>\n",
       "      <td>NaN</td>\n",
       "      <td>T</td>\n",
       "      <td>1222</td>\n",
       "      <td>2955</td>\n",
       "      <td>3399</td>\n",
       "      <td>2765</td>\n",
       "      <td>10341</td>\n",
       "    </tr>\n",
       "    <tr>\n",
       "      <th>15</th>\n",
       "      <td>16-Apr</td>\n",
       "      <td>Sunday</td>\n",
       "      <td>84.9</td>\n",
       "      <td>62.1</td>\n",
       "      <td>NaN</td>\n",
       "      <td>T</td>\n",
       "      <td>2877</td>\n",
       "      <td>4585</td>\n",
       "      <td>5259</td>\n",
       "      <td>3687</td>\n",
       "      <td>16408</td>\n",
       "    </tr>\n",
       "    <tr>\n",
       "      <th>16</th>\n",
       "      <td>17-Apr</td>\n",
       "      <td>Monday</td>\n",
       "      <td>73.9</td>\n",
       "      <td>64.0</td>\n",
       "      <td>NaN</td>\n",
       "      <td>T</td>\n",
       "      <td>3152</td>\n",
       "      <td>6352</td>\n",
       "      <td>6924</td>\n",
       "      <td>4658</td>\n",
       "      <td>21086</td>\n",
       "    </tr>\n",
       "    <tr>\n",
       "      <th>18</th>\n",
       "      <td>19-Apr</td>\n",
       "      <td>Wednesday</td>\n",
       "      <td>52.0</td>\n",
       "      <td>45.0</td>\n",
       "      <td>NaN</td>\n",
       "      <td>T</td>\n",
       "      <td>1965</td>\n",
       "      <td>4632</td>\n",
       "      <td>5234</td>\n",
       "      <td>3996</td>\n",
       "      <td>15827</td>\n",
       "    </tr>\n",
       "    <tr>\n",
       "      <th>23</th>\n",
       "      <td>24-Apr</td>\n",
       "      <td>Monday</td>\n",
       "      <td>60.1</td>\n",
       "      <td>50.0</td>\n",
       "      <td>NaN</td>\n",
       "      <td>T</td>\n",
       "      <td>2544</td>\n",
       "      <td>5366</td>\n",
       "      <td>5762</td>\n",
       "      <td>4183</td>\n",
       "      <td>17855</td>\n",
       "    </tr>\n",
       "    <tr>\n",
       "      <th>73</th>\n",
       "      <td>13-Jun</td>\n",
       "      <td>Tuesday</td>\n",
       "      <td>93.9</td>\n",
       "      <td>78.1</td>\n",
       "      <td>NaN</td>\n",
       "      <td>T</td>\n",
       "      <td>2882</td>\n",
       "      <td>6141</td>\n",
       "      <td>7155</td>\n",
       "      <td>5399</td>\n",
       "      <td>21577</td>\n",
       "    </tr>\n",
       "    <tr>\n",
       "      <th>78</th>\n",
       "      <td>18-Jun</td>\n",
       "      <td>Sunday</td>\n",
       "      <td>84.0</td>\n",
       "      <td>72.0</td>\n",
       "      <td>NaN</td>\n",
       "      <td>T</td>\n",
       "      <td>2199</td>\n",
       "      <td>4014</td>\n",
       "      <td>4901</td>\n",
       "      <td>3396</td>\n",
       "      <td>14510</td>\n",
       "    </tr>\n",
       "    <tr>\n",
       "      <th>90</th>\n",
       "      <td>30-Jun</td>\n",
       "      <td>Friday</td>\n",
       "      <td>88.0</td>\n",
       "      <td>73.9</td>\n",
       "      <td>NaN</td>\n",
       "      <td>T</td>\n",
       "      <td>2687</td>\n",
       "      <td>5890</td>\n",
       "      <td>7013</td>\n",
       "      <td>4754</td>\n",
       "      <td>20344</td>\n",
       "    </tr>\n",
       "    <tr>\n",
       "      <th>96</th>\n",
       "      <td>6-Jul</td>\n",
       "      <td>Thursday</td>\n",
       "      <td>75.0</td>\n",
       "      <td>71.1</td>\n",
       "      <td>NaN</td>\n",
       "      <td>T</td>\n",
       "      <td>3065</td>\n",
       "      <td>6243</td>\n",
       "      <td>7302</td>\n",
       "      <td>5251</td>\n",
       "      <td>21861</td>\n",
       "    </tr>\n",
       "    <tr>\n",
       "      <th>117</th>\n",
       "      <td>27-Jul</td>\n",
       "      <td>Thursday</td>\n",
       "      <td>77.0</td>\n",
       "      <td>66.9</td>\n",
       "      <td>NaN</td>\n",
       "      <td>T</td>\n",
       "      <td>3287</td>\n",
       "      <td>6624</td>\n",
       "      <td>7221</td>\n",
       "      <td>5997</td>\n",
       "      <td>23129</td>\n",
       "    </tr>\n",
       "    <tr>\n",
       "      <th>132</th>\n",
       "      <td>11-Aug</td>\n",
       "      <td>Friday</td>\n",
       "      <td>81.0</td>\n",
       "      <td>70.0</td>\n",
       "      <td>NaN</td>\n",
       "      <td>T</td>\n",
       "      <td>3148</td>\n",
       "      <td>6295</td>\n",
       "      <td>7068</td>\n",
       "      <td>5669</td>\n",
       "      <td>22180</td>\n",
       "    </tr>\n",
       "    <tr>\n",
       "      <th>144</th>\n",
       "      <td>23-Aug</td>\n",
       "      <td>Wednesday</td>\n",
       "      <td>80.1</td>\n",
       "      <td>71.1</td>\n",
       "      <td>NaN</td>\n",
       "      <td>T</td>\n",
       "      <td>2994</td>\n",
       "      <td>6586</td>\n",
       "      <td>7297</td>\n",
       "      <td>6122</td>\n",
       "      <td>22999</td>\n",
       "    </tr>\n",
       "    <tr>\n",
       "      <th>157</th>\n",
       "      <td>5-Sep</td>\n",
       "      <td>Tuesday</td>\n",
       "      <td>84.0</td>\n",
       "      <td>70.0</td>\n",
       "      <td>NaN</td>\n",
       "      <td>T</td>\n",
       "      <td>3244</td>\n",
       "      <td>7244</td>\n",
       "      <td>7537</td>\n",
       "      <td>5906</td>\n",
       "      <td>23931</td>\n",
       "    </tr>\n",
       "    <tr>\n",
       "      <th>197</th>\n",
       "      <td>15-Oct</td>\n",
       "      <td>Sunday</td>\n",
       "      <td>72.0</td>\n",
       "      <td>66.0</td>\n",
       "      <td>NaN</td>\n",
       "      <td>T</td>\n",
       "      <td>2169</td>\n",
       "      <td>4285</td>\n",
       "      <td>4943</td>\n",
       "      <td>3793</td>\n",
       "      <td>15190</td>\n",
       "    </tr>\n",
       "  </tbody>\n",
       "</table>\n",
       "</div>"
      ],
      "text/plain": [
       "       Date        Day  High_Temp_F  Low_Temp_F  Precipitation Weather  \\\n",
       "6     7-Apr     Friday         48.0        43.0            NaN       T   \n",
       "15   16-Apr     Sunday         84.9        62.1            NaN       T   \n",
       "16   17-Apr     Monday         73.9        64.0            NaN       T   \n",
       "18   19-Apr  Wednesday         52.0        45.0            NaN       T   \n",
       "23   24-Apr     Monday         60.1        50.0            NaN       T   \n",
       "73   13-Jun    Tuesday         93.9        78.1            NaN       T   \n",
       "78   18-Jun     Sunday         84.0        72.0            NaN       T   \n",
       "90   30-Jun     Friday         88.0        73.9            NaN       T   \n",
       "96    6-Jul   Thursday         75.0        71.1            NaN       T   \n",
       "117  27-Jul   Thursday         77.0        66.9            NaN       T   \n",
       "132  11-Aug     Friday         81.0        70.0            NaN       T   \n",
       "144  23-Aug  Wednesday         80.1        71.1            NaN       T   \n",
       "157   5-Sep    Tuesday         84.0        70.0            NaN       T   \n",
       "197  15-Oct     Sunday         72.0        66.0            NaN       T   \n",
       "\n",
       "     Brooklyn_Bridge  Manhattan_Bridge  Williamsburg_Bridge  \\\n",
       "6               1222              2955                 3399   \n",
       "15              2877              4585                 5259   \n",
       "16              3152              6352                 6924   \n",
       "18              1965              4632                 5234   \n",
       "23              2544              5366                 5762   \n",
       "73              2882              6141                 7155   \n",
       "78              2199              4014                 4901   \n",
       "90              2687              5890                 7013   \n",
       "96              3065              6243                 7302   \n",
       "117             3287              6624                 7221   \n",
       "132             3148              6295                 7068   \n",
       "144             2994              6586                 7297   \n",
       "157             3244              7244                 7537   \n",
       "197             2169              4285                 4943   \n",
       "\n",
       "     Queensboro_Bridge  Total  \n",
       "6                 2765  10341  \n",
       "15                3687  16408  \n",
       "16                4658  21086  \n",
       "18                3996  15827  \n",
       "23                4183  17855  \n",
       "73                5399  21577  \n",
       "78                3396  14510  \n",
       "90                4754  20344  \n",
       "96                5251  21861  \n",
       "117               5997  23129  \n",
       "132               5669  22180  \n",
       "144               6122  22999  \n",
       "157               5906  23931  \n",
       "197               3793  15190  "
      ]
     },
     "execution_count": 68,
     "metadata": {},
     "output_type": "execute_result"
    }
   ],
   "source": [
    "df_gd = NY_bicycle.groupby('Weather')\n",
    "df_gd.get_group('T') # get_group() constructs DataFrame from group with provided name. In this example, a dataframe is consructed using group \"T\""
   ]
  },
  {
   "cell_type": "code",
   "execution_count": 69,
   "metadata": {
    "colab": {
     "base_uri": "https://localhost:8080/"
    },
    "executionInfo": {
     "elapsed": 15,
     "status": "ok",
     "timestamp": 1695075448088,
     "user": {
      "displayName": "Ruwen Qin",
      "userId": "01885423067234457717"
     },
     "user_tz": 240
    },
    "id": "u8b9koKcYvI9",
    "outputId": "d24fe2ec-a970-4b35-d3fe-eddc2e4851c6"
   },
   "outputs": [
    {
     "name": "stdout",
     "output_type": "stream",
     "text": [
      "     Date        Day  High_Temp_F  Low_Temp_F  Precipitation Weather  \\\n",
      "0  16-Sep   Saturday         82.0        70.0           0.00       N   \n",
      "1  15-Jun   Thursday         75.0        66.0           0.00       N   \n",
      "2  26-Jun     Monday         78.1        66.0           0.00       N   \n",
      "3   2-Aug  Wednesday         86.0        69.1           0.09       R   \n",
      "4  24-Jul     Monday         69.1        63.0           0.74       R   \n",
      "5   5-May     Friday         59.0        52.0           3.02       R   \n",
      "6   6-Jul   Thursday         75.0        71.1            NaN       T   \n",
      "7   7-Apr     Friday         48.0        43.0            NaN       T   \n",
      "8  18-Jun     Sunday         84.0        72.0            NaN       T   \n",
      "\n",
      "   Brooklyn_Bridge  Manhattan_Bridge  Williamsburg_Bridge  Queensboro_Bridge  \\\n",
      "0             2560              4860                 5568               4532   \n",
      "1             3510              7854                 8652               6344   \n",
      "2             3386              7217                 7974               5845   \n",
      "3             2637              5966                 6407               5288   \n",
      "4             1576              3584                 3867               2835   \n",
      "5              513              1471                 1951               1421   \n",
      "6             3065              6243                 7302               5251   \n",
      "7             1222              2955                 3399               2765   \n",
      "8             2199              4014                 4901               3396   \n",
      "\n",
      "   Total  \n",
      "0  17520  \n",
      "1  26360  \n",
      "2  24422  \n",
      "3  20298  \n",
      "4  11862  \n",
      "5   5356  \n",
      "6  21861  \n",
      "7  10341  \n",
      "8  14510  \n"
     ]
    }
   ],
   "source": [
    "# generate a random sample from each of the grouped data\n",
    "df_sample=NY_bicycle.groupby('Weather').apply(lambda group_df: group_df.sample(3)).reset_index(drop=True) # sample() returns a random sample. reset_index(drop=True) means do not add the index as a column of the dataframe\n",
    "print(df_sample)"
   ]
  },
  {
   "cell_type": "markdown",
   "metadata": {
    "id": "FqNzXNGQHs5b"
   },
   "source": [
    "#Cross-tabulation"
   ]
  },
  {
   "cell_type": "code",
   "execution_count": 70,
   "metadata": {
    "colab": {
     "base_uri": "https://localhost:8080/",
     "height": 0
    },
    "executionInfo": {
     "elapsed": 178,
     "status": "ok",
     "timestamp": 1695075448255,
     "user": {
      "displayName": "Ruwen Qin",
      "userId": "01885423067234457717"
     },
     "user_tz": 240
    },
    "id": "94d1VSbTy2PC",
    "outputId": "f902d321-2d00-45c1-951b-521252fa7b86"
   },
   "outputs": [
    {
     "data": {
      "text/html": [
       "<div>\n",
       "<style scoped>\n",
       "    .dataframe tbody tr th:only-of-type {\n",
       "        vertical-align: middle;\n",
       "    }\n",
       "\n",
       "    .dataframe tbody tr th {\n",
       "        vertical-align: top;\n",
       "    }\n",
       "\n",
       "    .dataframe thead th {\n",
       "        text-align: right;\n",
       "    }\n",
       "</style>\n",
       "<table border=\"1\" class=\"dataframe\">\n",
       "  <thead>\n",
       "    <tr style=\"text-align: right;\">\n",
       "      <th>Day</th>\n",
       "      <th>Friday</th>\n",
       "      <th>Monday</th>\n",
       "      <th>Saturday</th>\n",
       "      <th>Sunday</th>\n",
       "      <th>Thursday</th>\n",
       "      <th>Tuesday</th>\n",
       "      <th>Wednesday</th>\n",
       "      <th>All</th>\n",
       "    </tr>\n",
       "    <tr>\n",
       "      <th>Weather</th>\n",
       "      <th></th>\n",
       "      <th></th>\n",
       "      <th></th>\n",
       "      <th></th>\n",
       "      <th></th>\n",
       "      <th></th>\n",
       "      <th></th>\n",
       "      <th></th>\n",
       "    </tr>\n",
       "  </thead>\n",
       "  <tbody>\n",
       "    <tr>\n",
       "      <th>N</th>\n",
       "      <td>21373.1</td>\n",
       "      <td>22359.6</td>\n",
       "      <td>16141.6</td>\n",
       "      <td>16598.7</td>\n",
       "      <td>23145.4</td>\n",
       "      <td>23115.6</td>\n",
       "      <td>23835.2</td>\n",
       "      <td>20926.2</td>\n",
       "    </tr>\n",
       "    <tr>\n",
       "      <th>R</th>\n",
       "      <td>13289.7</td>\n",
       "      <td>12118.2</td>\n",
       "      <td>13719.6</td>\n",
       "      <td>10012.6</td>\n",
       "      <td>15358.6</td>\n",
       "      <td>15116.6</td>\n",
       "      <td>18888.9</td>\n",
       "      <td>14170.3</td>\n",
       "    </tr>\n",
       "    <tr>\n",
       "      <th>T</th>\n",
       "      <td>17621.7</td>\n",
       "      <td>19470.5</td>\n",
       "      <td>NaN</td>\n",
       "      <td>15369.3</td>\n",
       "      <td>22495.0</td>\n",
       "      <td>22754.0</td>\n",
       "      <td>19413.0</td>\n",
       "      <td>19088.4</td>\n",
       "    </tr>\n",
       "    <tr>\n",
       "      <th>All</th>\n",
       "      <td>18572.9</td>\n",
       "      <td>18539.1</td>\n",
       "      <td>15047.8</td>\n",
       "      <td>14992.5</td>\n",
       "      <td>21285.1</td>\n",
       "      <td>20253.9</td>\n",
       "      <td>21891.6</td>\n",
       "      <td>18627.7</td>\n",
       "    </tr>\n",
       "  </tbody>\n",
       "</table>\n",
       "</div>"
      ],
      "text/plain": [
       "Day       Friday   Monday  Saturday   Sunday  Thursday  Tuesday  Wednesday  \\\n",
       "Weather                                                                      \n",
       "N        21373.1  22359.6   16141.6  16598.7   23145.4  23115.6    23835.2   \n",
       "R        13289.7  12118.2   13719.6  10012.6   15358.6  15116.6    18888.9   \n",
       "T        17621.7  19470.5       NaN  15369.3   22495.0  22754.0    19413.0   \n",
       "All      18572.9  18539.1   15047.8  14992.5   21285.1  20253.9    21891.6   \n",
       "\n",
       "Day          All  \n",
       "Weather           \n",
       "N        20926.2  \n",
       "R        14170.3  \n",
       "T        19088.4  \n",
       "All      18627.7  "
      ]
     },
     "execution_count": 70,
     "metadata": {},
     "output_type": "execute_result"
    }
   ],
   "source": [
    "# create a cross-tabulation to summary data on two-axes using pd.crosstab(index,colum,values,aggfunc). index and column are the two axes, values are array-like, aggregrated using the specific aggfunc\n",
    "pd.crosstab(NY_bicycle.Weather,NY_bicycle.Day,margins=True,values=NY_bicycle.Total, aggfunc='mean').round(1) #margins=True will provide the margins of the crosstabulation\n"
   ]
  },
  {
   "cell_type": "code",
   "execution_count": 71,
   "metadata": {
    "colab": {
     "base_uri": "https://localhost:8080/",
     "height": 0
    },
    "executionInfo": {
     "elapsed": 16,
     "status": "ok",
     "timestamp": 1695075448256,
     "user": {
      "displayName": "Ruwen Qin",
      "userId": "01885423067234457717"
     },
     "user_tz": 240
    },
    "id": "Hi3RvLFq5IrV",
    "outputId": "d0dabb1f-8072-41c1-e560-bfab788259bb"
   },
   "outputs": [
    {
     "data": {
      "text/html": [
       "<div>\n",
       "<style scoped>\n",
       "    .dataframe tbody tr th:only-of-type {\n",
       "        vertical-align: middle;\n",
       "    }\n",
       "\n",
       "    .dataframe tbody tr th {\n",
       "        vertical-align: top;\n",
       "    }\n",
       "\n",
       "    .dataframe thead tr th {\n",
       "        text-align: left;\n",
       "    }\n",
       "\n",
       "    .dataframe thead tr:last-of-type th {\n",
       "        text-align: right;\n",
       "    }\n",
       "</style>\n",
       "<table border=\"1\" class=\"dataframe\">\n",
       "  <thead>\n",
       "    <tr>\n",
       "      <th></th>\n",
       "      <th colspan=\"7\" halign=\"left\">Total</th>\n",
       "    </tr>\n",
       "    <tr>\n",
       "      <th>Day</th>\n",
       "      <th>Friday</th>\n",
       "      <th>Monday</th>\n",
       "      <th>Saturday</th>\n",
       "      <th>Sunday</th>\n",
       "      <th>Thursday</th>\n",
       "      <th>Tuesday</th>\n",
       "      <th>Wednesday</th>\n",
       "    </tr>\n",
       "    <tr>\n",
       "      <th>Weather</th>\n",
       "      <th></th>\n",
       "      <th></th>\n",
       "      <th></th>\n",
       "      <th></th>\n",
       "      <th></th>\n",
       "      <th></th>\n",
       "      <th></th>\n",
       "    </tr>\n",
       "  </thead>\n",
       "  <tbody>\n",
       "    <tr>\n",
       "      <th>N</th>\n",
       "      <td>21373.1</td>\n",
       "      <td>22359.6</td>\n",
       "      <td>16141.6</td>\n",
       "      <td>16598.7</td>\n",
       "      <td>23145.4</td>\n",
       "      <td>23115.6</td>\n",
       "      <td>23835.2</td>\n",
       "    </tr>\n",
       "    <tr>\n",
       "      <th>R</th>\n",
       "      <td>13289.7</td>\n",
       "      <td>12118.2</td>\n",
       "      <td>13719.6</td>\n",
       "      <td>10012.6</td>\n",
       "      <td>15358.6</td>\n",
       "      <td>15116.6</td>\n",
       "      <td>18888.9</td>\n",
       "    </tr>\n",
       "    <tr>\n",
       "      <th>T</th>\n",
       "      <td>17621.7</td>\n",
       "      <td>19470.5</td>\n",
       "      <td>NaN</td>\n",
       "      <td>15369.3</td>\n",
       "      <td>22495.0</td>\n",
       "      <td>22754.0</td>\n",
       "      <td>19413.0</td>\n",
       "    </tr>\n",
       "  </tbody>\n",
       "</table>\n",
       "</div>"
      ],
      "text/plain": [
       "           Total                                                       \n",
       "Day       Friday   Monday Saturday   Sunday Thursday  Tuesday Wednesday\n",
       "Weather                                                                \n",
       "N        21373.1  22359.6  16141.6  16598.7  23145.4  23115.6   23835.2\n",
       "R        13289.7  12118.2  13719.6  10012.6  15358.6  15116.6   18888.9\n",
       "T        17621.7  19470.5      NaN  15369.3  22495.0  22754.0   19413.0"
      ]
     },
     "execution_count": 71,
     "metadata": {},
     "output_type": "execute_result"
    }
   ],
   "source": [
    "# using pivot_table() is another way to generate cross tabulation\n",
    "pd.pivot_table(NY_bicycle, index=['Weather'],columns=['Day'],values=['Total'],aggfunc='mean').round(1)"
   ]
  },
  {
   "cell_type": "code",
   "execution_count": 72,
   "metadata": {
    "colab": {
     "base_uri": "https://localhost:8080/",
     "height": 258
    },
    "executionInfo": {
     "elapsed": 15,
     "status": "ok",
     "timestamp": 1695075448257,
     "user": {
      "displayName": "Ruwen Qin",
      "userId": "01885423067234457717"
     },
     "user_tz": 240
    },
    "id": "BDvzwRmqPjJE",
    "outputId": "cbc4d3f3-4c9b-4d21-de44-5232c4475c26"
   },
   "outputs": [
    {
     "data": {
      "text/html": [
       "<div>\n",
       "<style scoped>\n",
       "    .dataframe tbody tr th:only-of-type {\n",
       "        vertical-align: middle;\n",
       "    }\n",
       "\n",
       "    .dataframe tbody tr th {\n",
       "        vertical-align: top;\n",
       "    }\n",
       "\n",
       "    .dataframe thead tr th {\n",
       "        text-align: left;\n",
       "    }\n",
       "\n",
       "    .dataframe thead tr:last-of-type th {\n",
       "        text-align: right;\n",
       "    }\n",
       "</style>\n",
       "<table border=\"1\" class=\"dataframe\">\n",
       "  <thead>\n",
       "    <tr>\n",
       "      <th></th>\n",
       "      <th colspan=\"8\" halign=\"left\">Brooklyn_Bridge</th>\n",
       "      <th colspan=\"8\" halign=\"left\">Total</th>\n",
       "    </tr>\n",
       "    <tr>\n",
       "      <th>Day</th>\n",
       "      <th>Friday</th>\n",
       "      <th>Monday</th>\n",
       "      <th>Saturday</th>\n",
       "      <th>Sunday</th>\n",
       "      <th>Thursday</th>\n",
       "      <th>Tuesday</th>\n",
       "      <th>Wednesday</th>\n",
       "      <th>All</th>\n",
       "      <th>Friday</th>\n",
       "      <th>Monday</th>\n",
       "      <th>Saturday</th>\n",
       "      <th>Sunday</th>\n",
       "      <th>Thursday</th>\n",
       "      <th>Tuesday</th>\n",
       "      <th>Wednesday</th>\n",
       "      <th>All</th>\n",
       "    </tr>\n",
       "    <tr>\n",
       "      <th>Weather</th>\n",
       "      <th></th>\n",
       "      <th></th>\n",
       "      <th></th>\n",
       "      <th></th>\n",
       "      <th></th>\n",
       "      <th></th>\n",
       "      <th></th>\n",
       "      <th></th>\n",
       "      <th></th>\n",
       "      <th></th>\n",
       "      <th></th>\n",
       "      <th></th>\n",
       "      <th></th>\n",
       "      <th></th>\n",
       "      <th></th>\n",
       "      <th></th>\n",
       "    </tr>\n",
       "  </thead>\n",
       "  <tbody>\n",
       "    <tr>\n",
       "      <th>N</th>\n",
       "      <td>18.0</td>\n",
       "      <td>18.0</td>\n",
       "      <td>17.0</td>\n",
       "      <td>21.0</td>\n",
       "      <td>21.0</td>\n",
       "      <td>18.0</td>\n",
       "      <td>18.0</td>\n",
       "      <td>131</td>\n",
       "      <td>21373.1</td>\n",
       "      <td>22359.6</td>\n",
       "      <td>16141.6</td>\n",
       "      <td>16598.7</td>\n",
       "      <td>23145.4</td>\n",
       "      <td>23115.6</td>\n",
       "      <td>23835.2</td>\n",
       "      <td>20926.2</td>\n",
       "    </tr>\n",
       "    <tr>\n",
       "      <th>R</th>\n",
       "      <td>9.0</td>\n",
       "      <td>11.0</td>\n",
       "      <td>14.0</td>\n",
       "      <td>7.0</td>\n",
       "      <td>7.0</td>\n",
       "      <td>11.0</td>\n",
       "      <td>10.0</td>\n",
       "      <td>69</td>\n",
       "      <td>13289.7</td>\n",
       "      <td>12118.2</td>\n",
       "      <td>13719.6</td>\n",
       "      <td>10012.6</td>\n",
       "      <td>15358.6</td>\n",
       "      <td>15116.6</td>\n",
       "      <td>18888.9</td>\n",
       "      <td>14170.3</td>\n",
       "    </tr>\n",
       "    <tr>\n",
       "      <th>T</th>\n",
       "      <td>3.0</td>\n",
       "      <td>2.0</td>\n",
       "      <td>NaN</td>\n",
       "      <td>3.0</td>\n",
       "      <td>2.0</td>\n",
       "      <td>2.0</td>\n",
       "      <td>2.0</td>\n",
       "      <td>14</td>\n",
       "      <td>17621.7</td>\n",
       "      <td>19470.5</td>\n",
       "      <td>NaN</td>\n",
       "      <td>15369.3</td>\n",
       "      <td>22495.0</td>\n",
       "      <td>22754.0</td>\n",
       "      <td>19413.0</td>\n",
       "      <td>19088.4</td>\n",
       "    </tr>\n",
       "    <tr>\n",
       "      <th>All</th>\n",
       "      <td>30.0</td>\n",
       "      <td>31.0</td>\n",
       "      <td>31.0</td>\n",
       "      <td>31.0</td>\n",
       "      <td>30.0</td>\n",
       "      <td>31.0</td>\n",
       "      <td>30.0</td>\n",
       "      <td>214</td>\n",
       "      <td>18572.9</td>\n",
       "      <td>18539.1</td>\n",
       "      <td>15047.8</td>\n",
       "      <td>14992.5</td>\n",
       "      <td>21285.1</td>\n",
       "      <td>20253.9</td>\n",
       "      <td>21891.6</td>\n",
       "      <td>18627.7</td>\n",
       "    </tr>\n",
       "  </tbody>\n",
       "</table>\n",
       "</div>"
      ],
      "text/plain": [
       "        Brooklyn_Bridge                                                    \\\n",
       "Day              Friday Monday Saturday Sunday Thursday Tuesday Wednesday   \n",
       "Weather                                                                     \n",
       "N                  18.0   18.0     17.0   21.0     21.0    18.0      18.0   \n",
       "R                   9.0   11.0     14.0    7.0      7.0    11.0      10.0   \n",
       "T                   3.0    2.0      NaN    3.0      2.0     2.0       2.0   \n",
       "All                30.0   31.0     31.0   31.0     30.0    31.0      30.0   \n",
       "\n",
       "                Total                                                         \\\n",
       "Day      All   Friday   Monday Saturday   Sunday Thursday  Tuesday Wednesday   \n",
       "Weather                                                                        \n",
       "N        131  21373.1  22359.6  16141.6  16598.7  23145.4  23115.6   23835.2   \n",
       "R         69  13289.7  12118.2  13719.6  10012.6  15358.6  15116.6   18888.9   \n",
       "T         14  17621.7  19470.5      NaN  15369.3  22495.0  22754.0   19413.0   \n",
       "All      214  18572.9  18539.1  15047.8  14992.5  21285.1  20253.9   21891.6   \n",
       "\n",
       "                  \n",
       "Day          All  \n",
       "Weather           \n",
       "N        20926.2  \n",
       "R        14170.3  \n",
       "T        19088.4  \n",
       "All      18627.7  "
      ]
     },
     "execution_count": 72,
     "metadata": {},
     "output_type": "execute_result"
    }
   ],
   "source": [
    "# create crosstabulation using pd.pivot_table(data,index,columns,values, and aggfunc)\n",
    "pd.pivot_table(NY_bicycle,index=['Weather'],columns=['Day'],values=['Brooklyn_Bridge','Total'], aggfunc={'Brooklyn_Bridge':'count','Total':'mean'},margins=True).round(1)"
   ]
  },
  {
   "cell_type": "code",
   "execution_count": 73,
   "metadata": {
    "colab": {
     "base_uri": "https://localhost:8080/",
     "height": 0
    },
    "executionInfo": {
     "elapsed": 205,
     "status": "ok",
     "timestamp": 1695075448449,
     "user": {
      "displayName": "Ruwen Qin",
      "userId": "01885423067234457717"
     },
     "user_tz": 240
    },
    "id": "vIeC_PBGH623",
    "outputId": "ae4e7aa9-b06d-4c69-baea-82656957bb56"
   },
   "outputs": [
    {
     "data": {
      "text/html": [
       "<div>\n",
       "<style scoped>\n",
       "    .dataframe tbody tr th:only-of-type {\n",
       "        vertical-align: middle;\n",
       "    }\n",
       "\n",
       "    .dataframe tbody tr th {\n",
       "        vertical-align: top;\n",
       "    }\n",
       "\n",
       "    .dataframe thead tr th {\n",
       "        text-align: left;\n",
       "    }\n",
       "\n",
       "    .dataframe thead tr:last-of-type th {\n",
       "        text-align: right;\n",
       "    }\n",
       "</style>\n",
       "<table border=\"1\" class=\"dataframe\">\n",
       "  <thead>\n",
       "    <tr>\n",
       "      <th></th>\n",
       "      <th colspan=\"16\" halign=\"left\">mean</th>\n",
       "    </tr>\n",
       "    <tr>\n",
       "      <th></th>\n",
       "      <th colspan=\"8\" halign=\"left\">High_Temp_F</th>\n",
       "      <th colspan=\"8\" halign=\"left\">Low_Temp_F</th>\n",
       "    </tr>\n",
       "    <tr>\n",
       "      <th>Day</th>\n",
       "      <th>Friday</th>\n",
       "      <th>Monday</th>\n",
       "      <th>Saturday</th>\n",
       "      <th>Sunday</th>\n",
       "      <th>Thursday</th>\n",
       "      <th>Tuesday</th>\n",
       "      <th>Wednesday</th>\n",
       "      <th>All</th>\n",
       "      <th>Friday</th>\n",
       "      <th>Monday</th>\n",
       "      <th>Saturday</th>\n",
       "      <th>Sunday</th>\n",
       "      <th>Thursday</th>\n",
       "      <th>Tuesday</th>\n",
       "      <th>Wednesday</th>\n",
       "      <th>All</th>\n",
       "    </tr>\n",
       "    <tr>\n",
       "      <th>Weather</th>\n",
       "      <th></th>\n",
       "      <th></th>\n",
       "      <th></th>\n",
       "      <th></th>\n",
       "      <th></th>\n",
       "      <th></th>\n",
       "      <th></th>\n",
       "      <th></th>\n",
       "      <th></th>\n",
       "      <th></th>\n",
       "      <th></th>\n",
       "      <th></th>\n",
       "      <th></th>\n",
       "      <th></th>\n",
       "      <th></th>\n",
       "      <th></th>\n",
       "    </tr>\n",
       "  </thead>\n",
       "  <tbody>\n",
       "    <tr>\n",
       "      <th>N</th>\n",
       "      <td>75.2</td>\n",
       "      <td>77.6</td>\n",
       "      <td>73.7</td>\n",
       "      <td>76.3</td>\n",
       "      <td>76.2</td>\n",
       "      <td>74.6</td>\n",
       "      <td>77.5</td>\n",
       "      <td>75.9</td>\n",
       "      <td>61.2</td>\n",
       "      <td>63.4</td>\n",
       "      <td>60.4</td>\n",
       "      <td>61.5</td>\n",
       "      <td>63.7</td>\n",
       "      <td>61.4</td>\n",
       "      <td>63.5</td>\n",
       "      <td>62.2</td>\n",
       "    </tr>\n",
       "    <tr>\n",
       "      <th>R</th>\n",
       "      <td>72.7</td>\n",
       "      <td>68.6</td>\n",
       "      <td>72.5</td>\n",
       "      <td>68.0</td>\n",
       "      <td>68.5</td>\n",
       "      <td>68.9</td>\n",
       "      <td>74.8</td>\n",
       "      <td>70.8</td>\n",
       "      <td>63.1</td>\n",
       "      <td>59.9</td>\n",
       "      <td>62.0</td>\n",
       "      <td>60.2</td>\n",
       "      <td>58.6</td>\n",
       "      <td>61.8</td>\n",
       "      <td>61.8</td>\n",
       "      <td>61.2</td>\n",
       "    </tr>\n",
       "  </tbody>\n",
       "</table>\n",
       "</div>"
      ],
      "text/plain": [
       "               mean                                                          \\\n",
       "        High_Temp_F                                                           \n",
       "Day          Friday Monday Saturday Sunday Thursday Tuesday Wednesday   All   \n",
       "Weather                                                                       \n",
       "N              75.2   77.6     73.7   76.3     76.2    74.6      77.5  75.9   \n",
       "R              72.7   68.6     72.5   68.0     68.5    68.9      74.8  70.8   \n",
       "\n",
       "                                                                            \n",
       "        Low_Temp_F                                                          \n",
       "Day         Friday Monday Saturday Sunday Thursday Tuesday Wednesday   All  \n",
       "Weather                                                                     \n",
       "N             61.2   63.4     60.4   61.5     63.7    61.4      63.5  62.2  \n",
       "R             63.1   59.9     62.0   60.2     58.6    61.8      61.8  61.2  "
      ]
     },
     "execution_count": 73,
     "metadata": {},
     "output_type": "execute_result"
    }
   ],
   "source": [
    "df_gd = pd.pivot_table(NY_bicycle,index=['Weather'],columns=['Day'],values=['High_Temp_F','Low_Temp_F'],aggfunc=['mean'], margins=True).round(1)\n",
    "df_gd.query(\"Weather==['N','R']\") # query() retrieves a portion of dataframe with defined criterion\n"
   ]
  },
  {
   "cell_type": "code",
   "execution_count": 74,
   "metadata": {
    "colab": {
     "base_uri": "https://localhost:8080/",
     "height": 0
    },
    "executionInfo": {
     "elapsed": 16,
     "status": "ok",
     "timestamp": 1695075448450,
     "user": {
      "displayName": "Ruwen Qin",
      "userId": "01885423067234457717"
     },
     "user_tz": 240
    },
    "id": "PhOjVvJTLezv",
    "outputId": "d482ae66-b9b6-4777-a909-439da623bc48"
   },
   "outputs": [
    {
     "data": {
      "text/html": [
       "<div>\n",
       "<style scoped>\n",
       "    .dataframe tbody tr th:only-of-type {\n",
       "        vertical-align: middle;\n",
       "    }\n",
       "\n",
       "    .dataframe tbody tr th {\n",
       "        vertical-align: top;\n",
       "    }\n",
       "\n",
       "    .dataframe thead tr th {\n",
       "        text-align: left;\n",
       "    }\n",
       "\n",
       "    .dataframe thead tr:last-of-type th {\n",
       "        text-align: right;\n",
       "    }\n",
       "</style>\n",
       "<table border=\"1\" class=\"dataframe\">\n",
       "  <thead>\n",
       "    <tr>\n",
       "      <th></th>\n",
       "      <th></th>\n",
       "      <th colspan=\"2\" halign=\"left\">mean</th>\n",
       "    </tr>\n",
       "    <tr>\n",
       "      <th></th>\n",
       "      <th></th>\n",
       "      <th>High_Temp_F</th>\n",
       "      <th>Low_Temp_F</th>\n",
       "    </tr>\n",
       "    <tr>\n",
       "      <th>Weather</th>\n",
       "      <th>Day</th>\n",
       "      <th></th>\n",
       "      <th></th>\n",
       "    </tr>\n",
       "  </thead>\n",
       "  <tbody>\n",
       "    <tr>\n",
       "      <th rowspan=\"7\" valign=\"top\">N</th>\n",
       "      <th>Friday</th>\n",
       "      <td>75.2</td>\n",
       "      <td>61.2</td>\n",
       "    </tr>\n",
       "    <tr>\n",
       "      <th>Monday</th>\n",
       "      <td>77.6</td>\n",
       "      <td>63.4</td>\n",
       "    </tr>\n",
       "    <tr>\n",
       "      <th>Saturday</th>\n",
       "      <td>73.7</td>\n",
       "      <td>60.4</td>\n",
       "    </tr>\n",
       "    <tr>\n",
       "      <th>Sunday</th>\n",
       "      <td>76.3</td>\n",
       "      <td>61.5</td>\n",
       "    </tr>\n",
       "    <tr>\n",
       "      <th>Thursday</th>\n",
       "      <td>76.2</td>\n",
       "      <td>63.7</td>\n",
       "    </tr>\n",
       "    <tr>\n",
       "      <th>Tuesday</th>\n",
       "      <td>74.6</td>\n",
       "      <td>61.4</td>\n",
       "    </tr>\n",
       "    <tr>\n",
       "      <th>Wednesday</th>\n",
       "      <td>77.5</td>\n",
       "      <td>63.5</td>\n",
       "    </tr>\n",
       "    <tr>\n",
       "      <th rowspan=\"7\" valign=\"top\">R</th>\n",
       "      <th>Friday</th>\n",
       "      <td>72.7</td>\n",
       "      <td>63.1</td>\n",
       "    </tr>\n",
       "    <tr>\n",
       "      <th>Monday</th>\n",
       "      <td>68.6</td>\n",
       "      <td>59.9</td>\n",
       "    </tr>\n",
       "    <tr>\n",
       "      <th>Saturday</th>\n",
       "      <td>72.5</td>\n",
       "      <td>62.0</td>\n",
       "    </tr>\n",
       "    <tr>\n",
       "      <th>Sunday</th>\n",
       "      <td>68.0</td>\n",
       "      <td>60.2</td>\n",
       "    </tr>\n",
       "    <tr>\n",
       "      <th>Thursday</th>\n",
       "      <td>68.5</td>\n",
       "      <td>58.6</td>\n",
       "    </tr>\n",
       "    <tr>\n",
       "      <th>Tuesday</th>\n",
       "      <td>68.9</td>\n",
       "      <td>61.8</td>\n",
       "    </tr>\n",
       "    <tr>\n",
       "      <th>Wednesday</th>\n",
       "      <td>74.8</td>\n",
       "      <td>61.8</td>\n",
       "    </tr>\n",
       "  </tbody>\n",
       "</table>\n",
       "</div>"
      ],
      "text/plain": [
       "                         mean           \n",
       "                  High_Temp_F Low_Temp_F\n",
       "Weather Day                             \n",
       "N       Friday           75.2       61.2\n",
       "        Monday           77.6       63.4\n",
       "        Saturday         73.7       60.4\n",
       "        Sunday           76.3       61.5\n",
       "        Thursday         76.2       63.7\n",
       "        Tuesday          74.6       61.4\n",
       "        Wednesday        77.5       63.5\n",
       "R       Friday           72.7       63.1\n",
       "        Monday           68.6       59.9\n",
       "        Saturday         72.5       62.0\n",
       "        Sunday           68.0       60.2\n",
       "        Thursday         68.5       58.6\n",
       "        Tuesday          68.9       61.8\n",
       "        Wednesday        74.8       61.8"
      ]
     },
     "execution_count": 74,
     "metadata": {},
     "output_type": "execute_result"
    }
   ],
   "source": [
    "df_gd = pd.pivot_table(NY_bicycle,index=['Weather','Day'],values=['High_Temp_F','Low_Temp_F'],aggfunc=['mean'], margins=True).round(1)\n",
    "df_gd.query(\"Weather==['N','R']\") # using query() function to extract part of the summary table"
   ]
  },
  {
   "cell_type": "code",
   "execution_count": 75,
   "metadata": {
    "colab": {
     "base_uri": "https://localhost:8080/",
     "height": 175
    },
    "executionInfo": {
     "elapsed": 151,
     "status": "ok",
     "timestamp": 1695075448587,
     "user": {
      "displayName": "Ruwen Qin",
      "userId": "01885423067234457717"
     },
     "user_tz": 240
    },
    "id": "c4ziEaL-9_Tn",
    "outputId": "f57343a0-00e5-4de4-9948-9f9b9069c8a7"
   },
   "outputs": [
    {
     "data": {
      "text/html": [
       "<div>\n",
       "<style scoped>\n",
       "    .dataframe tbody tr th:only-of-type {\n",
       "        vertical-align: middle;\n",
       "    }\n",
       "\n",
       "    .dataframe tbody tr th {\n",
       "        vertical-align: top;\n",
       "    }\n",
       "\n",
       "    .dataframe thead tr th {\n",
       "        text-align: left;\n",
       "    }\n",
       "\n",
       "    .dataframe thead tr:last-of-type th {\n",
       "        text-align: right;\n",
       "    }\n",
       "</style>\n",
       "<table border=\"1\" class=\"dataframe\">\n",
       "  <thead>\n",
       "    <tr>\n",
       "      <th></th>\n",
       "      <th></th>\n",
       "      <th colspan=\"2\" halign=\"left\">mean</th>\n",
       "    </tr>\n",
       "    <tr>\n",
       "      <th></th>\n",
       "      <th></th>\n",
       "      <th>High_Temp_F</th>\n",
       "      <th>Low_Temp_F</th>\n",
       "    </tr>\n",
       "    <tr>\n",
       "      <th>Weather</th>\n",
       "      <th>Day</th>\n",
       "      <th></th>\n",
       "      <th></th>\n",
       "    </tr>\n",
       "  </thead>\n",
       "  <tbody>\n",
       "    <tr>\n",
       "      <th>N</th>\n",
       "      <th>Friday</th>\n",
       "      <td>75.2</td>\n",
       "      <td>61.2</td>\n",
       "    </tr>\n",
       "    <tr>\n",
       "      <th>R</th>\n",
       "      <th>Friday</th>\n",
       "      <td>72.7</td>\n",
       "      <td>63.1</td>\n",
       "    </tr>\n",
       "  </tbody>\n",
       "</table>\n",
       "</div>"
      ],
      "text/plain": [
       "                      mean           \n",
       "               High_Temp_F Low_Temp_F\n",
       "Weather Day                          \n",
       "N       Friday        75.2       61.2\n",
       "R       Friday        72.7       63.1"
      ]
     },
     "execution_count": 75,
     "metadata": {},
     "output_type": "execute_result"
    }
   ],
   "source": [
    "df_gd = pd.pivot_table(NY_bicycle,index=['Weather','Day'],values=['High_Temp_F','Low_Temp_F'],aggfunc=['mean'], margins=True).round(1)\n",
    "df_gd.query(\"Weather==['N','R'] & Day =='Friday'\")"
   ]
  },
  {
   "cell_type": "markdown",
   "metadata": {
    "id": "hIrneAew33qJ"
   },
   "source": [
    "# Table Conditional Coloring"
   ]
  },
  {
   "cell_type": "markdown",
   "metadata": {
    "id": "eLddoiOdJhPi"
   },
   "source": [
    "## Color Scale"
   ]
  },
  {
   "cell_type": "code",
   "execution_count": 76,
   "metadata": {
    "colab": {
     "base_uri": "https://localhost:8080/",
     "height": 1000
    },
    "executionInfo": {
     "elapsed": 16,
     "status": "ok",
     "timestamp": 1695075475546,
     "user": {
      "displayName": "Ruwen Qin",
      "userId": "01885423067234457717"
     },
     "user_tz": 240
    },
    "id": "xeF-6GSV39S7",
    "outputId": "a4a0be8f-e5d6-49ff-fcc4-61df086d80f6"
   },
   "outputs": [
    {
     "ename": "TypeError",
     "evalue": "Could not convert 10-Apr1-May8-May15-May12-Jun26-Jun10-Jul17-Jul31-Jul14-Aug21-Aug28-Aug4-Sep11-Sep18-Sep25-Sep2-Oct23-Oct to numeric",
     "output_type": "error",
     "traceback": [
      "\u001b[0;31m---------------------------------------------------------------------------\u001b[0m",
      "\u001b[0;31mNotImplementedError\u001b[0m                       Traceback (most recent call last)",
      "\u001b[0;32m~/.local/lib/python3.8/site-packages/pandas/core/groupby/groupby.py\u001b[0m in \u001b[0;36marray_func\u001b[0;34m(values)\u001b[0m\n\u001b[1;32m   1489\u001b[0m             \u001b[0;32mtry\u001b[0m\u001b[0;34m:\u001b[0m\u001b[0;34m\u001b[0m\u001b[0;34m\u001b[0m\u001b[0m\n\u001b[0;32m-> 1490\u001b[0;31m                 result = self.grouper._cython_operation(\n\u001b[0m\u001b[1;32m   1491\u001b[0m                     \u001b[0;34m\"aggregate\"\u001b[0m\u001b[0;34m,\u001b[0m\u001b[0;34m\u001b[0m\u001b[0;34m\u001b[0m\u001b[0m\n",
      "\u001b[0;32m~/.local/lib/python3.8/site-packages/pandas/core/groupby/ops.py\u001b[0m in \u001b[0;36m_cython_operation\u001b[0;34m(self, kind, values, how, axis, min_count, **kwargs)\u001b[0m\n\u001b[1;32m    958\u001b[0m         \u001b[0mngroups\u001b[0m \u001b[0;34m=\u001b[0m \u001b[0mself\u001b[0m\u001b[0;34m.\u001b[0m\u001b[0mngroups\u001b[0m\u001b[0;34m\u001b[0m\u001b[0;34m\u001b[0m\u001b[0m\n\u001b[0;32m--> 959\u001b[0;31m         return cy_op.cython_operation(\n\u001b[0m\u001b[1;32m    960\u001b[0m             \u001b[0mvalues\u001b[0m\u001b[0;34m=\u001b[0m\u001b[0mvalues\u001b[0m\u001b[0;34m,\u001b[0m\u001b[0;34m\u001b[0m\u001b[0;34m\u001b[0m\u001b[0m\n",
      "\u001b[0;32m~/.local/lib/python3.8/site-packages/pandas/core/groupby/ops.py\u001b[0m in \u001b[0;36mcython_operation\u001b[0;34m(self, values, axis, min_count, comp_ids, ngroups, **kwargs)\u001b[0m\n\u001b[1;32m    656\u001b[0m \u001b[0;34m\u001b[0m\u001b[0m\n\u001b[0;32m--> 657\u001b[0;31m         return self._cython_op_ndim_compat(\n\u001b[0m\u001b[1;32m    658\u001b[0m             \u001b[0mvalues\u001b[0m\u001b[0;34m,\u001b[0m\u001b[0;34m\u001b[0m\u001b[0;34m\u001b[0m\u001b[0m\n",
      "\u001b[0;32m~/.local/lib/python3.8/site-packages/pandas/core/groupby/ops.py\u001b[0m in \u001b[0;36m_cython_op_ndim_compat\u001b[0;34m(self, values, min_count, ngroups, comp_ids, mask, result_mask, **kwargs)\u001b[0m\n\u001b[1;32m    496\u001b[0m \u001b[0;34m\u001b[0m\u001b[0m\n\u001b[0;32m--> 497\u001b[0;31m         return self._call_cython_op(\n\u001b[0m\u001b[1;32m    498\u001b[0m             \u001b[0mvalues\u001b[0m\u001b[0;34m,\u001b[0m\u001b[0;34m\u001b[0m\u001b[0;34m\u001b[0m\u001b[0m\n",
      "\u001b[0;32m~/.local/lib/python3.8/site-packages/pandas/core/groupby/ops.py\u001b[0m in \u001b[0;36m_call_cython_op\u001b[0;34m(self, values, min_count, ngroups, comp_ids, mask, result_mask, **kwargs)\u001b[0m\n\u001b[1;32m    540\u001b[0m         \u001b[0mout_shape\u001b[0m \u001b[0;34m=\u001b[0m \u001b[0mself\u001b[0m\u001b[0;34m.\u001b[0m\u001b[0m_get_output_shape\u001b[0m\u001b[0;34m(\u001b[0m\u001b[0mngroups\u001b[0m\u001b[0;34m,\u001b[0m \u001b[0mvalues\u001b[0m\u001b[0;34m)\u001b[0m\u001b[0;34m\u001b[0m\u001b[0;34m\u001b[0m\u001b[0m\n\u001b[0;32m--> 541\u001b[0;31m         \u001b[0mfunc\u001b[0m \u001b[0;34m=\u001b[0m \u001b[0mself\u001b[0m\u001b[0;34m.\u001b[0m\u001b[0m_get_cython_function\u001b[0m\u001b[0;34m(\u001b[0m\u001b[0mself\u001b[0m\u001b[0;34m.\u001b[0m\u001b[0mkind\u001b[0m\u001b[0;34m,\u001b[0m \u001b[0mself\u001b[0m\u001b[0;34m.\u001b[0m\u001b[0mhow\u001b[0m\u001b[0;34m,\u001b[0m \u001b[0mvalues\u001b[0m\u001b[0;34m.\u001b[0m\u001b[0mdtype\u001b[0m\u001b[0;34m,\u001b[0m \u001b[0mis_numeric\u001b[0m\u001b[0;34m)\u001b[0m\u001b[0;34m\u001b[0m\u001b[0;34m\u001b[0m\u001b[0m\n\u001b[0m\u001b[1;32m    542\u001b[0m         \u001b[0mvalues\u001b[0m \u001b[0;34m=\u001b[0m \u001b[0mself\u001b[0m\u001b[0;34m.\u001b[0m\u001b[0m_get_cython_vals\u001b[0m\u001b[0;34m(\u001b[0m\u001b[0mvalues\u001b[0m\u001b[0;34m)\u001b[0m\u001b[0;34m\u001b[0m\u001b[0;34m\u001b[0m\u001b[0m\n",
      "\u001b[0;32m~/.local/lib/python3.8/site-packages/pandas/core/groupby/ops.py\u001b[0m in \u001b[0;36m_get_cython_function\u001b[0;34m(cls, kind, how, dtype, is_numeric)\u001b[0m\n\u001b[1;32m    172\u001b[0m                 \u001b[0;31m# raise NotImplementedError here rather than TypeError later\u001b[0m\u001b[0;34m\u001b[0m\u001b[0;34m\u001b[0m\u001b[0;34m\u001b[0m\u001b[0m\n\u001b[0;32m--> 173\u001b[0;31m                 raise NotImplementedError(\n\u001b[0m\u001b[1;32m    174\u001b[0m                     \u001b[0;34mf\"function is not implemented for this dtype: \"\u001b[0m\u001b[0;34m\u001b[0m\u001b[0;34m\u001b[0m\u001b[0m\n",
      "\u001b[0;31mNotImplementedError\u001b[0m: function is not implemented for this dtype: [how->mean,dtype->object]",
      "\nDuring handling of the above exception, another exception occurred:\n",
      "\u001b[0;31mValueError\u001b[0m                                Traceback (most recent call last)",
      "\u001b[0;32m~/.local/lib/python3.8/site-packages/pandas/core/nanops.py\u001b[0m in \u001b[0;36m_ensure_numeric\u001b[0;34m(x)\u001b[0m\n\u001b[1;32m   1691\u001b[0m         \u001b[0;32mtry\u001b[0m\u001b[0;34m:\u001b[0m\u001b[0;34m\u001b[0m\u001b[0;34m\u001b[0m\u001b[0m\n\u001b[0;32m-> 1692\u001b[0;31m             \u001b[0mx\u001b[0m \u001b[0;34m=\u001b[0m \u001b[0mfloat\u001b[0m\u001b[0;34m(\u001b[0m\u001b[0mx\u001b[0m\u001b[0;34m)\u001b[0m\u001b[0;34m\u001b[0m\u001b[0;34m\u001b[0m\u001b[0m\n\u001b[0m\u001b[1;32m   1693\u001b[0m         \u001b[0;32mexcept\u001b[0m \u001b[0;34m(\u001b[0m\u001b[0mTypeError\u001b[0m\u001b[0;34m,\u001b[0m \u001b[0mValueError\u001b[0m\u001b[0;34m)\u001b[0m\u001b[0;34m:\u001b[0m\u001b[0;34m\u001b[0m\u001b[0;34m\u001b[0m\u001b[0m\n",
      "\u001b[0;31mValueError\u001b[0m: could not convert string to float: '10-Apr1-May8-May15-May12-Jun26-Jun10-Jul17-Jul31-Jul14-Aug21-Aug28-Aug4-Sep11-Sep18-Sep25-Sep2-Oct23-Oct'",
      "\nDuring handling of the above exception, another exception occurred:\n",
      "\u001b[0;31mValueError\u001b[0m                                Traceback (most recent call last)",
      "\u001b[0;32m~/.local/lib/python3.8/site-packages/pandas/core/nanops.py\u001b[0m in \u001b[0;36m_ensure_numeric\u001b[0;34m(x)\u001b[0m\n\u001b[1;32m   1695\u001b[0m             \u001b[0;32mtry\u001b[0m\u001b[0;34m:\u001b[0m\u001b[0;34m\u001b[0m\u001b[0;34m\u001b[0m\u001b[0m\n\u001b[0;32m-> 1696\u001b[0;31m                 \u001b[0mx\u001b[0m \u001b[0;34m=\u001b[0m \u001b[0mcomplex\u001b[0m\u001b[0;34m(\u001b[0m\u001b[0mx\u001b[0m\u001b[0;34m)\u001b[0m\u001b[0;34m\u001b[0m\u001b[0;34m\u001b[0m\u001b[0m\n\u001b[0m\u001b[1;32m   1697\u001b[0m             \u001b[0;32mexcept\u001b[0m \u001b[0mValueError\u001b[0m \u001b[0;32mas\u001b[0m \u001b[0merr\u001b[0m\u001b[0;34m:\u001b[0m\u001b[0;34m\u001b[0m\u001b[0;34m\u001b[0m\u001b[0m\n",
      "\u001b[0;31mValueError\u001b[0m: complex() arg is a malformed string",
      "\nThe above exception was the direct cause of the following exception:\n",
      "\u001b[0;31mTypeError\u001b[0m                                 Traceback (most recent call last)",
      "\u001b[0;32m<ipython-input-76-4392e290b0ee>\u001b[0m in \u001b[0;36m<module>\u001b[0;34m\u001b[0m\n\u001b[1;32m      5\u001b[0m \u001b[0mdf\u001b[0m \u001b[0;34m=\u001b[0m \u001b[0mNY_bicycle\u001b[0m\u001b[0;34m\u001b[0m\u001b[0;34m\u001b[0m\u001b[0m\n\u001b[1;32m      6\u001b[0m \u001b[0mdf\u001b[0m\u001b[0;34m[\u001b[0m\u001b[0;34m'WkDay'\u001b[0m\u001b[0;34m]\u001b[0m\u001b[0;34m=\u001b[0m\u001b[0;34m[\u001b[0m\u001b[0mtime\u001b[0m\u001b[0;34m.\u001b[0m\u001b[0mstrptime\u001b[0m\u001b[0;34m(\u001b[0m\u001b[0mi\u001b[0m\u001b[0;34m,\u001b[0m \u001b[0;34m'%A'\u001b[0m\u001b[0;34m)\u001b[0m\u001b[0;34m.\u001b[0m\u001b[0mtm_wday\u001b[0m \u001b[0;32mfor\u001b[0m \u001b[0mi\u001b[0m \u001b[0;32min\u001b[0m \u001b[0mNY_bicycle\u001b[0m\u001b[0;34m.\u001b[0m\u001b[0mDay\u001b[0m\u001b[0;34m]\u001b[0m \u001b[0;31m# add a new column that presents the numerical value of week days\u001b[0m\u001b[0;34m\u001b[0m\u001b[0;34m\u001b[0m\u001b[0m\n\u001b[0;32m----> 7\u001b[0;31m \u001b[0mdf_sort\u001b[0m \u001b[0;34m=\u001b[0m \u001b[0mdf\u001b[0m\u001b[0;34m.\u001b[0m\u001b[0mgroupby\u001b[0m\u001b[0;34m(\u001b[0m\u001b[0;34m[\u001b[0m\u001b[0;34m'WkDay'\u001b[0m\u001b[0;34m,\u001b[0m\u001b[0;34m'Day'\u001b[0m\u001b[0;34m,\u001b[0m\u001b[0;34m'Weather'\u001b[0m\u001b[0;34m]\u001b[0m\u001b[0;34m)\u001b[0m\u001b[0;34m.\u001b[0m\u001b[0mmean\u001b[0m\u001b[0;34m(\u001b[0m\u001b[0;34m)\u001b[0m\u001b[0;34m.\u001b[0m\u001b[0miloc\u001b[0m\u001b[0;34m[\u001b[0m\u001b[0;34m:\u001b[0m\u001b[0;34m,\u001b[0m\u001b[0mrange\u001b[0m\u001b[0;34m(\u001b[0m\u001b[0;36m3\u001b[0m\u001b[0;34m,\u001b[0m\u001b[0;36m7\u001b[0m\u001b[0;34m)\u001b[0m\u001b[0;34m]\u001b[0m \u001b[0;31m#group data at four bridges by WkDay, Day, and Weather, and then calcualte the mean value for each group\u001b[0m\u001b[0;34m\u001b[0m\u001b[0;34m\u001b[0m\u001b[0m\n\u001b[0m\u001b[1;32m      8\u001b[0m \u001b[0mdf_sort\u001b[0m\u001b[0;34m.\u001b[0m\u001b[0mindex\u001b[0m \u001b[0;34m=\u001b[0m\u001b[0mdf_sort\u001b[0m\u001b[0;34m.\u001b[0m\u001b[0mindex\u001b[0m\u001b[0;34m.\u001b[0m\u001b[0mdroplevel\u001b[0m\u001b[0;34m(\u001b[0m\u001b[0;36m0\u001b[0m\u001b[0;34m)\u001b[0m \u001b[0;31m# drop the first index \"Wkday\"\u001b[0m\u001b[0;34m\u001b[0m\u001b[0;34m\u001b[0m\u001b[0m\n\u001b[1;32m      9\u001b[0m \u001b[0mprint\u001b[0m\u001b[0;34m(\u001b[0m\u001b[0mdf_sort\u001b[0m\u001b[0;34m.\u001b[0m\u001b[0mround\u001b[0m\u001b[0;34m(\u001b[0m\u001b[0;36m1\u001b[0m\u001b[0;34m)\u001b[0m\u001b[0;34m)\u001b[0m \u001b[0;31m# take a look at the data we prepared\u001b[0m\u001b[0;34m\u001b[0m\u001b[0;34m\u001b[0m\u001b[0m\n",
      "\u001b[0;32m~/.local/lib/python3.8/site-packages/pandas/core/groupby/groupby.py\u001b[0m in \u001b[0;36mmean\u001b[0;34m(self, numeric_only, engine, engine_kwargs)\u001b[0m\n\u001b[1;32m   1853\u001b[0m             \u001b[0;32mreturn\u001b[0m \u001b[0mself\u001b[0m\u001b[0;34m.\u001b[0m\u001b[0m_numba_agg_general\u001b[0m\u001b[0;34m(\u001b[0m\u001b[0msliding_mean\u001b[0m\u001b[0;34m,\u001b[0m \u001b[0mengine_kwargs\u001b[0m\u001b[0;34m)\u001b[0m\u001b[0;34m\u001b[0m\u001b[0;34m\u001b[0m\u001b[0m\n\u001b[1;32m   1854\u001b[0m         \u001b[0;32melse\u001b[0m\u001b[0;34m:\u001b[0m\u001b[0;34m\u001b[0m\u001b[0;34m\u001b[0m\u001b[0m\n\u001b[0;32m-> 1855\u001b[0;31m             result = self._cython_agg_general(\n\u001b[0m\u001b[1;32m   1856\u001b[0m                 \u001b[0;34m\"mean\"\u001b[0m\u001b[0;34m,\u001b[0m\u001b[0;34m\u001b[0m\u001b[0;34m\u001b[0m\u001b[0m\n\u001b[1;32m   1857\u001b[0m                 \u001b[0malt\u001b[0m\u001b[0;34m=\u001b[0m\u001b[0;32mlambda\u001b[0m \u001b[0mx\u001b[0m\u001b[0;34m:\u001b[0m \u001b[0mSeries\u001b[0m\u001b[0;34m(\u001b[0m\u001b[0mx\u001b[0m\u001b[0;34m)\u001b[0m\u001b[0;34m.\u001b[0m\u001b[0mmean\u001b[0m\u001b[0;34m(\u001b[0m\u001b[0mnumeric_only\u001b[0m\u001b[0;34m=\u001b[0m\u001b[0mnumeric_only\u001b[0m\u001b[0;34m)\u001b[0m\u001b[0;34m,\u001b[0m\u001b[0;34m\u001b[0m\u001b[0;34m\u001b[0m\u001b[0m\n",
      "\u001b[0;32m~/.local/lib/python3.8/site-packages/pandas/core/groupby/groupby.py\u001b[0m in \u001b[0;36m_cython_agg_general\u001b[0;34m(self, how, alt, numeric_only, min_count, **kwargs)\u001b[0m\n\u001b[1;32m   1505\u001b[0m             \u001b[0;32mreturn\u001b[0m \u001b[0mresult\u001b[0m\u001b[0;34m\u001b[0m\u001b[0;34m\u001b[0m\u001b[0m\n\u001b[1;32m   1506\u001b[0m \u001b[0;34m\u001b[0m\u001b[0m\n\u001b[0;32m-> 1507\u001b[0;31m         \u001b[0mnew_mgr\u001b[0m \u001b[0;34m=\u001b[0m \u001b[0mdata\u001b[0m\u001b[0;34m.\u001b[0m\u001b[0mgrouped_reduce\u001b[0m\u001b[0;34m(\u001b[0m\u001b[0marray_func\u001b[0m\u001b[0;34m)\u001b[0m\u001b[0;34m\u001b[0m\u001b[0;34m\u001b[0m\u001b[0m\n\u001b[0m\u001b[1;32m   1508\u001b[0m         \u001b[0mres\u001b[0m \u001b[0;34m=\u001b[0m \u001b[0mself\u001b[0m\u001b[0;34m.\u001b[0m\u001b[0m_wrap_agged_manager\u001b[0m\u001b[0;34m(\u001b[0m\u001b[0mnew_mgr\u001b[0m\u001b[0;34m)\u001b[0m\u001b[0;34m\u001b[0m\u001b[0;34m\u001b[0m\u001b[0m\n\u001b[1;32m   1509\u001b[0m         \u001b[0mout\u001b[0m \u001b[0;34m=\u001b[0m \u001b[0mself\u001b[0m\u001b[0;34m.\u001b[0m\u001b[0m_wrap_aggregated_output\u001b[0m\u001b[0;34m(\u001b[0m\u001b[0mres\u001b[0m\u001b[0;34m)\u001b[0m\u001b[0;34m\u001b[0m\u001b[0;34m\u001b[0m\u001b[0m\n",
      "\u001b[0;32m~/.local/lib/python3.8/site-packages/pandas/core/internals/managers.py\u001b[0m in \u001b[0;36mgrouped_reduce\u001b[0;34m(self, func)\u001b[0m\n\u001b[1;32m   1501\u001b[0m                 \u001b[0;31m#  while others do not.\u001b[0m\u001b[0;34m\u001b[0m\u001b[0;34m\u001b[0m\u001b[0;34m\u001b[0m\u001b[0m\n\u001b[1;32m   1502\u001b[0m                 \u001b[0;32mfor\u001b[0m \u001b[0msb\u001b[0m \u001b[0;32min\u001b[0m \u001b[0mblk\u001b[0m\u001b[0;34m.\u001b[0m\u001b[0m_split\u001b[0m\u001b[0;34m(\u001b[0m\u001b[0;34m)\u001b[0m\u001b[0;34m:\u001b[0m\u001b[0;34m\u001b[0m\u001b[0;34m\u001b[0m\u001b[0m\n\u001b[0;32m-> 1503\u001b[0;31m                     \u001b[0mapplied\u001b[0m \u001b[0;34m=\u001b[0m \u001b[0msb\u001b[0m\u001b[0;34m.\u001b[0m\u001b[0mapply\u001b[0m\u001b[0;34m(\u001b[0m\u001b[0mfunc\u001b[0m\u001b[0;34m)\u001b[0m\u001b[0;34m\u001b[0m\u001b[0;34m\u001b[0m\u001b[0m\n\u001b[0m\u001b[1;32m   1504\u001b[0m                     \u001b[0mresult_blocks\u001b[0m \u001b[0;34m=\u001b[0m \u001b[0mextend_blocks\u001b[0m\u001b[0;34m(\u001b[0m\u001b[0mapplied\u001b[0m\u001b[0;34m,\u001b[0m \u001b[0mresult_blocks\u001b[0m\u001b[0;34m)\u001b[0m\u001b[0;34m\u001b[0m\u001b[0;34m\u001b[0m\u001b[0m\n\u001b[1;32m   1505\u001b[0m             \u001b[0;32melse\u001b[0m\u001b[0;34m:\u001b[0m\u001b[0;34m\u001b[0m\u001b[0;34m\u001b[0m\u001b[0m\n",
      "\u001b[0;32m~/.local/lib/python3.8/site-packages/pandas/core/internals/blocks.py\u001b[0m in \u001b[0;36mapply\u001b[0;34m(self, func, **kwargs)\u001b[0m\n\u001b[1;32m    327\u001b[0m         \u001b[0mone\u001b[0m\u001b[0;34m\u001b[0m\u001b[0;34m\u001b[0m\u001b[0m\n\u001b[1;32m    328\u001b[0m         \"\"\"\n\u001b[0;32m--> 329\u001b[0;31m         \u001b[0mresult\u001b[0m \u001b[0;34m=\u001b[0m \u001b[0mfunc\u001b[0m\u001b[0;34m(\u001b[0m\u001b[0mself\u001b[0m\u001b[0;34m.\u001b[0m\u001b[0mvalues\u001b[0m\u001b[0;34m,\u001b[0m \u001b[0;34m**\u001b[0m\u001b[0mkwargs\u001b[0m\u001b[0;34m)\u001b[0m\u001b[0;34m\u001b[0m\u001b[0;34m\u001b[0m\u001b[0m\n\u001b[0m\u001b[1;32m    330\u001b[0m \u001b[0;34m\u001b[0m\u001b[0m\n\u001b[1;32m    331\u001b[0m         \u001b[0;32mreturn\u001b[0m \u001b[0mself\u001b[0m\u001b[0;34m.\u001b[0m\u001b[0m_split_op_result\u001b[0m\u001b[0;34m(\u001b[0m\u001b[0mresult\u001b[0m\u001b[0;34m)\u001b[0m\u001b[0;34m\u001b[0m\u001b[0;34m\u001b[0m\u001b[0m\n",
      "\u001b[0;32m~/.local/lib/python3.8/site-packages/pandas/core/groupby/groupby.py\u001b[0m in \u001b[0;36marray_func\u001b[0;34m(values)\u001b[0m\n\u001b[1;32m   1501\u001b[0m                 \u001b[0;31m# try to python agg\u001b[0m\u001b[0;34m\u001b[0m\u001b[0;34m\u001b[0m\u001b[0;34m\u001b[0m\u001b[0m\n\u001b[1;32m   1502\u001b[0m                 \u001b[0;31m# TODO: shouldn't min_count matter?\u001b[0m\u001b[0;34m\u001b[0m\u001b[0;34m\u001b[0m\u001b[0;34m\u001b[0m\u001b[0m\n\u001b[0;32m-> 1503\u001b[0;31m                 \u001b[0mresult\u001b[0m \u001b[0;34m=\u001b[0m \u001b[0mself\u001b[0m\u001b[0;34m.\u001b[0m\u001b[0m_agg_py_fallback\u001b[0m\u001b[0;34m(\u001b[0m\u001b[0mvalues\u001b[0m\u001b[0;34m,\u001b[0m \u001b[0mndim\u001b[0m\u001b[0;34m=\u001b[0m\u001b[0mdata\u001b[0m\u001b[0;34m.\u001b[0m\u001b[0mndim\u001b[0m\u001b[0;34m,\u001b[0m \u001b[0malt\u001b[0m\u001b[0;34m=\u001b[0m\u001b[0malt\u001b[0m\u001b[0;34m)\u001b[0m\u001b[0;34m\u001b[0m\u001b[0;34m\u001b[0m\u001b[0m\n\u001b[0m\u001b[1;32m   1504\u001b[0m \u001b[0;34m\u001b[0m\u001b[0m\n\u001b[1;32m   1505\u001b[0m             \u001b[0;32mreturn\u001b[0m \u001b[0mresult\u001b[0m\u001b[0;34m\u001b[0m\u001b[0;34m\u001b[0m\u001b[0m\n",
      "\u001b[0;32m~/.local/lib/python3.8/site-packages/pandas/core/groupby/groupby.py\u001b[0m in \u001b[0;36m_agg_py_fallback\u001b[0;34m(self, values, ndim, alt)\u001b[0m\n\u001b[1;32m   1455\u001b[0m         \u001b[0;31m#  should always be preserved by the implemented aggregations\u001b[0m\u001b[0;34m\u001b[0m\u001b[0;34m\u001b[0m\u001b[0;34m\u001b[0m\u001b[0m\n\u001b[1;32m   1456\u001b[0m         \u001b[0;31m# TODO: Is this exactly right; see WrappedCythonOp get_result_dtype?\u001b[0m\u001b[0;34m\u001b[0m\u001b[0;34m\u001b[0m\u001b[0;34m\u001b[0m\u001b[0m\n\u001b[0;32m-> 1457\u001b[0;31m         \u001b[0mres_values\u001b[0m \u001b[0;34m=\u001b[0m \u001b[0mself\u001b[0m\u001b[0;34m.\u001b[0m\u001b[0mgrouper\u001b[0m\u001b[0;34m.\u001b[0m\u001b[0magg_series\u001b[0m\u001b[0;34m(\u001b[0m\u001b[0mser\u001b[0m\u001b[0;34m,\u001b[0m \u001b[0malt\u001b[0m\u001b[0;34m,\u001b[0m \u001b[0mpreserve_dtype\u001b[0m\u001b[0;34m=\u001b[0m\u001b[0;32mTrue\u001b[0m\u001b[0;34m)\u001b[0m\u001b[0;34m\u001b[0m\u001b[0;34m\u001b[0m\u001b[0m\n\u001b[0m\u001b[1;32m   1458\u001b[0m \u001b[0;34m\u001b[0m\u001b[0m\n\u001b[1;32m   1459\u001b[0m         \u001b[0;32mif\u001b[0m \u001b[0misinstance\u001b[0m\u001b[0;34m(\u001b[0m\u001b[0mvalues\u001b[0m\u001b[0;34m,\u001b[0m \u001b[0mCategorical\u001b[0m\u001b[0;34m)\u001b[0m\u001b[0;34m:\u001b[0m\u001b[0;34m\u001b[0m\u001b[0;34m\u001b[0m\u001b[0m\n",
      "\u001b[0;32m~/.local/lib/python3.8/site-packages/pandas/core/groupby/ops.py\u001b[0m in \u001b[0;36magg_series\u001b[0;34m(self, obj, func, preserve_dtype)\u001b[0m\n\u001b[1;32m    992\u001b[0m             \u001b[0mpreserve_dtype\u001b[0m \u001b[0;34m=\u001b[0m \u001b[0;32mTrue\u001b[0m\u001b[0;34m\u001b[0m\u001b[0;34m\u001b[0m\u001b[0m\n\u001b[1;32m    993\u001b[0m \u001b[0;34m\u001b[0m\u001b[0m\n\u001b[0;32m--> 994\u001b[0;31m         \u001b[0mresult\u001b[0m \u001b[0;34m=\u001b[0m \u001b[0mself\u001b[0m\u001b[0;34m.\u001b[0m\u001b[0m_aggregate_series_pure_python\u001b[0m\u001b[0;34m(\u001b[0m\u001b[0mobj\u001b[0m\u001b[0;34m,\u001b[0m \u001b[0mfunc\u001b[0m\u001b[0;34m)\u001b[0m\u001b[0;34m\u001b[0m\u001b[0;34m\u001b[0m\u001b[0m\n\u001b[0m\u001b[1;32m    995\u001b[0m \u001b[0;34m\u001b[0m\u001b[0m\n\u001b[1;32m    996\u001b[0m         \u001b[0mnpvalues\u001b[0m \u001b[0;34m=\u001b[0m \u001b[0mlib\u001b[0m\u001b[0;34m.\u001b[0m\u001b[0mmaybe_convert_objects\u001b[0m\u001b[0;34m(\u001b[0m\u001b[0mresult\u001b[0m\u001b[0;34m,\u001b[0m \u001b[0mtry_float\u001b[0m\u001b[0;34m=\u001b[0m\u001b[0;32mFalse\u001b[0m\u001b[0;34m)\u001b[0m\u001b[0;34m\u001b[0m\u001b[0;34m\u001b[0m\u001b[0m\n",
      "\u001b[0;32m~/.local/lib/python3.8/site-packages/pandas/core/groupby/ops.py\u001b[0m in \u001b[0;36m_aggregate_series_pure_python\u001b[0;34m(self, obj, func)\u001b[0m\n\u001b[1;32m   1013\u001b[0m \u001b[0;34m\u001b[0m\u001b[0m\n\u001b[1;32m   1014\u001b[0m         \u001b[0;32mfor\u001b[0m \u001b[0mi\u001b[0m\u001b[0;34m,\u001b[0m \u001b[0mgroup\u001b[0m \u001b[0;32min\u001b[0m \u001b[0menumerate\u001b[0m\u001b[0;34m(\u001b[0m\u001b[0msplitter\u001b[0m\u001b[0;34m)\u001b[0m\u001b[0;34m:\u001b[0m\u001b[0;34m\u001b[0m\u001b[0;34m\u001b[0m\u001b[0m\n\u001b[0;32m-> 1015\u001b[0;31m             \u001b[0mres\u001b[0m \u001b[0;34m=\u001b[0m \u001b[0mfunc\u001b[0m\u001b[0;34m(\u001b[0m\u001b[0mgroup\u001b[0m\u001b[0;34m)\u001b[0m\u001b[0;34m\u001b[0m\u001b[0;34m\u001b[0m\u001b[0m\n\u001b[0m\u001b[1;32m   1016\u001b[0m             \u001b[0mres\u001b[0m \u001b[0;34m=\u001b[0m \u001b[0mlibreduction\u001b[0m\u001b[0;34m.\u001b[0m\u001b[0mextract_result\u001b[0m\u001b[0;34m(\u001b[0m\u001b[0mres\u001b[0m\u001b[0;34m)\u001b[0m\u001b[0;34m\u001b[0m\u001b[0;34m\u001b[0m\u001b[0m\n\u001b[1;32m   1017\u001b[0m \u001b[0;34m\u001b[0m\u001b[0m\n",
      "\u001b[0;32m~/.local/lib/python3.8/site-packages/pandas/core/groupby/groupby.py\u001b[0m in \u001b[0;36m<lambda>\u001b[0;34m(x)\u001b[0m\n\u001b[1;32m   1855\u001b[0m             result = self._cython_agg_general(\n\u001b[1;32m   1856\u001b[0m                 \u001b[0;34m\"mean\"\u001b[0m\u001b[0;34m,\u001b[0m\u001b[0;34m\u001b[0m\u001b[0;34m\u001b[0m\u001b[0m\n\u001b[0;32m-> 1857\u001b[0;31m                 \u001b[0malt\u001b[0m\u001b[0;34m=\u001b[0m\u001b[0;32mlambda\u001b[0m \u001b[0mx\u001b[0m\u001b[0;34m:\u001b[0m \u001b[0mSeries\u001b[0m\u001b[0;34m(\u001b[0m\u001b[0mx\u001b[0m\u001b[0;34m)\u001b[0m\u001b[0;34m.\u001b[0m\u001b[0mmean\u001b[0m\u001b[0;34m(\u001b[0m\u001b[0mnumeric_only\u001b[0m\u001b[0;34m=\u001b[0m\u001b[0mnumeric_only\u001b[0m\u001b[0;34m)\u001b[0m\u001b[0;34m,\u001b[0m\u001b[0;34m\u001b[0m\u001b[0;34m\u001b[0m\u001b[0m\n\u001b[0m\u001b[1;32m   1858\u001b[0m                 \u001b[0mnumeric_only\u001b[0m\u001b[0;34m=\u001b[0m\u001b[0mnumeric_only\u001b[0m\u001b[0;34m,\u001b[0m\u001b[0;34m\u001b[0m\u001b[0;34m\u001b[0m\u001b[0m\n\u001b[1;32m   1859\u001b[0m             )\n",
      "\u001b[0;32m~/.local/lib/python3.8/site-packages/pandas/core/generic.py\u001b[0m in \u001b[0;36mmean\u001b[0;34m(self, axis, skipna, numeric_only, **kwargs)\u001b[0m\n\u001b[1;32m  11554\u001b[0m             \u001b[0;34m**\u001b[0m\u001b[0mkwargs\u001b[0m\u001b[0;34m,\u001b[0m\u001b[0;34m\u001b[0m\u001b[0;34m\u001b[0m\u001b[0m\n\u001b[1;32m  11555\u001b[0m         ):\n\u001b[0;32m> 11556\u001b[0;31m             \u001b[0;32mreturn\u001b[0m \u001b[0mNDFrame\u001b[0m\u001b[0;34m.\u001b[0m\u001b[0mmean\u001b[0m\u001b[0;34m(\u001b[0m\u001b[0mself\u001b[0m\u001b[0;34m,\u001b[0m \u001b[0maxis\u001b[0m\u001b[0;34m,\u001b[0m \u001b[0mskipna\u001b[0m\u001b[0;34m,\u001b[0m \u001b[0mnumeric_only\u001b[0m\u001b[0;34m,\u001b[0m \u001b[0;34m**\u001b[0m\u001b[0mkwargs\u001b[0m\u001b[0;34m)\u001b[0m\u001b[0;34m\u001b[0m\u001b[0;34m\u001b[0m\u001b[0m\n\u001b[0m\u001b[1;32m  11557\u001b[0m \u001b[0;34m\u001b[0m\u001b[0m\n\u001b[1;32m  11558\u001b[0m         \u001b[0msetattr\u001b[0m\u001b[0;34m(\u001b[0m\u001b[0mcls\u001b[0m\u001b[0;34m,\u001b[0m \u001b[0;34m\"mean\"\u001b[0m\u001b[0;34m,\u001b[0m \u001b[0mmean\u001b[0m\u001b[0;34m)\u001b[0m\u001b[0;34m\u001b[0m\u001b[0;34m\u001b[0m\u001b[0m\n",
      "\u001b[0;32m~/.local/lib/python3.8/site-packages/pandas/core/generic.py\u001b[0m in \u001b[0;36mmean\u001b[0;34m(self, axis, skipna, numeric_only, **kwargs)\u001b[0m\n\u001b[1;32m  11199\u001b[0m         \u001b[0;34m**\u001b[0m\u001b[0mkwargs\u001b[0m\u001b[0;34m,\u001b[0m\u001b[0;34m\u001b[0m\u001b[0;34m\u001b[0m\u001b[0m\n\u001b[1;32m  11200\u001b[0m     ) -> Series | float:\n\u001b[0;32m> 11201\u001b[0;31m         return self._stat_function(\n\u001b[0m\u001b[1;32m  11202\u001b[0m             \u001b[0;34m\"mean\"\u001b[0m\u001b[0;34m,\u001b[0m \u001b[0mnanops\u001b[0m\u001b[0;34m.\u001b[0m\u001b[0mnanmean\u001b[0m\u001b[0;34m,\u001b[0m \u001b[0maxis\u001b[0m\u001b[0;34m,\u001b[0m \u001b[0mskipna\u001b[0m\u001b[0;34m,\u001b[0m \u001b[0mnumeric_only\u001b[0m\u001b[0;34m,\u001b[0m \u001b[0;34m**\u001b[0m\u001b[0mkwargs\u001b[0m\u001b[0;34m\u001b[0m\u001b[0;34m\u001b[0m\u001b[0m\n\u001b[1;32m  11203\u001b[0m         )\n",
      "\u001b[0;32m~/.local/lib/python3.8/site-packages/pandas/core/generic.py\u001b[0m in \u001b[0;36m_stat_function\u001b[0;34m(self, name, func, axis, skipna, numeric_only, **kwargs)\u001b[0m\n\u001b[1;32m  11156\u001b[0m         \u001b[0mvalidate_bool_kwarg\u001b[0m\u001b[0;34m(\u001b[0m\u001b[0mskipna\u001b[0m\u001b[0;34m,\u001b[0m \u001b[0;34m\"skipna\"\u001b[0m\u001b[0;34m,\u001b[0m \u001b[0mnone_allowed\u001b[0m\u001b[0;34m=\u001b[0m\u001b[0;32mFalse\u001b[0m\u001b[0;34m)\u001b[0m\u001b[0;34m\u001b[0m\u001b[0;34m\u001b[0m\u001b[0m\n\u001b[1;32m  11157\u001b[0m \u001b[0;34m\u001b[0m\u001b[0m\n\u001b[0;32m> 11158\u001b[0;31m         return self._reduce(\n\u001b[0m\u001b[1;32m  11159\u001b[0m             \u001b[0mfunc\u001b[0m\u001b[0;34m,\u001b[0m \u001b[0mname\u001b[0m\u001b[0;34m=\u001b[0m\u001b[0mname\u001b[0m\u001b[0;34m,\u001b[0m \u001b[0maxis\u001b[0m\u001b[0;34m=\u001b[0m\u001b[0maxis\u001b[0m\u001b[0;34m,\u001b[0m \u001b[0mskipna\u001b[0m\u001b[0;34m=\u001b[0m\u001b[0mskipna\u001b[0m\u001b[0;34m,\u001b[0m \u001b[0mnumeric_only\u001b[0m\u001b[0;34m=\u001b[0m\u001b[0mnumeric_only\u001b[0m\u001b[0;34m\u001b[0m\u001b[0;34m\u001b[0m\u001b[0m\n\u001b[1;32m  11160\u001b[0m         )\n",
      "\u001b[0;32m~/.local/lib/python3.8/site-packages/pandas/core/series.py\u001b[0m in \u001b[0;36m_reduce\u001b[0;34m(self, op, name, axis, skipna, numeric_only, filter_type, **kwds)\u001b[0m\n\u001b[1;32m   4668\u001b[0m                 )\n\u001b[1;32m   4669\u001b[0m             \u001b[0;32mwith\u001b[0m \u001b[0mnp\u001b[0m\u001b[0;34m.\u001b[0m\u001b[0merrstate\u001b[0m\u001b[0;34m(\u001b[0m\u001b[0mall\u001b[0m\u001b[0;34m=\u001b[0m\u001b[0;34m\"ignore\"\u001b[0m\u001b[0;34m)\u001b[0m\u001b[0;34m:\u001b[0m\u001b[0;34m\u001b[0m\u001b[0;34m\u001b[0m\u001b[0m\n\u001b[0;32m-> 4670\u001b[0;31m                 \u001b[0;32mreturn\u001b[0m \u001b[0mop\u001b[0m\u001b[0;34m(\u001b[0m\u001b[0mdelegate\u001b[0m\u001b[0;34m,\u001b[0m \u001b[0mskipna\u001b[0m\u001b[0;34m=\u001b[0m\u001b[0mskipna\u001b[0m\u001b[0;34m,\u001b[0m \u001b[0;34m**\u001b[0m\u001b[0mkwds\u001b[0m\u001b[0;34m)\u001b[0m\u001b[0;34m\u001b[0m\u001b[0;34m\u001b[0m\u001b[0m\n\u001b[0m\u001b[1;32m   4671\u001b[0m \u001b[0;34m\u001b[0m\u001b[0m\n\u001b[1;32m   4672\u001b[0m     def _reindex_indexer(\n",
      "\u001b[0;32m~/.local/lib/python3.8/site-packages/pandas/core/nanops.py\u001b[0m in \u001b[0;36m_f\u001b[0;34m(*args, **kwargs)\u001b[0m\n\u001b[1;32m     94\u001b[0m             \u001b[0;32mtry\u001b[0m\u001b[0;34m:\u001b[0m\u001b[0;34m\u001b[0m\u001b[0;34m\u001b[0m\u001b[0m\n\u001b[1;32m     95\u001b[0m                 \u001b[0;32mwith\u001b[0m \u001b[0mnp\u001b[0m\u001b[0;34m.\u001b[0m\u001b[0merrstate\u001b[0m\u001b[0;34m(\u001b[0m\u001b[0minvalid\u001b[0m\u001b[0;34m=\u001b[0m\u001b[0;34m\"ignore\"\u001b[0m\u001b[0;34m)\u001b[0m\u001b[0;34m:\u001b[0m\u001b[0;34m\u001b[0m\u001b[0;34m\u001b[0m\u001b[0m\n\u001b[0;32m---> 96\u001b[0;31m                     \u001b[0;32mreturn\u001b[0m \u001b[0mf\u001b[0m\u001b[0;34m(\u001b[0m\u001b[0;34m*\u001b[0m\u001b[0margs\u001b[0m\u001b[0;34m,\u001b[0m \u001b[0;34m**\u001b[0m\u001b[0mkwargs\u001b[0m\u001b[0;34m)\u001b[0m\u001b[0;34m\u001b[0m\u001b[0;34m\u001b[0m\u001b[0m\n\u001b[0m\u001b[1;32m     97\u001b[0m             \u001b[0;32mexcept\u001b[0m \u001b[0mValueError\u001b[0m \u001b[0;32mas\u001b[0m \u001b[0me\u001b[0m\u001b[0;34m:\u001b[0m\u001b[0;34m\u001b[0m\u001b[0;34m\u001b[0m\u001b[0m\n\u001b[1;32m     98\u001b[0m                 \u001b[0;31m# we want to transform an object array\u001b[0m\u001b[0;34m\u001b[0m\u001b[0;34m\u001b[0m\u001b[0;34m\u001b[0m\u001b[0m\n",
      "\u001b[0;32m~/.local/lib/python3.8/site-packages/pandas/core/nanops.py\u001b[0m in \u001b[0;36mf\u001b[0;34m(values, axis, skipna, **kwds)\u001b[0m\n\u001b[1;32m    156\u001b[0m                     \u001b[0mresult\u001b[0m \u001b[0;34m=\u001b[0m \u001b[0malt\u001b[0m\u001b[0;34m(\u001b[0m\u001b[0mvalues\u001b[0m\u001b[0;34m,\u001b[0m \u001b[0maxis\u001b[0m\u001b[0;34m=\u001b[0m\u001b[0maxis\u001b[0m\u001b[0;34m,\u001b[0m \u001b[0mskipna\u001b[0m\u001b[0;34m=\u001b[0m\u001b[0mskipna\u001b[0m\u001b[0;34m,\u001b[0m \u001b[0;34m**\u001b[0m\u001b[0mkwds\u001b[0m\u001b[0;34m)\u001b[0m\u001b[0;34m\u001b[0m\u001b[0;34m\u001b[0m\u001b[0m\n\u001b[1;32m    157\u001b[0m             \u001b[0;32melse\u001b[0m\u001b[0;34m:\u001b[0m\u001b[0;34m\u001b[0m\u001b[0;34m\u001b[0m\u001b[0m\n\u001b[0;32m--> 158\u001b[0;31m                 \u001b[0mresult\u001b[0m \u001b[0;34m=\u001b[0m \u001b[0malt\u001b[0m\u001b[0;34m(\u001b[0m\u001b[0mvalues\u001b[0m\u001b[0;34m,\u001b[0m \u001b[0maxis\u001b[0m\u001b[0;34m=\u001b[0m\u001b[0maxis\u001b[0m\u001b[0;34m,\u001b[0m \u001b[0mskipna\u001b[0m\u001b[0;34m=\u001b[0m\u001b[0mskipna\u001b[0m\u001b[0;34m,\u001b[0m \u001b[0;34m**\u001b[0m\u001b[0mkwds\u001b[0m\u001b[0;34m)\u001b[0m\u001b[0;34m\u001b[0m\u001b[0;34m\u001b[0m\u001b[0m\n\u001b[0m\u001b[1;32m    159\u001b[0m \u001b[0;34m\u001b[0m\u001b[0m\n\u001b[1;32m    160\u001b[0m             \u001b[0;32mreturn\u001b[0m \u001b[0mresult\u001b[0m\u001b[0;34m\u001b[0m\u001b[0;34m\u001b[0m\u001b[0m\n",
      "\u001b[0;32m~/.local/lib/python3.8/site-packages/pandas/core/nanops.py\u001b[0m in \u001b[0;36mnew_func\u001b[0;34m(values, axis, skipna, mask, **kwargs)\u001b[0m\n\u001b[1;32m    419\u001b[0m             \u001b[0mmask\u001b[0m \u001b[0;34m=\u001b[0m \u001b[0misna\u001b[0m\u001b[0;34m(\u001b[0m\u001b[0mvalues\u001b[0m\u001b[0;34m)\u001b[0m\u001b[0;34m\u001b[0m\u001b[0;34m\u001b[0m\u001b[0m\n\u001b[1;32m    420\u001b[0m \u001b[0;34m\u001b[0m\u001b[0m\n\u001b[0;32m--> 421\u001b[0;31m         \u001b[0mresult\u001b[0m \u001b[0;34m=\u001b[0m \u001b[0mfunc\u001b[0m\u001b[0;34m(\u001b[0m\u001b[0mvalues\u001b[0m\u001b[0;34m,\u001b[0m \u001b[0maxis\u001b[0m\u001b[0;34m=\u001b[0m\u001b[0maxis\u001b[0m\u001b[0;34m,\u001b[0m \u001b[0mskipna\u001b[0m\u001b[0;34m=\u001b[0m\u001b[0mskipna\u001b[0m\u001b[0;34m,\u001b[0m \u001b[0mmask\u001b[0m\u001b[0;34m=\u001b[0m\u001b[0mmask\u001b[0m\u001b[0;34m,\u001b[0m \u001b[0;34m**\u001b[0m\u001b[0mkwargs\u001b[0m\u001b[0;34m)\u001b[0m\u001b[0;34m\u001b[0m\u001b[0;34m\u001b[0m\u001b[0m\n\u001b[0m\u001b[1;32m    422\u001b[0m \u001b[0;34m\u001b[0m\u001b[0m\n\u001b[1;32m    423\u001b[0m         \u001b[0;32mif\u001b[0m \u001b[0mdatetimelike\u001b[0m\u001b[0;34m:\u001b[0m\u001b[0;34m\u001b[0m\u001b[0;34m\u001b[0m\u001b[0m\n",
      "\u001b[0;32m~/.local/lib/python3.8/site-packages/pandas/core/nanops.py\u001b[0m in \u001b[0;36mnanmean\u001b[0;34m(values, axis, skipna, mask)\u001b[0m\n\u001b[1;32m    725\u001b[0m \u001b[0;34m\u001b[0m\u001b[0m\n\u001b[1;32m    726\u001b[0m     \u001b[0mcount\u001b[0m \u001b[0;34m=\u001b[0m \u001b[0m_get_counts\u001b[0m\u001b[0;34m(\u001b[0m\u001b[0mvalues\u001b[0m\u001b[0;34m.\u001b[0m\u001b[0mshape\u001b[0m\u001b[0;34m,\u001b[0m \u001b[0mmask\u001b[0m\u001b[0;34m,\u001b[0m \u001b[0maxis\u001b[0m\u001b[0;34m,\u001b[0m \u001b[0mdtype\u001b[0m\u001b[0;34m=\u001b[0m\u001b[0mdtype_count\u001b[0m\u001b[0;34m)\u001b[0m\u001b[0;34m\u001b[0m\u001b[0;34m\u001b[0m\u001b[0m\n\u001b[0;32m--> 727\u001b[0;31m     \u001b[0mthe_sum\u001b[0m \u001b[0;34m=\u001b[0m \u001b[0m_ensure_numeric\u001b[0m\u001b[0;34m(\u001b[0m\u001b[0mvalues\u001b[0m\u001b[0;34m.\u001b[0m\u001b[0msum\u001b[0m\u001b[0;34m(\u001b[0m\u001b[0maxis\u001b[0m\u001b[0;34m,\u001b[0m \u001b[0mdtype\u001b[0m\u001b[0;34m=\u001b[0m\u001b[0mdtype_sum\u001b[0m\u001b[0;34m)\u001b[0m\u001b[0;34m)\u001b[0m\u001b[0;34m\u001b[0m\u001b[0;34m\u001b[0m\u001b[0m\n\u001b[0m\u001b[1;32m    728\u001b[0m \u001b[0;34m\u001b[0m\u001b[0m\n\u001b[1;32m    729\u001b[0m     \u001b[0;32mif\u001b[0m \u001b[0maxis\u001b[0m \u001b[0;32mis\u001b[0m \u001b[0;32mnot\u001b[0m \u001b[0;32mNone\u001b[0m \u001b[0;32mand\u001b[0m \u001b[0mgetattr\u001b[0m\u001b[0;34m(\u001b[0m\u001b[0mthe_sum\u001b[0m\u001b[0;34m,\u001b[0m \u001b[0;34m\"ndim\"\u001b[0m\u001b[0;34m,\u001b[0m \u001b[0;32mFalse\u001b[0m\u001b[0;34m)\u001b[0m\u001b[0;34m:\u001b[0m\u001b[0;34m\u001b[0m\u001b[0;34m\u001b[0m\u001b[0m\n",
      "\u001b[0;32m~/.local/lib/python3.8/site-packages/pandas/core/nanops.py\u001b[0m in \u001b[0;36m_ensure_numeric\u001b[0;34m(x)\u001b[0m\n\u001b[1;32m   1697\u001b[0m             \u001b[0;32mexcept\u001b[0m \u001b[0mValueError\u001b[0m \u001b[0;32mas\u001b[0m \u001b[0merr\u001b[0m\u001b[0;34m:\u001b[0m\u001b[0;34m\u001b[0m\u001b[0;34m\u001b[0m\u001b[0m\n\u001b[1;32m   1698\u001b[0m                 \u001b[0;31m# e.g. \"foo\"\u001b[0m\u001b[0;34m\u001b[0m\u001b[0;34m\u001b[0m\u001b[0;34m\u001b[0m\u001b[0m\n\u001b[0;32m-> 1699\u001b[0;31m                 \u001b[0;32mraise\u001b[0m \u001b[0mTypeError\u001b[0m\u001b[0;34m(\u001b[0m\u001b[0;34mf\"Could not convert {x} to numeric\"\u001b[0m\u001b[0;34m)\u001b[0m \u001b[0;32mfrom\u001b[0m \u001b[0merr\u001b[0m\u001b[0;34m\u001b[0m\u001b[0;34m\u001b[0m\u001b[0m\n\u001b[0m\u001b[1;32m   1700\u001b[0m     \u001b[0;32mreturn\u001b[0m \u001b[0mx\u001b[0m\u001b[0;34m\u001b[0m\u001b[0;34m\u001b[0m\u001b[0m\n\u001b[1;32m   1701\u001b[0m \u001b[0;34m\u001b[0m\u001b[0m\n",
      "\u001b[0;31mTypeError\u001b[0m: Could not convert 10-Apr1-May8-May15-May12-Jun26-Jun10-Jul17-Jul31-Jul14-Aug21-Aug28-Aug4-Sep11-Sep18-Sep25-Sep2-Oct23-Oct to numeric"
     ]
    }
   ],
   "source": [
    "# We can color cells of a table according to their values\n",
    "import time\n",
    "\n",
    "\n",
    "df = NY_bicycle\n",
    "df['WkDay']=[time.strptime(i, '%A').tm_wday for i in NY_bicycle.Day] # add a new column that presents the numerical value of week days\n",
    "df_sort = df.groupby(['WkDay','Day','Weather']).mean().iloc[:,range(3,7)] #group data at four bridges by WkDay, Day, and Weather, and then calcualte the mean value for each group\n",
    "df_sort.index =df_sort.index.droplevel(0) # drop the first index \"Wkday\"\n",
    "print(df_sort.round(1)) # take a look at the data we prepared\n",
    "df_sort.style.format('{:.2f}').background_gradient(cmap='PuBu')# style.background_gradient() colors the background in a gradient style. style.format() defines the data format\n",
    "#df_sort.to_excel('x.xlsx')"
   ]
  },
  {
   "cell_type": "markdown",
   "metadata": {
    "id": "Pso4o0iMKrub"
   },
   "source": [
    "## Color Bar"
   ]
  },
  {
   "cell_type": "code",
   "execution_count": null,
   "metadata": {
    "colab": {
     "base_uri": "https://localhost:8080/",
     "height": 392
    },
    "executionInfo": {
     "elapsed": 11,
     "status": "ok",
     "timestamp": 1695075475547,
     "user": {
      "displayName": "Ruwen Qin",
      "userId": "01885423067234457717"
     },
     "user_tz": 240
    },
    "id": "V7-jUv-2KE2V",
    "outputId": "88ead533-24c0-4b82-e011-5fa1fe57b651"
   },
   "outputs": [],
   "source": [
    "# We can add colored bar to cells to vidualize their values\n",
    "import time\n",
    "df = NY_bicycle\n",
    "df['WkDay']=[time.strptime(i, '%A').tm_wday for i in NY_bicycle.Day]\n",
    "df_sort = df.groupby(['WkDay','Day']).mean().iloc[:,range(3,8)].round(2)\n",
    "df_sort.columns=['Brooklyn','Manhattan','Williamsburg','Queensboro','Daily Total']\n",
    "df_sort['Dev Daily Total']=(df_sort['Daily Total']-NY_bicycle.Total.mean()).round(2) # add a new column to show the deviation of \"Daily Total\" from its mean value\n",
    "df_sort.index =df_sort.index.droplevel(0)\n",
    "df_sort.style.format('{:.1f}').bar(subset='Dev Daily Total', align='zero', color=['#d65f5f', '#5fba7d']) # style.bar() adds bar to selected columns"
   ]
  }
 ],
 "metadata": {
  "colab": {
   "authorship_tag": "ABX9TyNUwTx0Vw95nMIPPNWqgAoW",
   "provenance": [],
   "toc_visible": true
  },
  "kernelspec": {
   "display_name": "Python 3",
   "language": "python",
   "name": "python3"
  },
  "language_info": {
   "codemirror_mode": {
    "name": "ipython",
    "version": 3
   },
   "file_extension": ".py",
   "mimetype": "text/x-python",
   "name": "python",
   "nbconvert_exporter": "python",
   "pygments_lexer": "ipython3",
   "version": "3.8.8"
  },
  "toc": {
   "base_numbering": 1,
   "nav_menu": {},
   "number_sections": false,
   "sideBar": true,
   "skip_h1_title": false,
   "title_cell": "Module 1: Data Understanding and Summary",
   "title_sidebar": "Contents",
   "toc_cell": true,
   "toc_position": {
    "height": "calc(100% - 180px)",
    "left": "10px",
    "top": "150px",
    "width": "320px"
   },
   "toc_section_display": true,
   "toc_window_display": true
  },
  "varInspector": {
   "cols": {
    "lenName": 16,
    "lenType": 16,
    "lenVar": 40
   },
   "kernels_config": {
    "python": {
     "delete_cmd_postfix": "",
     "delete_cmd_prefix": "del ",
     "library": "var_list.py",
     "varRefreshCmd": "print(var_dic_list())"
    },
    "r": {
     "delete_cmd_postfix": ") ",
     "delete_cmd_prefix": "rm(",
     "library": "var_list.r",
     "varRefreshCmd": "cat(var_dic_list()) "
    }
   },
   "types_to_exclude": [
    "module",
    "function",
    "builtin_function_or_method",
    "instance",
    "_Feature"
   ],
   "window_display": false
  }
 },
 "nbformat": 4,
 "nbformat_minor": 1
}
